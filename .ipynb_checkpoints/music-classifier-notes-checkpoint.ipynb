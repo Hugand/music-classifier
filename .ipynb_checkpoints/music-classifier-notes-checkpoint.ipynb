{
 "cells": [
  {
   "cell_type": "code",
   "execution_count": 258,
   "id": "e3fc829b",
   "metadata": {},
   "outputs": [],
   "source": [
    "import pandas as pd\n",
    "import numpy as np\n",
    "import matplotlib.pyplot as plt\n",
    "import librosa\n",
    "import seaborn as sns\n",
    "from sklearn.preprocessing import LabelEncoder, StandardScaler\n",
    "from tensorflow import keras\n",
    "from keras.callbacks import EarlyStopping\n",
    "from keras.layers import Dense, Input, Dropout, BatchNormalization, Conv1D, MaxPooling1D, Flatten\n",
    "from sklearn.utils import shuffle\n",
    "from sklearn.model_selection import train_test_split\n",
    "from sklearn.metrics import ConfusionMatrixDisplay, f1_score, accuracy_score, mean_squared_error, confusion_matrix\n",
    "\n",
    "from sklearn.neighbors import KNeighborsClassifier\n",
    "from sklearn.tree import DecisionTreeClassifier\n",
    "from sklearn.ensemble import RandomForestClassifier\n",
    "from sklearn.svm import SVC\n",
    "from sklearn.naive_bayes import GaussianNB\n",
    "from sklearn.decomposition import PCA\n",
    "\n",
    "from gaose.GAOSE import GAOSE\n",
    "#import xgboost as xgb"
   ]
  },
  {
   "cell_type": "markdown",
   "id": "136a5cd8",
   "metadata": {},
   "source": [
    "# 1 - Load dataset\n",
    "For now I'll work with 3 second samples. Later might try with 5sec samples"
   ]
  },
  {
   "cell_type": "code",
   "execution_count": 242,
   "id": "7c2839bf",
   "metadata": {},
   "outputs": [
    {
     "data": {
      "text/html": [
       "<div>\n",
       "<style scoped>\n",
       "    .dataframe tbody tr th:only-of-type {\n",
       "        vertical-align: middle;\n",
       "    }\n",
       "\n",
       "    .dataframe tbody tr th {\n",
       "        vertical-align: top;\n",
       "    }\n",
       "\n",
       "    .dataframe thead th {\n",
       "        text-align: right;\n",
       "    }\n",
       "</style>\n",
       "<table border=\"1\" class=\"dataframe\">\n",
       "  <thead>\n",
       "    <tr style=\"text-align: right;\">\n",
       "      <th></th>\n",
       "      <th>filename</th>\n",
       "      <th>length</th>\n",
       "      <th>chroma_stft_mean</th>\n",
       "      <th>chroma_stft_var</th>\n",
       "      <th>rms_mean</th>\n",
       "      <th>rms_var</th>\n",
       "      <th>spectral_centroid_mean</th>\n",
       "      <th>spectral_centroid_var</th>\n",
       "      <th>spectral_bandwidth_mean</th>\n",
       "      <th>spectral_bandwidth_var</th>\n",
       "      <th>...</th>\n",
       "      <th>mfcc16_var</th>\n",
       "      <th>mfcc17_mean</th>\n",
       "      <th>mfcc17_var</th>\n",
       "      <th>mfcc18_mean</th>\n",
       "      <th>mfcc18_var</th>\n",
       "      <th>mfcc19_mean</th>\n",
       "      <th>mfcc19_var</th>\n",
       "      <th>mfcc20_mean</th>\n",
       "      <th>mfcc20_var</th>\n",
       "      <th>label</th>\n",
       "    </tr>\n",
       "  </thead>\n",
       "  <tbody>\n",
       "    <tr>\n",
       "      <th>0</th>\n",
       "      <td>blues.00000.0.wav</td>\n",
       "      <td>66149</td>\n",
       "      <td>0.335406</td>\n",
       "      <td>0.091048</td>\n",
       "      <td>0.130405</td>\n",
       "      <td>0.003521</td>\n",
       "      <td>1773.065032</td>\n",
       "      <td>167541.630869</td>\n",
       "      <td>1972.744388</td>\n",
       "      <td>117335.771563</td>\n",
       "      <td>...</td>\n",
       "      <td>39.687145</td>\n",
       "      <td>-3.241280</td>\n",
       "      <td>36.488243</td>\n",
       "      <td>0.722209</td>\n",
       "      <td>38.099152</td>\n",
       "      <td>-5.050335</td>\n",
       "      <td>33.618073</td>\n",
       "      <td>-0.243027</td>\n",
       "      <td>43.771767</td>\n",
       "      <td>blues</td>\n",
       "    </tr>\n",
       "    <tr>\n",
       "      <th>1</th>\n",
       "      <td>blues.00000.1.wav</td>\n",
       "      <td>66149</td>\n",
       "      <td>0.343065</td>\n",
       "      <td>0.086147</td>\n",
       "      <td>0.112699</td>\n",
       "      <td>0.001450</td>\n",
       "      <td>1816.693777</td>\n",
       "      <td>90525.690866</td>\n",
       "      <td>2010.051501</td>\n",
       "      <td>65671.875673</td>\n",
       "      <td>...</td>\n",
       "      <td>64.748276</td>\n",
       "      <td>-6.055294</td>\n",
       "      <td>40.677654</td>\n",
       "      <td>0.159015</td>\n",
       "      <td>51.264091</td>\n",
       "      <td>-2.837699</td>\n",
       "      <td>97.030830</td>\n",
       "      <td>5.784063</td>\n",
       "      <td>59.943081</td>\n",
       "      <td>blues</td>\n",
       "    </tr>\n",
       "    <tr>\n",
       "      <th>2</th>\n",
       "      <td>blues.00000.2.wav</td>\n",
       "      <td>66149</td>\n",
       "      <td>0.346815</td>\n",
       "      <td>0.092243</td>\n",
       "      <td>0.132003</td>\n",
       "      <td>0.004620</td>\n",
       "      <td>1788.539719</td>\n",
       "      <td>111407.437613</td>\n",
       "      <td>2084.565132</td>\n",
       "      <td>75124.921716</td>\n",
       "      <td>...</td>\n",
       "      <td>67.336563</td>\n",
       "      <td>-1.768610</td>\n",
       "      <td>28.348579</td>\n",
       "      <td>2.378768</td>\n",
       "      <td>45.717648</td>\n",
       "      <td>-1.938424</td>\n",
       "      <td>53.050835</td>\n",
       "      <td>2.517375</td>\n",
       "      <td>33.105122</td>\n",
       "      <td>blues</td>\n",
       "    </tr>\n",
       "    <tr>\n",
       "      <th>3</th>\n",
       "      <td>blues.00000.3.wav</td>\n",
       "      <td>66149</td>\n",
       "      <td>0.363639</td>\n",
       "      <td>0.086856</td>\n",
       "      <td>0.132565</td>\n",
       "      <td>0.002448</td>\n",
       "      <td>1655.289045</td>\n",
       "      <td>111952.284517</td>\n",
       "      <td>1960.039988</td>\n",
       "      <td>82913.639269</td>\n",
       "      <td>...</td>\n",
       "      <td>47.739452</td>\n",
       "      <td>-3.841155</td>\n",
       "      <td>28.337118</td>\n",
       "      <td>1.218588</td>\n",
       "      <td>34.770935</td>\n",
       "      <td>-3.580352</td>\n",
       "      <td>50.836224</td>\n",
       "      <td>3.630866</td>\n",
       "      <td>32.023678</td>\n",
       "      <td>blues</td>\n",
       "    </tr>\n",
       "    <tr>\n",
       "      <th>4</th>\n",
       "      <td>blues.00000.4.wav</td>\n",
       "      <td>66149</td>\n",
       "      <td>0.335579</td>\n",
       "      <td>0.088129</td>\n",
       "      <td>0.143289</td>\n",
       "      <td>0.001701</td>\n",
       "      <td>1630.656199</td>\n",
       "      <td>79667.267654</td>\n",
       "      <td>1948.503884</td>\n",
       "      <td>60204.020268</td>\n",
       "      <td>...</td>\n",
       "      <td>30.336359</td>\n",
       "      <td>0.664582</td>\n",
       "      <td>45.880913</td>\n",
       "      <td>1.689446</td>\n",
       "      <td>51.363583</td>\n",
       "      <td>-3.392489</td>\n",
       "      <td>26.738789</td>\n",
       "      <td>0.536961</td>\n",
       "      <td>29.146694</td>\n",
       "      <td>blues</td>\n",
       "    </tr>\n",
       "  </tbody>\n",
       "</table>\n",
       "<p>5 rows × 60 columns</p>\n",
       "</div>"
      ],
      "text/plain": [
       "            filename  length  chroma_stft_mean  chroma_stft_var  rms_mean  \\\n",
       "0  blues.00000.0.wav   66149          0.335406         0.091048  0.130405   \n",
       "1  blues.00000.1.wav   66149          0.343065         0.086147  0.112699   \n",
       "2  blues.00000.2.wav   66149          0.346815         0.092243  0.132003   \n",
       "3  blues.00000.3.wav   66149          0.363639         0.086856  0.132565   \n",
       "4  blues.00000.4.wav   66149          0.335579         0.088129  0.143289   \n",
       "\n",
       "    rms_var  spectral_centroid_mean  spectral_centroid_var  \\\n",
       "0  0.003521             1773.065032          167541.630869   \n",
       "1  0.001450             1816.693777           90525.690866   \n",
       "2  0.004620             1788.539719          111407.437613   \n",
       "3  0.002448             1655.289045          111952.284517   \n",
       "4  0.001701             1630.656199           79667.267654   \n",
       "\n",
       "   spectral_bandwidth_mean  spectral_bandwidth_var  ...  mfcc16_var  \\\n",
       "0              1972.744388           117335.771563  ...   39.687145   \n",
       "1              2010.051501            65671.875673  ...   64.748276   \n",
       "2              2084.565132            75124.921716  ...   67.336563   \n",
       "3              1960.039988            82913.639269  ...   47.739452   \n",
       "4              1948.503884            60204.020268  ...   30.336359   \n",
       "\n",
       "   mfcc17_mean  mfcc17_var  mfcc18_mean  mfcc18_var  mfcc19_mean  mfcc19_var  \\\n",
       "0    -3.241280   36.488243     0.722209   38.099152    -5.050335   33.618073   \n",
       "1    -6.055294   40.677654     0.159015   51.264091    -2.837699   97.030830   \n",
       "2    -1.768610   28.348579     2.378768   45.717648    -1.938424   53.050835   \n",
       "3    -3.841155   28.337118     1.218588   34.770935    -3.580352   50.836224   \n",
       "4     0.664582   45.880913     1.689446   51.363583    -3.392489   26.738789   \n",
       "\n",
       "   mfcc20_mean  mfcc20_var  label  \n",
       "0    -0.243027   43.771767  blues  \n",
       "1     5.784063   59.943081  blues  \n",
       "2     2.517375   33.105122  blues  \n",
       "3     3.630866   32.023678  blues  \n",
       "4     0.536961   29.146694  blues  \n",
       "\n",
       "[5 rows x 60 columns]"
      ]
     },
     "execution_count": 242,
     "metadata": {},
     "output_type": "execute_result"
    }
   ],
   "source": [
    "features_3_sec = pd.read_csv('./Data/features_3_sec.csv')\n",
    "#features_30_sec = pd.read_csv('./Data/features_30_sec.csv')\n",
    "features_3_sec.head()"
   ]
  },
  {
   "cell_type": "code",
   "execution_count": 210,
   "id": "59a56d31",
   "metadata": {},
   "outputs": [
    {
     "data": {
      "text/html": [
       "<div>\n",
       "<style scoped>\n",
       "    .dataframe tbody tr th:only-of-type {\n",
       "        vertical-align: middle;\n",
       "    }\n",
       "\n",
       "    .dataframe tbody tr th {\n",
       "        vertical-align: top;\n",
       "    }\n",
       "\n",
       "    .dataframe thead th {\n",
       "        text-align: right;\n",
       "    }\n",
       "</style>\n",
       "<table border=\"1\" class=\"dataframe\">\n",
       "  <thead>\n",
       "    <tr style=\"text-align: right;\">\n",
       "      <th></th>\n",
       "      <th>length</th>\n",
       "      <th>chroma_stft_mean</th>\n",
       "      <th>chroma_stft_var</th>\n",
       "      <th>rms_mean</th>\n",
       "      <th>rms_var</th>\n",
       "      <th>spectral_centroid_mean</th>\n",
       "      <th>spectral_centroid_var</th>\n",
       "      <th>spectral_bandwidth_mean</th>\n",
       "      <th>spectral_bandwidth_var</th>\n",
       "      <th>rolloff_mean</th>\n",
       "      <th>...</th>\n",
       "      <th>mfcc16_mean</th>\n",
       "      <th>mfcc16_var</th>\n",
       "      <th>mfcc17_mean</th>\n",
       "      <th>mfcc17_var</th>\n",
       "      <th>mfcc18_mean</th>\n",
       "      <th>mfcc18_var</th>\n",
       "      <th>mfcc19_mean</th>\n",
       "      <th>mfcc19_var</th>\n",
       "      <th>mfcc20_mean</th>\n",
       "      <th>mfcc20_var</th>\n",
       "    </tr>\n",
       "  </thead>\n",
       "  <tbody>\n",
       "    <tr>\n",
       "      <th>count</th>\n",
       "      <td>9990.0</td>\n",
       "      <td>9990.000000</td>\n",
       "      <td>9990.000000</td>\n",
       "      <td>9990.000000</td>\n",
       "      <td>9.990000e+03</td>\n",
       "      <td>9990.000000</td>\n",
       "      <td>9.990000e+03</td>\n",
       "      <td>9990.000000</td>\n",
       "      <td>9.990000e+03</td>\n",
       "      <td>9990.000000</td>\n",
       "      <td>...</td>\n",
       "      <td>9990.000000</td>\n",
       "      <td>9990.000000</td>\n",
       "      <td>9990.000000</td>\n",
       "      <td>9990.000000</td>\n",
       "      <td>9990.000000</td>\n",
       "      <td>9990.000000</td>\n",
       "      <td>9990.000000</td>\n",
       "      <td>9990.000000</td>\n",
       "      <td>9990.000000</td>\n",
       "      <td>9990.000000</td>\n",
       "    </tr>\n",
       "    <tr>\n",
       "      <th>mean</th>\n",
       "      <td>66149.0</td>\n",
       "      <td>0.379534</td>\n",
       "      <td>0.084876</td>\n",
       "      <td>0.130859</td>\n",
       "      <td>2.676388e-03</td>\n",
       "      <td>2199.219431</td>\n",
       "      <td>4.166727e+05</td>\n",
       "      <td>2241.385959</td>\n",
       "      <td>1.182711e+05</td>\n",
       "      <td>4566.076592</td>\n",
       "      <td>...</td>\n",
       "      <td>1.448240</td>\n",
       "      <td>49.988755</td>\n",
       "      <td>-4.198706</td>\n",
       "      <td>51.962753</td>\n",
       "      <td>0.739943</td>\n",
       "      <td>52.488851</td>\n",
       "      <td>-2.497306</td>\n",
       "      <td>54.973829</td>\n",
       "      <td>-0.917584</td>\n",
       "      <td>57.322614</td>\n",
       "    </tr>\n",
       "    <tr>\n",
       "      <th>std</th>\n",
       "      <td>0.0</td>\n",
       "      <td>0.090466</td>\n",
       "      <td>0.009637</td>\n",
       "      <td>0.068545</td>\n",
       "      <td>3.585628e-03</td>\n",
       "      <td>751.860611</td>\n",
       "      <td>4.349644e+05</td>\n",
       "      <td>543.854449</td>\n",
       "      <td>1.013505e+05</td>\n",
       "      <td>1642.065335</td>\n",
       "      <td>...</td>\n",
       "      <td>5.735149</td>\n",
       "      <td>34.442816</td>\n",
       "      <td>5.677379</td>\n",
       "      <td>36.400669</td>\n",
       "      <td>5.181313</td>\n",
       "      <td>38.177120</td>\n",
       "      <td>5.111799</td>\n",
       "      <td>41.585677</td>\n",
       "      <td>5.253243</td>\n",
       "      <td>46.444212</td>\n",
       "    </tr>\n",
       "    <tr>\n",
       "      <th>min</th>\n",
       "      <td>66149.0</td>\n",
       "      <td>0.107108</td>\n",
       "      <td>0.015345</td>\n",
       "      <td>0.000953</td>\n",
       "      <td>4.379535e-08</td>\n",
       "      <td>472.741636</td>\n",
       "      <td>8.118813e+02</td>\n",
       "      <td>499.162910</td>\n",
       "      <td>1.183520e+03</td>\n",
       "      <td>658.336276</td>\n",
       "      <td>...</td>\n",
       "      <td>-26.850016</td>\n",
       "      <td>1.325786</td>\n",
       "      <td>-27.809795</td>\n",
       "      <td>1.624544</td>\n",
       "      <td>-20.733809</td>\n",
       "      <td>3.437439</td>\n",
       "      <td>-27.448456</td>\n",
       "      <td>3.065302</td>\n",
       "      <td>-35.640659</td>\n",
       "      <td>0.282131</td>\n",
       "    </tr>\n",
       "    <tr>\n",
       "      <th>25%</th>\n",
       "      <td>66149.0</td>\n",
       "      <td>0.315698</td>\n",
       "      <td>0.079833</td>\n",
       "      <td>0.083782</td>\n",
       "      <td>6.145900e-04</td>\n",
       "      <td>1630.680158</td>\n",
       "      <td>1.231961e+05</td>\n",
       "      <td>1887.455790</td>\n",
       "      <td>4.876553e+04</td>\n",
       "      <td>3378.311110</td>\n",
       "      <td>...</td>\n",
       "      <td>-2.227478</td>\n",
       "      <td>29.584894</td>\n",
       "      <td>-7.951722</td>\n",
       "      <td>29.863448</td>\n",
       "      <td>-2.516638</td>\n",
       "      <td>29.636197</td>\n",
       "      <td>-5.734123</td>\n",
       "      <td>30.496412</td>\n",
       "      <td>-4.004475</td>\n",
       "      <td>30.011365</td>\n",
       "    </tr>\n",
       "    <tr>\n",
       "      <th>50%</th>\n",
       "      <td>66149.0</td>\n",
       "      <td>0.384741</td>\n",
       "      <td>0.085108</td>\n",
       "      <td>0.121253</td>\n",
       "      <td>1.491318e-03</td>\n",
       "      <td>2208.628236</td>\n",
       "      <td>2.650692e+05</td>\n",
       "      <td>2230.575595</td>\n",
       "      <td>8.996072e+04</td>\n",
       "      <td>4631.377892</td>\n",
       "      <td>...</td>\n",
       "      <td>1.461623</td>\n",
       "      <td>41.702393</td>\n",
       "      <td>-4.443021</td>\n",
       "      <td>42.393583</td>\n",
       "      <td>0.733772</td>\n",
       "      <td>41.831377</td>\n",
       "      <td>-2.702366</td>\n",
       "      <td>43.435253</td>\n",
       "      <td>-1.030939</td>\n",
       "      <td>44.332155</td>\n",
       "    </tr>\n",
       "    <tr>\n",
       "      <th>75%</th>\n",
       "      <td>66149.0</td>\n",
       "      <td>0.442443</td>\n",
       "      <td>0.091092</td>\n",
       "      <td>0.176328</td>\n",
       "      <td>3.130862e-03</td>\n",
       "      <td>2712.581884</td>\n",
       "      <td>5.624152e+05</td>\n",
       "      <td>2588.340505</td>\n",
       "      <td>1.585674e+05</td>\n",
       "      <td>5591.634521</td>\n",
       "      <td>...</td>\n",
       "      <td>5.149752</td>\n",
       "      <td>59.274619</td>\n",
       "      <td>-0.726945</td>\n",
       "      <td>61.676964</td>\n",
       "      <td>3.888734</td>\n",
       "      <td>62.033906</td>\n",
       "      <td>0.514246</td>\n",
       "      <td>65.328602</td>\n",
       "      <td>2.216603</td>\n",
       "      <td>68.210421</td>\n",
       "    </tr>\n",
       "    <tr>\n",
       "      <th>max</th>\n",
       "      <td>66149.0</td>\n",
       "      <td>0.749481</td>\n",
       "      <td>0.120964</td>\n",
       "      <td>0.442567</td>\n",
       "      <td>3.261522e-02</td>\n",
       "      <td>5432.534406</td>\n",
       "      <td>4.794119e+06</td>\n",
       "      <td>3708.147554</td>\n",
       "      <td>1.235143e+06</td>\n",
       "      <td>9487.446477</td>\n",
       "      <td>...</td>\n",
       "      <td>39.144405</td>\n",
       "      <td>683.932556</td>\n",
       "      <td>34.048843</td>\n",
       "      <td>529.363342</td>\n",
       "      <td>36.970322</td>\n",
       "      <td>629.729797</td>\n",
       "      <td>31.365425</td>\n",
       "      <td>1143.230591</td>\n",
       "      <td>34.212101</td>\n",
       "      <td>910.473206</td>\n",
       "    </tr>\n",
       "  </tbody>\n",
       "</table>\n",
       "<p>8 rows × 58 columns</p>\n",
       "</div>"
      ],
      "text/plain": [
       "        length  chroma_stft_mean  chroma_stft_var     rms_mean       rms_var  \\\n",
       "count   9990.0       9990.000000      9990.000000  9990.000000  9.990000e+03   \n",
       "mean   66149.0          0.379534         0.084876     0.130859  2.676388e-03   \n",
       "std        0.0          0.090466         0.009637     0.068545  3.585628e-03   \n",
       "min    66149.0          0.107108         0.015345     0.000953  4.379535e-08   \n",
       "25%    66149.0          0.315698         0.079833     0.083782  6.145900e-04   \n",
       "50%    66149.0          0.384741         0.085108     0.121253  1.491318e-03   \n",
       "75%    66149.0          0.442443         0.091092     0.176328  3.130862e-03   \n",
       "max    66149.0          0.749481         0.120964     0.442567  3.261522e-02   \n",
       "\n",
       "       spectral_centroid_mean  spectral_centroid_var  spectral_bandwidth_mean  \\\n",
       "count             9990.000000           9.990000e+03              9990.000000   \n",
       "mean              2199.219431           4.166727e+05              2241.385959   \n",
       "std                751.860611           4.349644e+05               543.854449   \n",
       "min                472.741636           8.118813e+02               499.162910   \n",
       "25%               1630.680158           1.231961e+05              1887.455790   \n",
       "50%               2208.628236           2.650692e+05              2230.575595   \n",
       "75%               2712.581884           5.624152e+05              2588.340505   \n",
       "max               5432.534406           4.794119e+06              3708.147554   \n",
       "\n",
       "       spectral_bandwidth_var  rolloff_mean  ...  mfcc16_mean   mfcc16_var  \\\n",
       "count            9.990000e+03   9990.000000  ...  9990.000000  9990.000000   \n",
       "mean             1.182711e+05   4566.076592  ...     1.448240    49.988755   \n",
       "std              1.013505e+05   1642.065335  ...     5.735149    34.442816   \n",
       "min              1.183520e+03    658.336276  ...   -26.850016     1.325786   \n",
       "25%              4.876553e+04   3378.311110  ...    -2.227478    29.584894   \n",
       "50%              8.996072e+04   4631.377892  ...     1.461623    41.702393   \n",
       "75%              1.585674e+05   5591.634521  ...     5.149752    59.274619   \n",
       "max              1.235143e+06   9487.446477  ...    39.144405   683.932556   \n",
       "\n",
       "       mfcc17_mean   mfcc17_var  mfcc18_mean   mfcc18_var  mfcc19_mean  \\\n",
       "count  9990.000000  9990.000000  9990.000000  9990.000000  9990.000000   \n",
       "mean     -4.198706    51.962753     0.739943    52.488851    -2.497306   \n",
       "std       5.677379    36.400669     5.181313    38.177120     5.111799   \n",
       "min     -27.809795     1.624544   -20.733809     3.437439   -27.448456   \n",
       "25%      -7.951722    29.863448    -2.516638    29.636197    -5.734123   \n",
       "50%      -4.443021    42.393583     0.733772    41.831377    -2.702366   \n",
       "75%      -0.726945    61.676964     3.888734    62.033906     0.514246   \n",
       "max      34.048843   529.363342    36.970322   629.729797    31.365425   \n",
       "\n",
       "        mfcc19_var  mfcc20_mean   mfcc20_var  \n",
       "count  9990.000000  9990.000000  9990.000000  \n",
       "mean     54.973829    -0.917584    57.322614  \n",
       "std      41.585677     5.253243    46.444212  \n",
       "min       3.065302   -35.640659     0.282131  \n",
       "25%      30.496412    -4.004475    30.011365  \n",
       "50%      43.435253    -1.030939    44.332155  \n",
       "75%      65.328602     2.216603    68.210421  \n",
       "max    1143.230591    34.212101   910.473206  \n",
       "\n",
       "[8 rows x 58 columns]"
      ]
     },
     "execution_count": 210,
     "metadata": {},
     "output_type": "execute_result"
    }
   ],
   "source": [
    "features_3_sec.describe()"
   ]
  },
  {
   "cell_type": "code",
   "execution_count": 211,
   "id": "1ca3723b",
   "metadata": {},
   "outputs": [
    {
     "data": {
      "text/plain": [
       "Index(['filename', 'length', 'chroma_stft_mean', 'chroma_stft_var', 'rms_mean',\n",
       "       'rms_var', 'spectral_centroid_mean', 'spectral_centroid_var',\n",
       "       'spectral_bandwidth_mean', 'spectral_bandwidth_var', 'rolloff_mean',\n",
       "       'rolloff_var', 'zero_crossing_rate_mean', 'zero_crossing_rate_var',\n",
       "       'harmony_mean', 'harmony_var', 'perceptr_mean', 'perceptr_var', 'tempo',\n",
       "       'mfcc1_mean', 'mfcc1_var', 'mfcc2_mean', 'mfcc2_var', 'mfcc3_mean',\n",
       "       'mfcc3_var', 'mfcc4_mean', 'mfcc4_var', 'mfcc5_mean', 'mfcc5_var',\n",
       "       'mfcc6_mean', 'mfcc6_var', 'mfcc7_mean', 'mfcc7_var', 'mfcc8_mean',\n",
       "       'mfcc8_var', 'mfcc9_mean', 'mfcc9_var', 'mfcc10_mean', 'mfcc10_var',\n",
       "       'mfcc11_mean', 'mfcc11_var', 'mfcc12_mean', 'mfcc12_var', 'mfcc13_mean',\n",
       "       'mfcc13_var', 'mfcc14_mean', 'mfcc14_var', 'mfcc15_mean', 'mfcc15_var',\n",
       "       'mfcc16_mean', 'mfcc16_var', 'mfcc17_mean', 'mfcc17_var', 'mfcc18_mean',\n",
       "       'mfcc18_var', 'mfcc19_mean', 'mfcc19_var', 'mfcc20_mean', 'mfcc20_var',\n",
       "       'label'],\n",
       "      dtype='object')"
      ]
     },
     "execution_count": 211,
     "metadata": {},
     "output_type": "execute_result"
    }
   ],
   "source": [
    "features_3_sec.columns"
   ]
  },
  {
   "cell_type": "code",
   "execution_count": 212,
   "id": "bfd8e0b0",
   "metadata": {},
   "outputs": [
    {
     "data": {
      "text/plain": [
       "array(['blues', 'classical', 'country', 'disco', 'hiphop', 'jazz',\n",
       "       'metal', 'pop', 'reggae', 'rock'], dtype=object)"
      ]
     },
     "execution_count": 212,
     "metadata": {},
     "output_type": "execute_result"
    }
   ],
   "source": [
    "labels = features_3_sec.label.unique()\n",
    "labels"
   ]
  },
  {
   "cell_type": "markdown",
   "id": "e4087a24",
   "metadata": {},
   "source": [
    "# 2 - Analyse numerical data\n",
    "First lets split and prepare the dataset. First, the filenames will be saved in a seperate variable since they're only used for the identification of the entries and not useful for the prediction of each genre. The length column will be dropped, since it is the same in every entry of the dataset, which makes it useless for the task. Finally, the label column will be seperated from the rest of the dataset, since it is the target classification, and encoded using the LabelEncoder.<br/><br/>\n",
    "Note: For now I won't be worrying with handling the outliers in the data. I might look into it if the results of the models are bad."
   ]
  },
  {
   "cell_type": "code",
   "execution_count": 244,
   "id": "7dcaa665",
   "metadata": {},
   "outputs": [],
   "source": [
    "filenames = features_3_sec.filename\n",
    "X = features_3_sec.drop(columns=['filename', 'length', 'label'])\n",
    "y = features_3_sec.label\n",
    "\n",
    "encoder = LabelEncoder()\n",
    "y = encoder.fit_transform(y)"
   ]
  },
  {
   "cell_type": "markdown",
   "id": "42c6c05e",
   "metadata": {},
   "source": [
    "## 2.1 - Numerical data scaling\n",
    "The data will be scaled using the StandardScaler because of usually giving better results the the MinMax, for example."
   ]
  },
  {
   "cell_type": "code",
   "execution_count": 214,
   "id": "04a4a5cc",
   "metadata": {},
   "outputs": [
    {
     "data": {
      "text/html": [
       "<div>\n",
       "<style scoped>\n",
       "    .dataframe tbody tr th:only-of-type {\n",
       "        vertical-align: middle;\n",
       "    }\n",
       "\n",
       "    .dataframe tbody tr th {\n",
       "        vertical-align: top;\n",
       "    }\n",
       "\n",
       "    .dataframe thead th {\n",
       "        text-align: right;\n",
       "    }\n",
       "</style>\n",
       "<table border=\"1\" class=\"dataframe\">\n",
       "  <thead>\n",
       "    <tr style=\"text-align: right;\">\n",
       "      <th></th>\n",
       "      <th>0</th>\n",
       "      <th>1</th>\n",
       "      <th>2</th>\n",
       "      <th>3</th>\n",
       "      <th>4</th>\n",
       "      <th>5</th>\n",
       "      <th>6</th>\n",
       "      <th>7</th>\n",
       "      <th>8</th>\n",
       "      <th>9</th>\n",
       "      <th>...</th>\n",
       "      <th>29</th>\n",
       "      <th>30</th>\n",
       "      <th>31</th>\n",
       "      <th>32</th>\n",
       "      <th>33</th>\n",
       "      <th>34</th>\n",
       "      <th>35</th>\n",
       "      <th>36</th>\n",
       "      <th>37</th>\n",
       "      <th>38</th>\n",
       "    </tr>\n",
       "  </thead>\n",
       "  <tbody>\n",
       "    <tr>\n",
       "      <th>0</th>\n",
       "      <td>-0.660317</td>\n",
       "      <td>8.833054</td>\n",
       "      <td>-0.371385</td>\n",
       "      <td>2.283287</td>\n",
       "      <td>2.973557</td>\n",
       "      <td>-0.771440</td>\n",
       "      <td>1.973708</td>\n",
       "      <td>1.642033</td>\n",
       "      <td>-0.462909</td>\n",
       "      <td>-0.377372</td>\n",
       "      <td>...</td>\n",
       "      <td>-0.429565</td>\n",
       "      <td>0.892912</td>\n",
       "      <td>-1.688863</td>\n",
       "      <td>-0.362005</td>\n",
       "      <td>-0.153616</td>\n",
       "      <td>-1.627543</td>\n",
       "      <td>-0.901211</td>\n",
       "      <td>0.387797</td>\n",
       "      <td>0.751019</td>\n",
       "      <td>1.157074</td>\n",
       "    </tr>\n",
       "    <tr>\n",
       "      <th>1</th>\n",
       "      <td>1.475278</td>\n",
       "      <td>-2.976301</td>\n",
       "      <td>-3.004435</td>\n",
       "      <td>-1.235272</td>\n",
       "      <td>1.448419</td>\n",
       "      <td>-2.622826</td>\n",
       "      <td>-0.157895</td>\n",
       "      <td>0.750167</td>\n",
       "      <td>-0.946701</td>\n",
       "      <td>-0.136646</td>\n",
       "      <td>...</td>\n",
       "      <td>0.230439</td>\n",
       "      <td>-0.589707</td>\n",
       "      <td>0.218979</td>\n",
       "      <td>0.165649</td>\n",
       "      <td>-0.279947</td>\n",
       "      <td>-0.015205</td>\n",
       "      <td>-0.607694</td>\n",
       "      <td>-0.037305</td>\n",
       "      <td>0.098759</td>\n",
       "      <td>-0.034042</td>\n",
       "    </tr>\n",
       "    <tr>\n",
       "      <th>2</th>\n",
       "      <td>-1.651521</td>\n",
       "      <td>3.842562</td>\n",
       "      <td>-1.598870</td>\n",
       "      <td>-3.003168</td>\n",
       "      <td>-1.540717</td>\n",
       "      <td>0.861178</td>\n",
       "      <td>-1.762984</td>\n",
       "      <td>-0.753528</td>\n",
       "      <td>-0.722986</td>\n",
       "      <td>0.964519</td>\n",
       "      <td>...</td>\n",
       "      <td>-1.685677</td>\n",
       "      <td>0.717626</td>\n",
       "      <td>-0.543723</td>\n",
       "      <td>-0.127003</td>\n",
       "      <td>-1.111213</td>\n",
       "      <td>0.250828</td>\n",
       "      <td>-0.615684</td>\n",
       "      <td>-0.630615</td>\n",
       "      <td>-0.848120</td>\n",
       "      <td>-0.559379</td>\n",
       "    </tr>\n",
       "    <tr>\n",
       "      <th>3</th>\n",
       "      <td>-3.347570</td>\n",
       "      <td>2.083217</td>\n",
       "      <td>-0.794739</td>\n",
       "      <td>-0.279439</td>\n",
       "      <td>-0.931598</td>\n",
       "      <td>0.168453</td>\n",
       "      <td>1.242624</td>\n",
       "      <td>0.110363</td>\n",
       "      <td>-0.805464</td>\n",
       "      <td>-0.308762</td>\n",
       "      <td>...</td>\n",
       "      <td>-0.026117</td>\n",
       "      <td>0.310071</td>\n",
       "      <td>0.335822</td>\n",
       "      <td>-0.339062</td>\n",
       "      <td>-0.300667</td>\n",
       "      <td>0.159064</td>\n",
       "      <td>0.289980</td>\n",
       "      <td>-0.120701</td>\n",
       "      <td>0.636265</td>\n",
       "      <td>0.202306</td>\n",
       "    </tr>\n",
       "    <tr>\n",
       "      <th>4</th>\n",
       "      <td>3.997153</td>\n",
       "      <td>-1.545162</td>\n",
       "      <td>-0.451481</td>\n",
       "      <td>-0.045438</td>\n",
       "      <td>0.198751</td>\n",
       "      <td>-1.046366</td>\n",
       "      <td>0.339354</td>\n",
       "      <td>-0.050869</td>\n",
       "      <td>0.326670</td>\n",
       "      <td>-0.487935</td>\n",
       "      <td>...</td>\n",
       "      <td>0.145860</td>\n",
       "      <td>0.431489</td>\n",
       "      <td>0.221981</td>\n",
       "      <td>0.211983</td>\n",
       "      <td>0.290464</td>\n",
       "      <td>0.726923</td>\n",
       "      <td>-0.331053</td>\n",
       "      <td>-0.888679</td>\n",
       "      <td>-0.911986</td>\n",
       "      <td>0.101400</td>\n",
       "    </tr>\n",
       "  </tbody>\n",
       "</table>\n",
       "<p>5 rows × 39 columns</p>\n",
       "</div>"
      ],
      "text/plain": [
       "         0         1         2         3         4         5         6   \\\n",
       "0 -0.660317  8.833054 -0.371385  2.283287  2.973557 -0.771440  1.973708   \n",
       "1  1.475278 -2.976301 -3.004435 -1.235272  1.448419 -2.622826 -0.157895   \n",
       "2 -1.651521  3.842562 -1.598870 -3.003168 -1.540717  0.861178 -1.762984   \n",
       "3 -3.347570  2.083217 -0.794739 -0.279439 -0.931598  0.168453  1.242624   \n",
       "4  3.997153 -1.545162 -0.451481 -0.045438  0.198751 -1.046366  0.339354   \n",
       "\n",
       "         7         8         9   ...        29        30        31        32  \\\n",
       "0  1.642033 -0.462909 -0.377372  ... -0.429565  0.892912 -1.688863 -0.362005   \n",
       "1  0.750167 -0.946701 -0.136646  ...  0.230439 -0.589707  0.218979  0.165649   \n",
       "2 -0.753528 -0.722986  0.964519  ... -1.685677  0.717626 -0.543723 -0.127003   \n",
       "3  0.110363 -0.805464 -0.308762  ... -0.026117  0.310071  0.335822 -0.339062   \n",
       "4 -0.050869  0.326670 -0.487935  ...  0.145860  0.431489  0.221981  0.211983   \n",
       "\n",
       "         33        34        35        36        37        38  \n",
       "0 -0.153616 -1.627543 -0.901211  0.387797  0.751019  1.157074  \n",
       "1 -0.279947 -0.015205 -0.607694 -0.037305  0.098759 -0.034042  \n",
       "2 -1.111213  0.250828 -0.615684 -0.630615 -0.848120 -0.559379  \n",
       "3 -0.300667  0.159064  0.289980 -0.120701  0.636265  0.202306  \n",
       "4  0.290464  0.726923 -0.331053 -0.888679 -0.911986  0.101400  \n",
       "\n",
       "[5 rows x 39 columns]"
      ]
     },
     "execution_count": 214,
     "metadata": {},
     "output_type": "execute_result"
    }
   ],
   "source": [
    "X_train.head()"
   ]
  },
  {
   "cell_type": "code",
   "execution_count": 245,
   "id": "aee2bb09",
   "metadata": {},
   "outputs": [
    {
     "data": {
      "text/html": [
       "<div>\n",
       "<style scoped>\n",
       "    .dataframe tbody tr th:only-of-type {\n",
       "        vertical-align: middle;\n",
       "    }\n",
       "\n",
       "    .dataframe tbody tr th {\n",
       "        vertical-align: top;\n",
       "    }\n",
       "\n",
       "    .dataframe thead th {\n",
       "        text-align: right;\n",
       "    }\n",
       "</style>\n",
       "<table border=\"1\" class=\"dataframe\">\n",
       "  <thead>\n",
       "    <tr style=\"text-align: right;\">\n",
       "      <th></th>\n",
       "      <th>chroma_stft_mean</th>\n",
       "      <th>chroma_stft_var</th>\n",
       "      <th>rms_mean</th>\n",
       "      <th>rms_var</th>\n",
       "      <th>spectral_centroid_mean</th>\n",
       "      <th>spectral_centroid_var</th>\n",
       "      <th>spectral_bandwidth_mean</th>\n",
       "      <th>spectral_bandwidth_var</th>\n",
       "      <th>rolloff_mean</th>\n",
       "      <th>rolloff_var</th>\n",
       "      <th>...</th>\n",
       "      <th>mfcc16_mean</th>\n",
       "      <th>mfcc16_var</th>\n",
       "      <th>mfcc17_mean</th>\n",
       "      <th>mfcc17_var</th>\n",
       "      <th>mfcc18_mean</th>\n",
       "      <th>mfcc18_var</th>\n",
       "      <th>mfcc19_mean</th>\n",
       "      <th>mfcc19_var</th>\n",
       "      <th>mfcc20_mean</th>\n",
       "      <th>mfcc20_var</th>\n",
       "    </tr>\n",
       "  </thead>\n",
       "  <tbody>\n",
       "    <tr>\n",
       "      <th>0</th>\n",
       "      <td>-0.487808</td>\n",
       "      <td>0.640520</td>\n",
       "      <td>-0.006624</td>\n",
       "      <td>0.235568</td>\n",
       "      <td>-0.566828</td>\n",
       "      <td>-0.572791</td>\n",
       "      <td>-0.493983</td>\n",
       "      <td>-0.009229</td>\n",
       "      <td>-0.518590</td>\n",
       "      <td>-0.367952</td>\n",
       "      <td>...</td>\n",
       "      <td>-0.750122</td>\n",
       "      <td>-0.299108</td>\n",
       "      <td>0.168647</td>\n",
       "      <td>-0.425137</td>\n",
       "      <td>-0.003423</td>\n",
       "      <td>-0.376938</td>\n",
       "      <td>-0.499464</td>\n",
       "      <td>-0.513562</td>\n",
       "      <td>0.128414</td>\n",
       "      <td>-0.291781</td>\n",
       "    </tr>\n",
       "    <tr>\n",
       "      <th>1</th>\n",
       "      <td>-0.403142</td>\n",
       "      <td>0.131835</td>\n",
       "      <td>-0.264944</td>\n",
       "      <td>-0.342134</td>\n",
       "      <td>-0.508798</td>\n",
       "      <td>-0.749862</td>\n",
       "      <td>-0.425382</td>\n",
       "      <td>-0.519010</td>\n",
       "      <td>-0.424118</td>\n",
       "      <td>-0.642268</td>\n",
       "      <td>...</td>\n",
       "      <td>0.457983</td>\n",
       "      <td>0.428544</td>\n",
       "      <td>-0.327031</td>\n",
       "      <td>-0.310040</td>\n",
       "      <td>-0.112125</td>\n",
       "      <td>-0.032083</td>\n",
       "      <td>-0.066593</td>\n",
       "      <td>1.011384</td>\n",
       "      <td>1.275780</td>\n",
       "      <td>0.056425</td>\n",
       "    </tr>\n",
       "    <tr>\n",
       "      <th>2</th>\n",
       "      <td>-0.361694</td>\n",
       "      <td>0.764491</td>\n",
       "      <td>0.016695</td>\n",
       "      <td>0.542195</td>\n",
       "      <td>-0.546245</td>\n",
       "      <td>-0.701852</td>\n",
       "      <td>-0.288365</td>\n",
       "      <td>-0.425734</td>\n",
       "      <td>-0.346190</td>\n",
       "      <td>-0.562723</td>\n",
       "      <td>...</td>\n",
       "      <td>0.585548</td>\n",
       "      <td>0.503695</td>\n",
       "      <td>0.428053</td>\n",
       "      <td>-0.648762</td>\n",
       "      <td>0.316311</td>\n",
       "      <td>-0.177372</td>\n",
       "      <td>0.109337</td>\n",
       "      <td>-0.046244</td>\n",
       "      <td>0.653907</td>\n",
       "      <td>-0.521458</td>\n",
       "    </tr>\n",
       "    <tr>\n",
       "      <th>3</th>\n",
       "      <td>-0.175714</td>\n",
       "      <td>0.205477</td>\n",
       "      <td>0.024885</td>\n",
       "      <td>-0.063820</td>\n",
       "      <td>-0.723482</td>\n",
       "      <td>-0.700599</td>\n",
       "      <td>-0.517344</td>\n",
       "      <td>-0.348881</td>\n",
       "      <td>-0.607665</td>\n",
       "      <td>-0.474804</td>\n",
       "      <td>...</td>\n",
       "      <td>-0.489524</td>\n",
       "      <td>-0.065309</td>\n",
       "      <td>0.062981</td>\n",
       "      <td>-0.649076</td>\n",
       "      <td>0.092384</td>\n",
       "      <td>-0.464121</td>\n",
       "      <td>-0.211882</td>\n",
       "      <td>-0.099501</td>\n",
       "      <td>0.865880</td>\n",
       "      <td>-0.544744</td>\n",
       "    </tr>\n",
       "    <tr>\n",
       "      <th>4</th>\n",
       "      <td>-0.485895</td>\n",
       "      <td>0.337521</td>\n",
       "      <td>0.181345</td>\n",
       "      <td>-0.272072</td>\n",
       "      <td>-0.756246</td>\n",
       "      <td>-0.774827</td>\n",
       "      <td>-0.538557</td>\n",
       "      <td>-0.572962</td>\n",
       "      <td>-0.667537</td>\n",
       "      <td>-0.683920</td>\n",
       "      <td>...</td>\n",
       "      <td>0.112417</td>\n",
       "      <td>-0.570609</td>\n",
       "      <td>0.856651</td>\n",
       "      <td>-0.167089</td>\n",
       "      <td>0.183265</td>\n",
       "      <td>-0.029476</td>\n",
       "      <td>-0.175130</td>\n",
       "      <td>-0.678995</td>\n",
       "      <td>0.276899</td>\n",
       "      <td>-0.606692</td>\n",
       "    </tr>\n",
       "  </tbody>\n",
       "</table>\n",
       "<p>5 rows × 57 columns</p>\n",
       "</div>"
      ],
      "text/plain": [
       "   chroma_stft_mean  chroma_stft_var  rms_mean   rms_var  \\\n",
       "0         -0.487808         0.640520 -0.006624  0.235568   \n",
       "1         -0.403142         0.131835 -0.264944 -0.342134   \n",
       "2         -0.361694         0.764491  0.016695  0.542195   \n",
       "3         -0.175714         0.205477  0.024885 -0.063820   \n",
       "4         -0.485895         0.337521  0.181345 -0.272072   \n",
       "\n",
       "   spectral_centroid_mean  spectral_centroid_var  spectral_bandwidth_mean  \\\n",
       "0               -0.566828              -0.572791                -0.493983   \n",
       "1               -0.508798              -0.749862                -0.425382   \n",
       "2               -0.546245              -0.701852                -0.288365   \n",
       "3               -0.723482              -0.700599                -0.517344   \n",
       "4               -0.756246              -0.774827                -0.538557   \n",
       "\n",
       "   spectral_bandwidth_var  rolloff_mean  rolloff_var  ...  mfcc16_mean  \\\n",
       "0               -0.009229     -0.518590    -0.367952  ...    -0.750122   \n",
       "1               -0.519010     -0.424118    -0.642268  ...     0.457983   \n",
       "2               -0.425734     -0.346190    -0.562723  ...     0.585548   \n",
       "3               -0.348881     -0.607665    -0.474804  ...    -0.489524   \n",
       "4               -0.572962     -0.667537    -0.683920  ...     0.112417   \n",
       "\n",
       "   mfcc16_var  mfcc17_mean  mfcc17_var  mfcc18_mean  mfcc18_var  mfcc19_mean  \\\n",
       "0   -0.299108     0.168647   -0.425137    -0.003423   -0.376938    -0.499464   \n",
       "1    0.428544    -0.327031   -0.310040    -0.112125   -0.032083    -0.066593   \n",
       "2    0.503695     0.428053   -0.648762     0.316311   -0.177372     0.109337   \n",
       "3   -0.065309     0.062981   -0.649076     0.092384   -0.464121    -0.211882   \n",
       "4   -0.570609     0.856651   -0.167089     0.183265   -0.029476    -0.175130   \n",
       "\n",
       "   mfcc19_var  mfcc20_mean  mfcc20_var  \n",
       "0   -0.513562     0.128414   -0.291781  \n",
       "1    1.011384     1.275780    0.056425  \n",
       "2   -0.046244     0.653907   -0.521458  \n",
       "3   -0.099501     0.865880   -0.544744  \n",
       "4   -0.678995     0.276899   -0.606692  \n",
       "\n",
       "[5 rows x 57 columns]"
      ]
     },
     "execution_count": 245,
     "metadata": {},
     "output_type": "execute_result"
    }
   ],
   "source": [
    "scaler = StandardScaler()\n",
    "X = pd.DataFrame(data=scaler.fit_transform(X), columns=X.columns)\n",
    "X.head()"
   ]
  },
  {
   "cell_type": "code",
   "execution_count": 216,
   "id": "db815e60",
   "metadata": {},
   "outputs": [
    {
     "data": {
      "text/plain": [
       "(7992, 39)"
      ]
     },
     "execution_count": 216,
     "metadata": {},
     "output_type": "execute_result"
    }
   ],
   "source": [
    "X_train.shape"
   ]
  },
  {
   "cell_type": "code",
   "execution_count": 246,
   "id": "06c38902",
   "metadata": {},
   "outputs": [
    {
     "data": {
      "text/plain": [
       "'7992 1998'"
      ]
     },
     "execution_count": 246,
     "metadata": {},
     "output_type": "execute_result"
    }
   ],
   "source": [
    "# Split dataset\n",
    "X_train, X_test, y_train, y_test = train_test_split(X, y, test_size=0.2)\n",
    "str(len(X_train)) + ' ' + str(len(X_test))"
   ]
  },
  {
   "cell_type": "markdown",
   "id": "263d873a",
   "metadata": {},
   "source": [
    "## 2.2 - Dimentionality Reduction - PCA"
   ]
  },
  {
   "cell_type": "code",
   "execution_count": 218,
   "id": "17871dbb",
   "metadata": {},
   "outputs": [],
   "source": [
    "#pca = PCA(0.95)\n",
    "#pca.fit(X_train)\n",
    "#X_train = pd.DataFrame(data=pca.transform(X_train))\n",
    "#X_test = pca.transform(X_test)\n",
    "#X_train"
   ]
  },
  {
   "cell_type": "markdown",
   "id": "8155d33e",
   "metadata": {},
   "source": [
    "# 3 - Test baseline models for numerical data"
   ]
  },
  {
   "cell_type": "code",
   "execution_count": null,
   "id": "2327af07",
   "metadata": {},
   "outputs": [],
   "source": []
  },
  {
   "cell_type": "markdown",
   "id": "10fe4510",
   "metadata": {},
   "source": [
    "## 3.1 - KNN"
   ]
  },
  {
   "cell_type": "code",
   "execution_count": 306,
   "id": "4a9d07ea",
   "metadata": {},
   "outputs": [
    {
     "name": "stdout",
     "output_type": "stream",
     "text": [
      "Accuracy: 0.8813813813813813\n"
     ]
    },
    {
     "data": {
      "text/plain": [
       "<sklearn.metrics._plot.confusion_matrix.ConfusionMatrixDisplay at 0x15d1afdf0>"
      ]
     },
     "execution_count": 306,
     "metadata": {},
     "output_type": "execute_result"
    },
    {
     "data": {
      "image/png": "[encoded data removed]",
      "text/plain": [
       "<Figure size 432x288 with 2 Axes>"
      ]
     },
     "metadata": {
      "needs_background": "light"
     },
     "output_type": "display_data"
    }
   ],
   "source": [
    "knn_model = KNeighborsClassifier(n_neighbors=3)\n",
    "knn_model.fit(X_train, y_train)\n",
    "knn_prediction = knn_model.predict(X_test)\n",
    "knn_acc = accuracy_score(y_test, knn_prediction)\n",
    "print(\"Accuracy: \" + str(knn_acc))\n",
    "cm = confusion_matrix(y_test, knn_prediction)\n",
    "disp = ConfusionMatrixDisplay(confusion_matrix=cm, display_labels=knn_model.classes_)\n",
    "disp.plot()"
   ]
  },
  {
   "cell_type": "markdown",
   "id": "6e6ffeeb",
   "metadata": {},
   "source": [
    "## 3.2 - SVM "
   ]
  },
  {
   "cell_type": "code",
   "execution_count": 309,
   "id": "d2392b0b",
   "metadata": {},
   "outputs": [
    {
     "name": "stdout",
     "output_type": "stream",
     "text": [
      "Accuracy: 0.8548548548548549\n"
     ]
    },
    {
     "data": {
      "text/plain": [
       "<sklearn.metrics._plot.confusion_matrix.ConfusionMatrixDisplay at 0x15cb3a100>"
      ]
     },
     "execution_count": 309,
     "metadata": {},
     "output_type": "execute_result"
    },
    {
     "data": {
      "image/png": "[encoded data removed]",
      "text/plain": [
       "<Figure size 432x288 with 2 Axes>"
      ]
     },
     "metadata": {
      "needs_background": "light"
     },
     "output_type": "display_data"
    }
   ],
   "source": [
    "svm_model = SVC()\n",
    "svm_model.fit(X_train, y_train)\n",
    "svm_prediction = svm_model.predict(X_test)\n",
    "svm_acc = accuracy_score(y_test, svm_prediction)\n",
    "print(\"Accuracy: \" + str(svm_acc))\n",
    "cm = confusion_matrix(y_test, svm_prediction)\n",
    "disp = ConfusionMatrixDisplay(confusion_matrix=cm, display_labels=svm_model.classes_)\n",
    "disp.plot()"
   ]
  },
  {
   "cell_type": "markdown",
   "id": "734e52e0",
   "metadata": {},
   "source": [
    "## 3.3 - Naive Bayes"
   ]
  },
  {
   "cell_type": "code",
   "execution_count": 313,
   "id": "ac3f98ec",
   "metadata": {},
   "outputs": [
    {
     "name": "stdout",
     "output_type": "stream",
     "text": [
      "Accuracy: 0.5155155155155156\n"
     ]
    },
    {
     "data": {
      "text/plain": [
       "<sklearn.metrics._plot.confusion_matrix.ConfusionMatrixDisplay at 0x15c4dbc70>"
      ]
     },
     "execution_count": 313,
     "metadata": {},
     "output_type": "execute_result"
    },
    {
     "data": {
      "image/png": "[encoded data removed]",
      "text/plain": [
       "<Figure size 432x288 with 2 Axes>"
      ]
     },
     "metadata": {
      "needs_background": "light"
     },
     "output_type": "display_data"
    }
   ],
   "source": [
    "nb_model = GaussianNB()\n",
    "nb_model.fit(X_train, y_train)\n",
    "nb_prediction = nb_model.predict(X_test)\n",
    "nb_acc = accuracy_score(y_test, nb_prediction)\n",
    "print(\"Accuracy: \" + str(nb_acc))\n",
    "cm = confusion_matrix(y_test, nb_prediction)\n",
    "disp = ConfusionMatrixDisplay(confusion_matrix=cm, display_labels=nb_model.classes_)\n",
    "disp.plot()"
   ]
  },
  {
   "cell_type": "markdown",
   "id": "0885b74a",
   "metadata": {},
   "source": [
    "## 3.3 - Decision Tree"
   ]
  },
  {
   "cell_type": "code",
   "execution_count": 314,
   "id": "0de5fe90",
   "metadata": {},
   "outputs": [
    {
     "name": "stdout",
     "output_type": "stream",
     "text": [
      "Accuracy: 0.6511511511511512\n"
     ]
    },
    {
     "data": {
      "text/plain": [
       "<sklearn.metrics._plot.confusion_matrix.ConfusionMatrixDisplay at 0x15c56e7f0>"
      ]
     },
     "execution_count": 314,
     "metadata": {},
     "output_type": "execute_result"
    },
    {
     "data": {
      "image/png": "[encoded data removed]",
      "text/plain": [
       "<Figure size 432x288 with 2 Axes>"
      ]
     },
     "metadata": {
      "needs_background": "light"
     },
     "output_type": "display_data"
    }
   ],
   "source": [
    "dt_model = DecisionTreeClassifier()\n",
    "dt_model.fit(X_train, y_train)\n",
    "dt_prediction = dt_model.predict(X_test)\n",
    "dt_acc = accuracy_score(y_test, dt_prediction)\n",
    "print(\"Accuracy: \" + str(dt_acc))\n",
    "cm = confusion_matrix(y_test, dt_prediction)\n",
    "disp = ConfusionMatrixDisplay(confusion_matrix=cm, display_labels=dt_model.classes_)\n",
    "disp.plot()"
   ]
  },
  {
   "cell_type": "markdown",
   "id": "88f73b86",
   "metadata": {},
   "source": [
    "## 3.4 - Random Forest"
   ]
  },
  {
   "cell_type": "code",
   "execution_count": 315,
   "id": "d1e46b6a",
   "metadata": {},
   "outputs": [
    {
     "name": "stdout",
     "output_type": "stream",
     "text": [
      "Accuracy: 0.8608608608608609\n"
     ]
    },
    {
     "data": {
      "text/plain": [
       "<sklearn.metrics._plot.confusion_matrix.ConfusionMatrixDisplay at 0x15d8c0580>"
      ]
     },
     "execution_count": 315,
     "metadata": {},
     "output_type": "execute_result"
    },
    {
     "data": {
      "image/png": "[encoded data removed]",
      "text/plain": [
       "<Figure size 432x288 with 2 Axes>"
      ]
     },
     "metadata": {
      "needs_background": "light"
     },
     "output_type": "display_data"
    }
   ],
   "source": [
    "rf_model = RandomForestClassifier(n_estimators=350)\n",
    "rf_model.fit(X_train, y_train)\n",
    "rf_prediction = rf_model.predict(X_test)\n",
    "rf_acc = accuracy_score(y_test, rf_prediction)\n",
    "print(\"Accuracy: \" + str(rf_acc))\n",
    "cm = confusion_matrix(y_test, rf_prediction)\n",
    "disp = ConfusionMatrixDisplay(confusion_matrix=cm, display_labels=rf_model.classes_)\n",
    "disp.plot()"
   ]
  },
  {
   "cell_type": "markdown",
   "id": "5d9b5e1c",
   "metadata": {},
   "source": [
    "## 3.5 - Neural Network"
   ]
  },
  {
   "cell_type": "code",
   "execution_count": 302,
   "id": "89226d5d",
   "metadata": {},
   "outputs": [
    {
     "name": "stdout",
     "output_type": "stream",
     "text": [
      "Model: \"sequential_59\"\n",
      "_________________________________________________________________\n",
      "Layer (type)                 Output Shape              Param #   \n",
      "=================================================================\n",
      "dense_235 (Dense)            (None, 512)               29696     \n",
      "_________________________________________________________________\n",
      "dropout_126 (Dropout)        (None, 512)               0         \n",
      "_________________________________________________________________\n",
      "batch_normalization_51 (Batc (None, 512)               2048      \n",
      "_________________________________________________________________\n",
      "dense_236 (Dense)            (None, 256)               131328    \n",
      "_________________________________________________________________\n",
      "dropout_127 (Dropout)        (None, 256)               0         \n",
      "_________________________________________________________________\n",
      "batch_normalization_52 (Batc (None, 256)               1024      \n",
      "_________________________________________________________________\n",
      "dense_237 (Dense)            (None, 128)               32896     \n",
      "_________________________________________________________________\n",
      "dropout_128 (Dropout)        (None, 128)               0         \n",
      "_________________________________________________________________\n",
      "batch_normalization_53 (Batc (None, 128)               512       \n",
      "_________________________________________________________________\n",
      "dense_238 (Dense)            (None, 64)                8256      \n",
      "_________________________________________________________________\n",
      "dropout_129 (Dropout)        (None, 64)                0         \n",
      "_________________________________________________________________\n",
      "batch_normalization_54 (Batc (None, 64)                256       \n",
      "_________________________________________________________________\n",
      "dense_239 (Dense)            (None, 10)                650       \n",
      "=================================================================\n",
      "Total params: 206,666\n",
      "Trainable params: 204,746\n",
      "Non-trainable params: 1,920\n",
      "_________________________________________________________________\n",
      "Epoch 1/1000\n",
      "250/250 [==============================] - 5s 3ms/step - loss: 1.6415 - accuracy: 0.4356 - val_loss: 1.0637 - val_accuracy: 0.6717\n",
      "Epoch 2/1000\n",
      "250/250 [==============================] - 1s 3ms/step - loss: 1.1641 - accuracy: 0.6054 - val_loss: 0.8220 - val_accuracy: 0.7427\n",
      "Epoch 3/1000\n",
      "250/250 [==============================] - 1s 3ms/step - loss: 0.9903 - accuracy: 0.6673 - val_loss: 0.7145 - val_accuracy: 0.7688\n",
      "Epoch 4/1000\n",
      "250/250 [==============================] - 1s 3ms/step - loss: 0.9026 - accuracy: 0.6964 - val_loss: 0.6646 - val_accuracy: 0.7808\n",
      "Epoch 5/1000\n",
      "250/250 [==============================] - 1s 3ms/step - loss: 0.8152 - accuracy: 0.7297 - val_loss: 0.6200 - val_accuracy: 0.7953\n",
      "Epoch 6/1000\n",
      "250/250 [==============================] - 1s 3ms/step - loss: 0.7543 - accuracy: 0.7514 - val_loss: 0.5774 - val_accuracy: 0.8143\n",
      "Epoch 7/1000\n",
      "250/250 [==============================] - 1s 3ms/step - loss: 0.7097 - accuracy: 0.7669 - val_loss: 0.5447 - val_accuracy: 0.8213\n",
      "Epoch 8/1000\n",
      "250/250 [==============================] - 1s 3ms/step - loss: 0.6403 - accuracy: 0.7890 - val_loss: 0.5320 - val_accuracy: 0.8178\n",
      "Epoch 9/1000\n",
      "250/250 [==============================] - 1s 3ms/step - loss: 0.6139 - accuracy: 0.7959 - val_loss: 0.4848 - val_accuracy: 0.8383\n",
      "Epoch 10/1000\n",
      "250/250 [==============================] - 1s 3ms/step - loss: 0.5841 - accuracy: 0.8082 - val_loss: 0.5048 - val_accuracy: 0.8323\n",
      "Epoch 11/1000\n",
      "250/250 [==============================] - 1s 3ms/step - loss: 0.5574 - accuracy: 0.8152 - val_loss: 0.4595 - val_accuracy: 0.8488\n",
      "Epoch 12/1000\n",
      "250/250 [==============================] - 1s 3ms/step - loss: 0.5197 - accuracy: 0.8277 - val_loss: 0.4372 - val_accuracy: 0.8514\n",
      "Epoch 13/1000\n",
      "250/250 [==============================] - 1s 3ms/step - loss: 0.4855 - accuracy: 0.8411 - val_loss: 0.4022 - val_accuracy: 0.8634\n",
      "Epoch 14/1000\n",
      "250/250 [==============================] - 1s 3ms/step - loss: 0.4786 - accuracy: 0.8452 - val_loss: 0.4356 - val_accuracy: 0.8488\n",
      "Epoch 15/1000\n",
      "250/250 [==============================] - 1s 3ms/step - loss: 0.4437 - accuracy: 0.8572 - val_loss: 0.3936 - val_accuracy: 0.8609\n",
      "Epoch 16/1000\n",
      "250/250 [==============================] - 1s 3ms/step - loss: 0.4249 - accuracy: 0.8636 - val_loss: 0.3683 - val_accuracy: 0.8824\n",
      "Epoch 17/1000\n",
      "250/250 [==============================] - 1s 3ms/step - loss: 0.4106 - accuracy: 0.8644 - val_loss: 0.3548 - val_accuracy: 0.8814\n",
      "Epoch 18/1000\n",
      "250/250 [==============================] - 1s 3ms/step - loss: 0.4117 - accuracy: 0.8699 - val_loss: 0.3607 - val_accuracy: 0.8824\n",
      "Epoch 19/1000\n",
      "250/250 [==============================] - 1s 3ms/step - loss: 0.3780 - accuracy: 0.8794 - val_loss: 0.3582 - val_accuracy: 0.8859\n",
      "Epoch 20/1000\n",
      "250/250 [==============================] - 1s 3ms/step - loss: 0.3622 - accuracy: 0.8833 - val_loss: 0.3706 - val_accuracy: 0.8804\n",
      "Epoch 21/1000\n",
      "250/250 [==============================] - 1s 3ms/step - loss: 0.3485 - accuracy: 0.8876 - val_loss: 0.3576 - val_accuracy: 0.8844\n",
      "Epoch 22/1000\n",
      "250/250 [==============================] - 1s 3ms/step - loss: 0.3674 - accuracy: 0.8815 - val_loss: 0.3497 - val_accuracy: 0.8894\n",
      "Epoch 23/1000\n",
      "250/250 [==============================] - 1s 3ms/step - loss: 0.3368 - accuracy: 0.8900 - val_loss: 0.3363 - val_accuracy: 0.8924\n",
      "Epoch 24/1000\n",
      "250/250 [==============================] - 1s 3ms/step - loss: 0.3182 - accuracy: 0.8946 - val_loss: 0.3115 - val_accuracy: 0.9059\n",
      "Epoch 25/1000\n",
      "250/250 [==============================] - 1s 3ms/step - loss: 0.3094 - accuracy: 0.8979 - val_loss: 0.3751 - val_accuracy: 0.8819\n",
      "Epoch 26/1000\n",
      "250/250 [==============================] - 1s 3ms/step - loss: 0.3354 - accuracy: 0.8886 - val_loss: 0.3310 - val_accuracy: 0.8949\n",
      "Epoch 27/1000\n",
      "250/250 [==============================] - 1s 3ms/step - loss: 0.3066 - accuracy: 0.8974 - val_loss: 0.3481 - val_accuracy: 0.8969\n",
      "Epoch 28/1000\n",
      "250/250 [==============================] - 1s 3ms/step - loss: 0.2768 - accuracy: 0.9112 - val_loss: 0.2985 - val_accuracy: 0.9109\n",
      "Epoch 29/1000\n",
      "250/250 [==============================] - 1s 3ms/step - loss: 0.2922 - accuracy: 0.9068 - val_loss: 0.3204 - val_accuracy: 0.9019\n",
      "Epoch 30/1000\n",
      "250/250 [==============================] - 1s 3ms/step - loss: 0.2763 - accuracy: 0.9097 - val_loss: 0.3055 - val_accuracy: 0.9034\n",
      "Epoch 31/1000\n",
      "250/250 [==============================] - 1s 3ms/step - loss: 0.2562 - accuracy: 0.9190 - val_loss: 0.3133 - val_accuracy: 0.9024\n",
      "Epoch 32/1000\n",
      "250/250 [==============================] - 1s 3ms/step - loss: 0.2585 - accuracy: 0.9184 - val_loss: 0.3143 - val_accuracy: 0.9149\n",
      "Epoch 33/1000\n",
      "250/250 [==============================] - 1s 3ms/step - loss: 0.2561 - accuracy: 0.9155 - val_loss: 0.3071 - val_accuracy: 0.9064\n",
      "Epoch 34/1000\n",
      "250/250 [==============================] - 1s 3ms/step - loss: 0.2462 - accuracy: 0.9212 - val_loss: 0.3407 - val_accuracy: 0.9019\n",
      "Epoch 35/1000\n",
      "250/250 [==============================] - 1s 3ms/step - loss: 0.2634 - accuracy: 0.9107 - val_loss: 0.3028 - val_accuracy: 0.9184\n",
      "Epoch 36/1000\n",
      "250/250 [==============================] - 1s 3ms/step - loss: 0.2469 - accuracy: 0.9233 - val_loss: 0.3044 - val_accuracy: 0.9104\n",
      "Epoch 37/1000\n",
      "250/250 [==============================] - 1s 3ms/step - loss: 0.2427 - accuracy: 0.9215 - val_loss: 0.3197 - val_accuracy: 0.9054\n",
      "Epoch 38/1000\n",
      "250/250 [==============================] - 1s 3ms/step - loss: 0.2438 - accuracy: 0.9200 - val_loss: 0.2915 - val_accuracy: 0.9109\n",
      "Epoch 39/1000\n",
      "250/250 [==============================] - 1s 3ms/step - loss: 0.2372 - accuracy: 0.9237 - val_loss: 0.2792 - val_accuracy: 0.9174\n",
      "Epoch 40/1000\n",
      "250/250 [==============================] - 1s 3ms/step - loss: 0.2359 - accuracy: 0.9204 - val_loss: 0.2794 - val_accuracy: 0.9164\n",
      "Epoch 41/1000\n",
      "250/250 [==============================] - 1s 3ms/step - loss: 0.2245 - accuracy: 0.9283 - val_loss: 0.2686 - val_accuracy: 0.9269\n",
      "Epoch 42/1000\n",
      "250/250 [==============================] - 1s 3ms/step - loss: 0.2234 - accuracy: 0.9287 - val_loss: 0.2851 - val_accuracy: 0.9179\n",
      "Epoch 43/1000\n"
     ]
    },
    {
     "name": "stdout",
     "output_type": "stream",
     "text": [
      "250/250 [==============================] - 1s 3ms/step - loss: 0.2043 - accuracy: 0.9357 - val_loss: 0.2746 - val_accuracy: 0.9189\n",
      "Epoch 44/1000\n",
      "250/250 [==============================] - 1s 3ms/step - loss: 0.2067 - accuracy: 0.9306 - val_loss: 0.2872 - val_accuracy: 0.9114\n",
      "Epoch 45/1000\n",
      "250/250 [==============================] - 1s 3ms/step - loss: 0.2148 - accuracy: 0.9293 - val_loss: 0.3149 - val_accuracy: 0.9174\n",
      "Epoch 46/1000\n",
      "250/250 [==============================] - 1s 3ms/step - loss: 0.2272 - accuracy: 0.9266 - val_loss: 0.3032 - val_accuracy: 0.9154\n",
      "Epoch 47/1000\n",
      "250/250 [==============================] - 1s 3ms/step - loss: 0.2232 - accuracy: 0.9287 - val_loss: 0.2826 - val_accuracy: 0.9159\n",
      "Epoch 48/1000\n",
      "250/250 [==============================] - 1s 3ms/step - loss: 0.2107 - accuracy: 0.9331 - val_loss: 0.3133 - val_accuracy: 0.9154\n",
      "Epoch 49/1000\n",
      "250/250 [==============================] - 1s 3ms/step - loss: 0.2059 - accuracy: 0.9349 - val_loss: 0.3014 - val_accuracy: 0.9059\n",
      "Epoch 50/1000\n",
      "250/250 [==============================] - 1s 3ms/step - loss: 0.1961 - accuracy: 0.9362 - val_loss: 0.3074 - val_accuracy: 0.9084\n",
      "Epoch 51/1000\n",
      "250/250 [==============================] - 1s 3ms/step - loss: 0.1852 - accuracy: 0.9388 - val_loss: 0.2746 - val_accuracy: 0.9189\n"
     ]
    }
   ],
   "source": [
    "# Define model\n",
    "nn_model = keras.Sequential([\n",
    "    Dense(512, activation='relu', input_shape=[len(X_train.columns)]),\n",
    "    Dropout(0.2),\n",
    "    BatchNormalization(),\n",
    "    Dense(256, activation='relu'),\n",
    "    Dropout(0.2),\n",
    "    BatchNormalization(),\n",
    "    Dense(128, activation='relu'),\n",
    "    Dropout(0.3),\n",
    "    BatchNormalization(),\n",
    "    Dense(64, activation='relu'),\n",
    "    Dropout(0.3),\n",
    "    BatchNormalization(),\n",
    "    Dense(10, activation='softmax')\n",
    "])\n",
    "nn_model.compile(metrics=['accuracy'],\n",
    "                    loss='sparse_categorical_crossentropy',\n",
    "                    optimizer='adam')\n",
    "nn_model.summary()\n",
    "\n",
    "early_stopping = EarlyStopping(\n",
    "    patience=10,\n",
    "    min_delta=0.001,\n",
    "    restore_best_weights=True\n",
    ")\n",
    "history = nn_model.fit(\n",
    "    X_train, y_train,\n",
    "    validation_data=(X_test, y_test),\n",
    "    epochs=1000,\n",
    "    callbacks=[early_stopping])"
   ]
  },
  {
   "cell_type": "code",
   "execution_count": 316,
   "id": "2cb5f1fd",
   "metadata": {},
   "outputs": [
    {
     "name": "stdout",
     "output_type": "stream",
     "text": [
      "Accuracy: 0.9269269269269269\n"
     ]
    },
    {
     "data": {
      "text/plain": [
       "<sklearn.metrics._plot.confusion_matrix.ConfusionMatrixDisplay at 0x15c5e4fa0>"
      ]
     },
     "execution_count": 316,
     "metadata": {},
     "output_type": "execute_result"
    },
    {
     "data": {
      "image/png": "[encoded data removed]",
      "text/plain": [
       "<Figure size 432x288 with 1 Axes>"
      ]
     },
     "metadata": {
      "needs_background": "light"
     },
     "output_type": "display_data"
    },
    {
     "data": {
      "image/png": "[encoded data removed]",
      "text/plain": [
       "<Figure size 432x288 with 1 Axes>"
      ]
     },
     "metadata": {
      "needs_background": "light"
     },
     "output_type": "display_data"
    },
    {
     "data": {
      "image/png": "[encoded data removed]",
      "text/plain": [
       "<Figure size 432x288 with 2 Axes>"
      ]
     },
     "metadata": {
      "needs_background": "light"
     },
     "output_type": "display_data"
    }
   ],
   "source": [
    "history_frame = pd.DataFrame(history.history)\n",
    "history_frame.loc[:, ['loss', 'val_loss']].plot()\n",
    "history_frame.loc[:, ['accuracy', 'val_accuracy']].plot();\n",
    "nn_prediction_distributions = nn_model.predict(X_test)\n",
    "nn_prediction = []\n",
    "for i in range(len(nn_prediction_distributions)):\n",
    "    nn_prediction.append(np.argmax(nn_prediction_distributions[i]))\n",
    "    \n",
    "nn_acc = accuracy_score(y_test, nn_prediction)\n",
    "print(\"Accuracy: \" + str(nn_acc))\n",
    "cm = confusion_matrix(y_test, nn_prediction)\n",
    "disp = ConfusionMatrixDisplay(confusion_matrix=cm, display_labels=rf_model.classes_)\n",
    "disp.plot()"
   ]
  },
  {
   "cell_type": "markdown",
   "id": "e7ed6891",
   "metadata": {},
   "source": [
    "# 3.6 - Convolutional Neural Network (CNN)"
   ]
  },
  {
   "cell_type": "code",
   "execution_count": 304,
   "id": "f0670751",
   "metadata": {},
   "outputs": [
    {
     "name": "stdout",
     "output_type": "stream",
     "text": [
      "Model: \"sequential_60\"\n",
      "_________________________________________________________________\n",
      "Layer (type)                 Output Shape              Param #   \n",
      "=================================================================\n",
      "conv1d_65 (Conv1D)           (None, 57, 128)           768       \n",
      "_________________________________________________________________\n",
      "batch_normalization_55 (Batc (None, 57, 128)           512       \n",
      "_________________________________________________________________\n",
      "conv1d_66 (Conv1D)           (None, 57, 128)           114816    \n",
      "_________________________________________________________________\n",
      "batch_normalization_56 (Batc (None, 57, 128)           512       \n",
      "_________________________________________________________________\n",
      "flatten_33 (Flatten)         (None, 7296)              0         \n",
      "_________________________________________________________________\n",
      "dense_240 (Dense)            (None, 256)               1868032   \n",
      "_________________________________________________________________\n",
      "batch_normalization_57 (Batc (None, 256)               1024      \n",
      "_________________________________________________________________\n",
      "dense_241 (Dense)            (None, 256)               65792     \n",
      "_________________________________________________________________\n",
      "dropout_130 (Dropout)        (None, 256)               0         \n",
      "_________________________________________________________________\n",
      "batch_normalization_58 (Batc (None, 256)               1024      \n",
      "_________________________________________________________________\n",
      "dense_242 (Dense)            (None, 128)               32896     \n",
      "_________________________________________________________________\n",
      "dropout_131 (Dropout)        (None, 128)               0         \n",
      "_________________________________________________________________\n",
      "batch_normalization_59 (Batc (None, 128)               512       \n",
      "_________________________________________________________________\n",
      "dense_243 (Dense)            (None, 10)                1290      \n",
      "=================================================================\n",
      "Total params: 2,087,178\n",
      "Trainable params: 2,085,386\n",
      "Non-trainable params: 1,792\n",
      "_________________________________________________________________\n",
      "Epoch 1/1000\n",
      "250/250 [==============================] - 7s 25ms/step - loss: 1.2937 - accuracy: 0.5782 - val_loss: 1.6404 - val_accuracy: 0.4600\n",
      "Epoch 2/1000\n",
      "250/250 [==============================] - 6s 26ms/step - loss: 0.7287 - accuracy: 0.7651 - val_loss: 0.6317 - val_accuracy: 0.7878\n",
      "Epoch 3/1000\n",
      "250/250 [==============================] - 6s 25ms/step - loss: 0.4919 - accuracy: 0.8440 - val_loss: 0.4634 - val_accuracy: 0.8433\n",
      "Epoch 4/1000\n",
      "250/250 [==============================] - 6s 25ms/step - loss: 0.3504 - accuracy: 0.8876 - val_loss: 0.4071 - val_accuracy: 0.8744\n",
      "Epoch 5/1000\n",
      "250/250 [==============================] - 6s 26ms/step - loss: 0.2392 - accuracy: 0.9228 - val_loss: 0.3999 - val_accuracy: 0.8784\n",
      "Epoch 6/1000\n",
      "250/250 [==============================] - 6s 26ms/step - loss: 0.2058 - accuracy: 0.9347 - val_loss: 0.4139 - val_accuracy: 0.8794\n",
      "Epoch 7/1000\n",
      "250/250 [==============================] - 7s 27ms/step - loss: 0.1545 - accuracy: 0.9528 - val_loss: 0.3726 - val_accuracy: 0.8999\n",
      "Epoch 8/1000\n",
      "250/250 [==============================] - 7s 28ms/step - loss: 0.1184 - accuracy: 0.9641 - val_loss: 0.3892 - val_accuracy: 0.8934\n",
      "Epoch 9/1000\n",
      "250/250 [==============================] - 7s 27ms/step - loss: 0.1063 - accuracy: 0.9666 - val_loss: 0.3585 - val_accuracy: 0.8994\n",
      "Epoch 10/1000\n",
      "250/250 [==============================] - 6s 26ms/step - loss: 0.0889 - accuracy: 0.9726 - val_loss: 0.3926 - val_accuracy: 0.9024\n",
      "Epoch 11/1000\n",
      "250/250 [==============================] - 6s 25ms/step - loss: 0.1000 - accuracy: 0.9710 - val_loss: 0.3973 - val_accuracy: 0.9009\n",
      "Epoch 12/1000\n",
      "250/250 [==============================] - 6s 26ms/step - loss: 0.1011 - accuracy: 0.9690 - val_loss: 0.4310 - val_accuracy: 0.8959\n",
      "Epoch 13/1000\n",
      "250/250 [==============================] - 6s 25ms/step - loss: 0.0964 - accuracy: 0.9698 - val_loss: 0.3933 - val_accuracy: 0.9009\n",
      "Epoch 14/1000\n",
      "250/250 [==============================] - 6s 25ms/step - loss: 0.0662 - accuracy: 0.9791 - val_loss: 0.4048 - val_accuracy: 0.9094\n",
      "Epoch 15/1000\n",
      "250/250 [==============================] - 6s 25ms/step - loss: 0.0630 - accuracy: 0.9794 - val_loss: 0.3649 - val_accuracy: 0.9159\n",
      "Epoch 16/1000\n",
      "250/250 [==============================] - 6s 25ms/step - loss: 0.0676 - accuracy: 0.9767 - val_loss: 0.3930 - val_accuracy: 0.9099\n",
      "Epoch 17/1000\n",
      "250/250 [==============================] - 6s 26ms/step - loss: 0.0525 - accuracy: 0.9846 - val_loss: 0.3989 - val_accuracy: 0.9039\n",
      "Epoch 18/1000\n",
      "250/250 [==============================] - 6s 25ms/step - loss: 0.0457 - accuracy: 0.9857 - val_loss: 0.4167 - val_accuracy: 0.8994\n",
      "Epoch 19/1000\n",
      "250/250 [==============================] - 6s 26ms/step - loss: 0.0569 - accuracy: 0.9817 - val_loss: 0.4339 - val_accuracy: 0.8994\n",
      "Epoch 20/1000\n",
      "250/250 [==============================] - 7s 27ms/step - loss: 0.0625 - accuracy: 0.9800 - val_loss: 0.4230 - val_accuracy: 0.9089\n",
      "Epoch 21/1000\n",
      "250/250 [==============================] - 6s 25ms/step - loss: 0.0474 - accuracy: 0.9859 - val_loss: 0.4211 - val_accuracy: 0.9139\n",
      "Epoch 22/1000\n",
      "250/250 [==============================] - 6s 25ms/step - loss: 0.0772 - accuracy: 0.9754 - val_loss: 0.4650 - val_accuracy: 0.8974\n",
      "Epoch 23/1000\n",
      "250/250 [==============================] - 6s 26ms/step - loss: 0.0647 - accuracy: 0.9801 - val_loss: 0.4104 - val_accuracy: 0.9099\n",
      "Epoch 24/1000\n",
      "250/250 [==============================] - 6s 25ms/step - loss: 0.0411 - accuracy: 0.9859 - val_loss: 0.4295 - val_accuracy: 0.9074\n"
     ]
    }
   ],
   "source": [
    "# Define model\n",
    "cnn_X_train = np.array(X_train).reshape(X_train.shape[0], X_train.shape[1], 1)\n",
    "cnn_X_test = np.array(X_test).reshape(X_test.shape[0], X_test.shape[1], 1)\n",
    "\n",
    "cnn_model = keras.Sequential([\n",
    "    Conv1D(128, 5, activation='relu', padding='same', input_shape=(cnn_X_train.shape[1], 1)),\n",
    "    BatchNormalization(),\n",
    "    Conv1D(128, 7, activation='relu', padding='same'),\n",
    "    BatchNormalization(),\n",
    "    Flatten(),\n",
    "    Dense(256, activation='relu'),\n",
    "    BatchNormalization(),\n",
    "    Dense(256, activation='sigmoid'),\n",
    "    Dropout(0.2),\n",
    "    BatchNormalization(),\n",
    "    Dense(128, activation='sigmoid'),\n",
    "    Dropout(0.5),\n",
    "    BatchNormalization(),\n",
    "    Dense(10, activation='softmax')\n",
    "])\n",
    "cnn_model.compile(metrics=['accuracy'],\n",
    "                    loss='sparse_categorical_crossentropy',\n",
    "                    optimizer='adam')\n",
    "cnn_model.summary()\n",
    "\n",
    "early_stopping = EarlyStopping(\n",
    "    patience=15,\n",
    "    min_delta=0.0005,\n",
    "    restore_best_weights=True\n",
    ")\n",
    "history = cnn_model.fit(\n",
    "    cnn_X_train, y_train,\n",
    "    validation_data=(cnn_X_test, y_test),\n",
    "    epochs=1000,\n",
    "    callbacks=[early_stopping])"
   ]
  },
  {
   "cell_type": "code",
   "execution_count": 317,
   "id": "f67cc1ef",
   "metadata": {},
   "outputs": [
    {
     "name": "stdout",
     "output_type": "stream",
     "text": [
      "Accuracy: 0.8993993993993994\n"
     ]
    },
    {
     "data": {
      "text/plain": [
       "<sklearn.metrics._plot.confusion_matrix.ConfusionMatrixDisplay at 0x15eed8580>"
      ]
     },
     "execution_count": 317,
     "metadata": {},
     "output_type": "execute_result"
    },
    {
     "data": {
      "image/png": "[encoded data removed]",
      "text/plain": [
       "<Figure size 432x288 with 1 Axes>"
      ]
     },
     "metadata": {
      "needs_background": "light"
     },
     "output_type": "display_data"
    },
    {
     "data": {
      "image/png": "[encoded data removed]",
      "text/plain": [
       "<Figure size 432x288 with 1 Axes>"
      ]
     },
     "metadata": {
      "needs_background": "light"
     },
     "output_type": "display_data"
    },
    {
     "data": {
      "image/png": "[encoded data removed]",
      "text/plain": [
       "<Figure size 432x288 with 2 Axes>"
      ]
     },
     "metadata": {
      "needs_background": "light"
     },
     "output_type": "display_data"
    }
   ],
   "source": [
    "history_frame = pd.DataFrame(history.history)\n",
    "history_frame.loc[:, ['loss', 'val_loss']].plot()\n",
    "history_frame.loc[:, ['accuracy', 'val_accuracy']].plot();\n",
    "cnn_prediction_distributions = cnn_model.predict(cnn_X_test)\n",
    "cnn_prediction = []\n",
    "for i in range(len(cnn_prediction_distributions)):\n",
    "    cnn_prediction.append(np.argmax(cnn_prediction_distributions[i]))\n",
    "\n",
    "cnn_acc = accuracy_score(y_test, cnn_prediction)\n",
    "print(\"Accuracy: \" + str(cnn_acc))\n",
    "cm = confusion_matrix(y_test, cnn_prediction)\n",
    "disp = ConfusionMatrixDisplay(confusion_matrix=cm, display_labels=rf_model.classes_)\n",
    "disp.plot()"
   ]
  },
  {
   "cell_type": "markdown",
   "id": "65433762",
   "metadata": {},
   "source": [
    "## 3.7 - Baseline model evaluation"
   ]
  },
  {
   "cell_type": "code",
   "execution_count": 350,
   "id": "0abfc3a4",
   "metadata": {},
   "outputs": [
    {
     "data": {
      "text/plain": [
       "<AxesSubplot:xlabel='model', ylabel='accuracy'>"
      ]
     },
     "execution_count": 350,
     "metadata": {},
     "output_type": "execute_result"
    },
    {
     "data": {
      "image/png": "[encoded data removed]",
      "text/plain": [
       "<Figure size 432x288 with 1 Axes>"
      ]
     },
     "metadata": {
      "needs_background": "light"
     },
     "output_type": "display_data"
    }
   ],
   "source": [
    "base_model_eval_data = { 'knn': knn_acc, 'svm': svm_acc, 'nb': nb_acc, 'dt': dt_acc,\n",
    "                        'rf': rf_acc, 'nn': nn_acc, 'cnn': cnn_acc }\n",
    "\n",
    "list(base_model_eval_data.items())\n",
    "base_model_eval_df = pd.DataFrame(data=list(base_model_eval_data.items()), columns=['model', 'accuracy'])\n",
    "base_model_eval_df = base_model_eval_df.sort_values('accuracy', ascending=False).reset_index()\n",
    "sns.barplot(x='model', y='accuracy', data=base_model_eval_df)"
   ]
  },
  {
   "cell_type": "markdown",
   "id": "c9764024",
   "metadata": {},
   "source": [
    "As shown in the graph above, the worst performant models were the Decision Tree and the Naive Bayes, which means that from now on, these will be ignored. The best model was a Neural Network with an aproximate accuracy of 92%.<br/>\n",
    "On the next section, I'll be fine tuning the parameters of the best models: Neural Network, Convolutional Neural Network, KNN, Random Forest and SVM."
   ]
  },
  {
   "cell_type": "markdown",
   "id": "bcf8d607",
   "metadata": {},
   "source": [
    "# 4 - Hyper-parameters fine tuning"
   ]
  },
  {
   "cell_type": "code",
   "execution_count": null,
   "id": "7f35e793",
   "metadata": {},
   "outputs": [],
   "source": []
  },
  {
   "cell_type": "code",
   "execution_count": null,
   "id": "cb5d4bba",
   "metadata": {},
   "outputs": [],
   "source": []
  }
 ],
 "metadata": {
  "kernelspec": {
   "display_name": "Python 3",
   "language": "python",
   "name": "python3"
  },
  "language_info": {
   "codemirror_mode": {
    "name": "ipython",
    "version": 3
   },
   "file_extension": ".py",
   "mimetype": "text/x-python",
   "name": "python",
   "nbconvert_exporter": "python",
   "pygments_lexer": "ipython3",
   "version": "3.8.2"
  }
 },
 "nbformat": 4,
 "nbformat_minor": 5
}
