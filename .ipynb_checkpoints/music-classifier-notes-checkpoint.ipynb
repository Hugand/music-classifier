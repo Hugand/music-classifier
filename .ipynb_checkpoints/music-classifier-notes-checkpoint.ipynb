{
 "cells": [
  {
   "cell_type": "code",
   "execution_count": 2,
   "id": "e3fc829b",
   "metadata": {},
   "outputs": [],
   "source": [
    "import pandas as pd\n",
    "import numpy as np\n",
    "import matplotlib.pyplot as plt\n",
    "import librosa\n",
    "import seaborn as sns\n",
    "from sklearn.preprocessing import LabelEncoder, StandardScaler\n",
    "from tensorflow import keras\n",
    "from keras.callbacks import EarlyStopping\n",
    "from keras.layers import Dense, Input, Dropout, BatchNormalization, Conv1D, MaxPooling1D, Flatten\n",
    "from sklearn.utils import shuffle\n",
    "from sklearn.model_selection import train_test_split\n",
    "from sklearn.metrics import ConfusionMatrixDisplay, f1_score, accuracy_score, mean_squared_error, confusion_matrix\n",
    "\n",
    "from sklearn.neighbors import KNeighborsClassifier\n",
    "from sklearn.tree import DecisionTreeClassifier\n",
    "from sklearn.ensemble import RandomForestClassifier\n",
    "from sklearn.svm import SVC\n",
    "from sklearn.naive_bayes import GaussianNB\n",
    "from sklearn.decomposition import PCA\n",
    "from sklearn.model_selection import GridSearchCV, cross_val_score"
   ]
  },
  {
   "cell_type": "markdown",
   "id": "136a5cd8",
   "metadata": {},
   "source": [
    "# 1 - Load dataset\n",
    "For now I'll work with 3 second samples. Later might try with 5sec samples"
   ]
  },
  {
   "cell_type": "code",
   "execution_count": 3,
   "id": "7c2839bf",
   "metadata": {},
   "outputs": [
    {
     "data": {
      "text/html": [
       "<div>\n",
       "<style scoped>\n",
       "    .dataframe tbody tr th:only-of-type {\n",
       "        vertical-align: middle;\n",
       "    }\n",
       "\n",
       "    .dataframe tbody tr th {\n",
       "        vertical-align: top;\n",
       "    }\n",
       "\n",
       "    .dataframe thead th {\n",
       "        text-align: right;\n",
       "    }\n",
       "</style>\n",
       "<table border=\"1\" class=\"dataframe\">\n",
       "  <thead>\n",
       "    <tr style=\"text-align: right;\">\n",
       "      <th></th>\n",
       "      <th>filename</th>\n",
       "      <th>length</th>\n",
       "      <th>chroma_stft_mean</th>\n",
       "      <th>chroma_stft_var</th>\n",
       "      <th>rms_mean</th>\n",
       "      <th>rms_var</th>\n",
       "      <th>spectral_centroid_mean</th>\n",
       "      <th>spectral_centroid_var</th>\n",
       "      <th>spectral_bandwidth_mean</th>\n",
       "      <th>spectral_bandwidth_var</th>\n",
       "      <th>...</th>\n",
       "      <th>mfcc16_var</th>\n",
       "      <th>mfcc17_mean</th>\n",
       "      <th>mfcc17_var</th>\n",
       "      <th>mfcc18_mean</th>\n",
       "      <th>mfcc18_var</th>\n",
       "      <th>mfcc19_mean</th>\n",
       "      <th>mfcc19_var</th>\n",
       "      <th>mfcc20_mean</th>\n",
       "      <th>mfcc20_var</th>\n",
       "      <th>label</th>\n",
       "    </tr>\n",
       "  </thead>\n",
       "  <tbody>\n",
       "    <tr>\n",
       "      <th>0</th>\n",
       "      <td>blues.00000.0.wav</td>\n",
       "      <td>66149</td>\n",
       "      <td>0.335406</td>\n",
       "      <td>0.091048</td>\n",
       "      <td>0.130405</td>\n",
       "      <td>0.003521</td>\n",
       "      <td>1773.065032</td>\n",
       "      <td>167541.630869</td>\n",
       "      <td>1972.744388</td>\n",
       "      <td>117335.771563</td>\n",
       "      <td>...</td>\n",
       "      <td>39.687145</td>\n",
       "      <td>-3.241280</td>\n",
       "      <td>36.488243</td>\n",
       "      <td>0.722209</td>\n",
       "      <td>38.099152</td>\n",
       "      <td>-5.050335</td>\n",
       "      <td>33.618073</td>\n",
       "      <td>-0.243027</td>\n",
       "      <td>43.771767</td>\n",
       "      <td>blues</td>\n",
       "    </tr>\n",
       "    <tr>\n",
       "      <th>1</th>\n",
       "      <td>blues.00000.1.wav</td>\n",
       "      <td>66149</td>\n",
       "      <td>0.343065</td>\n",
       "      <td>0.086147</td>\n",
       "      <td>0.112699</td>\n",
       "      <td>0.001450</td>\n",
       "      <td>1816.693777</td>\n",
       "      <td>90525.690866</td>\n",
       "      <td>2010.051501</td>\n",
       "      <td>65671.875673</td>\n",
       "      <td>...</td>\n",
       "      <td>64.748276</td>\n",
       "      <td>-6.055294</td>\n",
       "      <td>40.677654</td>\n",
       "      <td>0.159015</td>\n",
       "      <td>51.264091</td>\n",
       "      <td>-2.837699</td>\n",
       "      <td>97.030830</td>\n",
       "      <td>5.784063</td>\n",
       "      <td>59.943081</td>\n",
       "      <td>blues</td>\n",
       "    </tr>\n",
       "    <tr>\n",
       "      <th>2</th>\n",
       "      <td>blues.00000.2.wav</td>\n",
       "      <td>66149</td>\n",
       "      <td>0.346815</td>\n",
       "      <td>0.092243</td>\n",
       "      <td>0.132003</td>\n",
       "      <td>0.004620</td>\n",
       "      <td>1788.539719</td>\n",
       "      <td>111407.437613</td>\n",
       "      <td>2084.565132</td>\n",
       "      <td>75124.921716</td>\n",
       "      <td>...</td>\n",
       "      <td>67.336563</td>\n",
       "      <td>-1.768610</td>\n",
       "      <td>28.348579</td>\n",
       "      <td>2.378768</td>\n",
       "      <td>45.717648</td>\n",
       "      <td>-1.938424</td>\n",
       "      <td>53.050835</td>\n",
       "      <td>2.517375</td>\n",
       "      <td>33.105122</td>\n",
       "      <td>blues</td>\n",
       "    </tr>\n",
       "    <tr>\n",
       "      <th>3</th>\n",
       "      <td>blues.00000.3.wav</td>\n",
       "      <td>66149</td>\n",
       "      <td>0.363639</td>\n",
       "      <td>0.086856</td>\n",
       "      <td>0.132565</td>\n",
       "      <td>0.002448</td>\n",
       "      <td>1655.289045</td>\n",
       "      <td>111952.284517</td>\n",
       "      <td>1960.039988</td>\n",
       "      <td>82913.639269</td>\n",
       "      <td>...</td>\n",
       "      <td>47.739452</td>\n",
       "      <td>-3.841155</td>\n",
       "      <td>28.337118</td>\n",
       "      <td>1.218588</td>\n",
       "      <td>34.770935</td>\n",
       "      <td>-3.580352</td>\n",
       "      <td>50.836224</td>\n",
       "      <td>3.630866</td>\n",
       "      <td>32.023678</td>\n",
       "      <td>blues</td>\n",
       "    </tr>\n",
       "    <tr>\n",
       "      <th>4</th>\n",
       "      <td>blues.00000.4.wav</td>\n",
       "      <td>66149</td>\n",
       "      <td>0.335579</td>\n",
       "      <td>0.088129</td>\n",
       "      <td>0.143289</td>\n",
       "      <td>0.001701</td>\n",
       "      <td>1630.656199</td>\n",
       "      <td>79667.267654</td>\n",
       "      <td>1948.503884</td>\n",
       "      <td>60204.020268</td>\n",
       "      <td>...</td>\n",
       "      <td>30.336359</td>\n",
       "      <td>0.664582</td>\n",
       "      <td>45.880913</td>\n",
       "      <td>1.689446</td>\n",
       "      <td>51.363583</td>\n",
       "      <td>-3.392489</td>\n",
       "      <td>26.738789</td>\n",
       "      <td>0.536961</td>\n",
       "      <td>29.146694</td>\n",
       "      <td>blues</td>\n",
       "    </tr>\n",
       "  </tbody>\n",
       "</table>\n",
       "<p>5 rows × 60 columns</p>\n",
       "</div>"
      ],
      "text/plain": [
       "            filename  length  chroma_stft_mean  chroma_stft_var  rms_mean  \\\n",
       "0  blues.00000.0.wav   66149          0.335406         0.091048  0.130405   \n",
       "1  blues.00000.1.wav   66149          0.343065         0.086147  0.112699   \n",
       "2  blues.00000.2.wav   66149          0.346815         0.092243  0.132003   \n",
       "3  blues.00000.3.wav   66149          0.363639         0.086856  0.132565   \n",
       "4  blues.00000.4.wav   66149          0.335579         0.088129  0.143289   \n",
       "\n",
       "    rms_var  spectral_centroid_mean  spectral_centroid_var  \\\n",
       "0  0.003521             1773.065032          167541.630869   \n",
       "1  0.001450             1816.693777           90525.690866   \n",
       "2  0.004620             1788.539719          111407.437613   \n",
       "3  0.002448             1655.289045          111952.284517   \n",
       "4  0.001701             1630.656199           79667.267654   \n",
       "\n",
       "   spectral_bandwidth_mean  spectral_bandwidth_var  ...  mfcc16_var  \\\n",
       "0              1972.744388           117335.771563  ...   39.687145   \n",
       "1              2010.051501            65671.875673  ...   64.748276   \n",
       "2              2084.565132            75124.921716  ...   67.336563   \n",
       "3              1960.039988            82913.639269  ...   47.739452   \n",
       "4              1948.503884            60204.020268  ...   30.336359   \n",
       "\n",
       "   mfcc17_mean  mfcc17_var  mfcc18_mean  mfcc18_var  mfcc19_mean  mfcc19_var  \\\n",
       "0    -3.241280   36.488243     0.722209   38.099152    -5.050335   33.618073   \n",
       "1    -6.055294   40.677654     0.159015   51.264091    -2.837699   97.030830   \n",
       "2    -1.768610   28.348579     2.378768   45.717648    -1.938424   53.050835   \n",
       "3    -3.841155   28.337118     1.218588   34.770935    -3.580352   50.836224   \n",
       "4     0.664582   45.880913     1.689446   51.363583    -3.392489   26.738789   \n",
       "\n",
       "   mfcc20_mean  mfcc20_var  label  \n",
       "0    -0.243027   43.771767  blues  \n",
       "1     5.784063   59.943081  blues  \n",
       "2     2.517375   33.105122  blues  \n",
       "3     3.630866   32.023678  blues  \n",
       "4     0.536961   29.146694  blues  \n",
       "\n",
       "[5 rows x 60 columns]"
      ]
     },
     "execution_count": 3,
     "metadata": {},
     "output_type": "execute_result"
    }
   ],
   "source": [
    "features_3_sec = pd.read_csv('./Data/features_3_sec.csv')\n",
    "#features_30_sec = pd.read_csv('./Data/features_30_sec.csv')\n",
    "features_3_sec.head()"
   ]
  },
  {
   "cell_type": "code",
   "execution_count": 210,
   "id": "59a56d31",
   "metadata": {},
   "outputs": [
    {
     "data": {
      "text/html": [
       "<div>\n",
       "<style scoped>\n",
       "    .dataframe tbody tr th:only-of-type {\n",
       "        vertical-align: middle;\n",
       "    }\n",
       "\n",
       "    .dataframe tbody tr th {\n",
       "        vertical-align: top;\n",
       "    }\n",
       "\n",
       "    .dataframe thead th {\n",
       "        text-align: right;\n",
       "    }\n",
       "</style>\n",
       "<table border=\"1\" class=\"dataframe\">\n",
       "  <thead>\n",
       "    <tr style=\"text-align: right;\">\n",
       "      <th></th>\n",
       "      <th>length</th>\n",
       "      <th>chroma_stft_mean</th>\n",
       "      <th>chroma_stft_var</th>\n",
       "      <th>rms_mean</th>\n",
       "      <th>rms_var</th>\n",
       "      <th>spectral_centroid_mean</th>\n",
       "      <th>spectral_centroid_var</th>\n",
       "      <th>spectral_bandwidth_mean</th>\n",
       "      <th>spectral_bandwidth_var</th>\n",
       "      <th>rolloff_mean</th>\n",
       "      <th>...</th>\n",
       "      <th>mfcc16_mean</th>\n",
       "      <th>mfcc16_var</th>\n",
       "      <th>mfcc17_mean</th>\n",
       "      <th>mfcc17_var</th>\n",
       "      <th>mfcc18_mean</th>\n",
       "      <th>mfcc18_var</th>\n",
       "      <th>mfcc19_mean</th>\n",
       "      <th>mfcc19_var</th>\n",
       "      <th>mfcc20_mean</th>\n",
       "      <th>mfcc20_var</th>\n",
       "    </tr>\n",
       "  </thead>\n",
       "  <tbody>\n",
       "    <tr>\n",
       "      <th>count</th>\n",
       "      <td>9990.0</td>\n",
       "      <td>9990.000000</td>\n",
       "      <td>9990.000000</td>\n",
       "      <td>9990.000000</td>\n",
       "      <td>9.990000e+03</td>\n",
       "      <td>9990.000000</td>\n",
       "      <td>9.990000e+03</td>\n",
       "      <td>9990.000000</td>\n",
       "      <td>9.990000e+03</td>\n",
       "      <td>9990.000000</td>\n",
       "      <td>...</td>\n",
       "      <td>9990.000000</td>\n",
       "      <td>9990.000000</td>\n",
       "      <td>9990.000000</td>\n",
       "      <td>9990.000000</td>\n",
       "      <td>9990.000000</td>\n",
       "      <td>9990.000000</td>\n",
       "      <td>9990.000000</td>\n",
       "      <td>9990.000000</td>\n",
       "      <td>9990.000000</td>\n",
       "      <td>9990.000000</td>\n",
       "    </tr>\n",
       "    <tr>\n",
       "      <th>mean</th>\n",
       "      <td>66149.0</td>\n",
       "      <td>0.379534</td>\n",
       "      <td>0.084876</td>\n",
       "      <td>0.130859</td>\n",
       "      <td>2.676388e-03</td>\n",
       "      <td>2199.219431</td>\n",
       "      <td>4.166727e+05</td>\n",
       "      <td>2241.385959</td>\n",
       "      <td>1.182711e+05</td>\n",
       "      <td>4566.076592</td>\n",
       "      <td>...</td>\n",
       "      <td>1.448240</td>\n",
       "      <td>49.988755</td>\n",
       "      <td>-4.198706</td>\n",
       "      <td>51.962753</td>\n",
       "      <td>0.739943</td>\n",
       "      <td>52.488851</td>\n",
       "      <td>-2.497306</td>\n",
       "      <td>54.973829</td>\n",
       "      <td>-0.917584</td>\n",
       "      <td>57.322614</td>\n",
       "    </tr>\n",
       "    <tr>\n",
       "      <th>std</th>\n",
       "      <td>0.0</td>\n",
       "      <td>0.090466</td>\n",
       "      <td>0.009637</td>\n",
       "      <td>0.068545</td>\n",
       "      <td>3.585628e-03</td>\n",
       "      <td>751.860611</td>\n",
       "      <td>4.349644e+05</td>\n",
       "      <td>543.854449</td>\n",
       "      <td>1.013505e+05</td>\n",
       "      <td>1642.065335</td>\n",
       "      <td>...</td>\n",
       "      <td>5.735149</td>\n",
       "      <td>34.442816</td>\n",
       "      <td>5.677379</td>\n",
       "      <td>36.400669</td>\n",
       "      <td>5.181313</td>\n",
       "      <td>38.177120</td>\n",
       "      <td>5.111799</td>\n",
       "      <td>41.585677</td>\n",
       "      <td>5.253243</td>\n",
       "      <td>46.444212</td>\n",
       "    </tr>\n",
       "    <tr>\n",
       "      <th>min</th>\n",
       "      <td>66149.0</td>\n",
       "      <td>0.107108</td>\n",
       "      <td>0.015345</td>\n",
       "      <td>0.000953</td>\n",
       "      <td>4.379535e-08</td>\n",
       "      <td>472.741636</td>\n",
       "      <td>8.118813e+02</td>\n",
       "      <td>499.162910</td>\n",
       "      <td>1.183520e+03</td>\n",
       "      <td>658.336276</td>\n",
       "      <td>...</td>\n",
       "      <td>-26.850016</td>\n",
       "      <td>1.325786</td>\n",
       "      <td>-27.809795</td>\n",
       "      <td>1.624544</td>\n",
       "      <td>-20.733809</td>\n",
       "      <td>3.437439</td>\n",
       "      <td>-27.448456</td>\n",
       "      <td>3.065302</td>\n",
       "      <td>-35.640659</td>\n",
       "      <td>0.282131</td>\n",
       "    </tr>\n",
       "    <tr>\n",
       "      <th>25%</th>\n",
       "      <td>66149.0</td>\n",
       "      <td>0.315698</td>\n",
       "      <td>0.079833</td>\n",
       "      <td>0.083782</td>\n",
       "      <td>6.145900e-04</td>\n",
       "      <td>1630.680158</td>\n",
       "      <td>1.231961e+05</td>\n",
       "      <td>1887.455790</td>\n",
       "      <td>4.876553e+04</td>\n",
       "      <td>3378.311110</td>\n",
       "      <td>...</td>\n",
       "      <td>-2.227478</td>\n",
       "      <td>29.584894</td>\n",
       "      <td>-7.951722</td>\n",
       "      <td>29.863448</td>\n",
       "      <td>-2.516638</td>\n",
       "      <td>29.636197</td>\n",
       "      <td>-5.734123</td>\n",
       "      <td>30.496412</td>\n",
       "      <td>-4.004475</td>\n",
       "      <td>30.011365</td>\n",
       "    </tr>\n",
       "    <tr>\n",
       "      <th>50%</th>\n",
       "      <td>66149.0</td>\n",
       "      <td>0.384741</td>\n",
       "      <td>0.085108</td>\n",
       "      <td>0.121253</td>\n",
       "      <td>1.491318e-03</td>\n",
       "      <td>2208.628236</td>\n",
       "      <td>2.650692e+05</td>\n",
       "      <td>2230.575595</td>\n",
       "      <td>8.996072e+04</td>\n",
       "      <td>4631.377892</td>\n",
       "      <td>...</td>\n",
       "      <td>1.461623</td>\n",
       "      <td>41.702393</td>\n",
       "      <td>-4.443021</td>\n",
       "      <td>42.393583</td>\n",
       "      <td>0.733772</td>\n",
       "      <td>41.831377</td>\n",
       "      <td>-2.702366</td>\n",
       "      <td>43.435253</td>\n",
       "      <td>-1.030939</td>\n",
       "      <td>44.332155</td>\n",
       "    </tr>\n",
       "    <tr>\n",
       "      <th>75%</th>\n",
       "      <td>66149.0</td>\n",
       "      <td>0.442443</td>\n",
       "      <td>0.091092</td>\n",
       "      <td>0.176328</td>\n",
       "      <td>3.130862e-03</td>\n",
       "      <td>2712.581884</td>\n",
       "      <td>5.624152e+05</td>\n",
       "      <td>2588.340505</td>\n",
       "      <td>1.585674e+05</td>\n",
       "      <td>5591.634521</td>\n",
       "      <td>...</td>\n",
       "      <td>5.149752</td>\n",
       "      <td>59.274619</td>\n",
       "      <td>-0.726945</td>\n",
       "      <td>61.676964</td>\n",
       "      <td>3.888734</td>\n",
       "      <td>62.033906</td>\n",
       "      <td>0.514246</td>\n",
       "      <td>65.328602</td>\n",
       "      <td>2.216603</td>\n",
       "      <td>68.210421</td>\n",
       "    </tr>\n",
       "    <tr>\n",
       "      <th>max</th>\n",
       "      <td>66149.0</td>\n",
       "      <td>0.749481</td>\n",
       "      <td>0.120964</td>\n",
       "      <td>0.442567</td>\n",
       "      <td>3.261522e-02</td>\n",
       "      <td>5432.534406</td>\n",
       "      <td>4.794119e+06</td>\n",
       "      <td>3708.147554</td>\n",
       "      <td>1.235143e+06</td>\n",
       "      <td>9487.446477</td>\n",
       "      <td>...</td>\n",
       "      <td>39.144405</td>\n",
       "      <td>683.932556</td>\n",
       "      <td>34.048843</td>\n",
       "      <td>529.363342</td>\n",
       "      <td>36.970322</td>\n",
       "      <td>629.729797</td>\n",
       "      <td>31.365425</td>\n",
       "      <td>1143.230591</td>\n",
       "      <td>34.212101</td>\n",
       "      <td>910.473206</td>\n",
       "    </tr>\n",
       "  </tbody>\n",
       "</table>\n",
       "<p>8 rows × 58 columns</p>\n",
       "</div>"
      ],
      "text/plain": [
       "        length  chroma_stft_mean  chroma_stft_var     rms_mean       rms_var  \\\n",
       "count   9990.0       9990.000000      9990.000000  9990.000000  9.990000e+03   \n",
       "mean   66149.0          0.379534         0.084876     0.130859  2.676388e-03   \n",
       "std        0.0          0.090466         0.009637     0.068545  3.585628e-03   \n",
       "min    66149.0          0.107108         0.015345     0.000953  4.379535e-08   \n",
       "25%    66149.0          0.315698         0.079833     0.083782  6.145900e-04   \n",
       "50%    66149.0          0.384741         0.085108     0.121253  1.491318e-03   \n",
       "75%    66149.0          0.442443         0.091092     0.176328  3.130862e-03   \n",
       "max    66149.0          0.749481         0.120964     0.442567  3.261522e-02   \n",
       "\n",
       "       spectral_centroid_mean  spectral_centroid_var  spectral_bandwidth_mean  \\\n",
       "count             9990.000000           9.990000e+03              9990.000000   \n",
       "mean              2199.219431           4.166727e+05              2241.385959   \n",
       "std                751.860611           4.349644e+05               543.854449   \n",
       "min                472.741636           8.118813e+02               499.162910   \n",
       "25%               1630.680158           1.231961e+05              1887.455790   \n",
       "50%               2208.628236           2.650692e+05              2230.575595   \n",
       "75%               2712.581884           5.624152e+05              2588.340505   \n",
       "max               5432.534406           4.794119e+06              3708.147554   \n",
       "\n",
       "       spectral_bandwidth_var  rolloff_mean  ...  mfcc16_mean   mfcc16_var  \\\n",
       "count            9.990000e+03   9990.000000  ...  9990.000000  9990.000000   \n",
       "mean             1.182711e+05   4566.076592  ...     1.448240    49.988755   \n",
       "std              1.013505e+05   1642.065335  ...     5.735149    34.442816   \n",
       "min              1.183520e+03    658.336276  ...   -26.850016     1.325786   \n",
       "25%              4.876553e+04   3378.311110  ...    -2.227478    29.584894   \n",
       "50%              8.996072e+04   4631.377892  ...     1.461623    41.702393   \n",
       "75%              1.585674e+05   5591.634521  ...     5.149752    59.274619   \n",
       "max              1.235143e+06   9487.446477  ...    39.144405   683.932556   \n",
       "\n",
       "       mfcc17_mean   mfcc17_var  mfcc18_mean   mfcc18_var  mfcc19_mean  \\\n",
       "count  9990.000000  9990.000000  9990.000000  9990.000000  9990.000000   \n",
       "mean     -4.198706    51.962753     0.739943    52.488851    -2.497306   \n",
       "std       5.677379    36.400669     5.181313    38.177120     5.111799   \n",
       "min     -27.809795     1.624544   -20.733809     3.437439   -27.448456   \n",
       "25%      -7.951722    29.863448    -2.516638    29.636197    -5.734123   \n",
       "50%      -4.443021    42.393583     0.733772    41.831377    -2.702366   \n",
       "75%      -0.726945    61.676964     3.888734    62.033906     0.514246   \n",
       "max      34.048843   529.363342    36.970322   629.729797    31.365425   \n",
       "\n",
       "        mfcc19_var  mfcc20_mean   mfcc20_var  \n",
       "count  9990.000000  9990.000000  9990.000000  \n",
       "mean     54.973829    -0.917584    57.322614  \n",
       "std      41.585677     5.253243    46.444212  \n",
       "min       3.065302   -35.640659     0.282131  \n",
       "25%      30.496412    -4.004475    30.011365  \n",
       "50%      43.435253    -1.030939    44.332155  \n",
       "75%      65.328602     2.216603    68.210421  \n",
       "max    1143.230591    34.212101   910.473206  \n",
       "\n",
       "[8 rows x 58 columns]"
      ]
     },
     "execution_count": 210,
     "metadata": {},
     "output_type": "execute_result"
    }
   ],
   "source": [
    "features_3_sec.describe()"
   ]
  },
  {
   "cell_type": "code",
   "execution_count": 211,
   "id": "1ca3723b",
   "metadata": {},
   "outputs": [
    {
     "data": {
      "text/plain": [
       "Index(['filename', 'length', 'chroma_stft_mean', 'chroma_stft_var', 'rms_mean',\n",
       "       'rms_var', 'spectral_centroid_mean', 'spectral_centroid_var',\n",
       "       'spectral_bandwidth_mean', 'spectral_bandwidth_var', 'rolloff_mean',\n",
       "       'rolloff_var', 'zero_crossing_rate_mean', 'zero_crossing_rate_var',\n",
       "       'harmony_mean', 'harmony_var', 'perceptr_mean', 'perceptr_var', 'tempo',\n",
       "       'mfcc1_mean', 'mfcc1_var', 'mfcc2_mean', 'mfcc2_var', 'mfcc3_mean',\n",
       "       'mfcc3_var', 'mfcc4_mean', 'mfcc4_var', 'mfcc5_mean', 'mfcc5_var',\n",
       "       'mfcc6_mean', 'mfcc6_var', 'mfcc7_mean', 'mfcc7_var', 'mfcc8_mean',\n",
       "       'mfcc8_var', 'mfcc9_mean', 'mfcc9_var', 'mfcc10_mean', 'mfcc10_var',\n",
       "       'mfcc11_mean', 'mfcc11_var', 'mfcc12_mean', 'mfcc12_var', 'mfcc13_mean',\n",
       "       'mfcc13_var', 'mfcc14_mean', 'mfcc14_var', 'mfcc15_mean', 'mfcc15_var',\n",
       "       'mfcc16_mean', 'mfcc16_var', 'mfcc17_mean', 'mfcc17_var', 'mfcc18_mean',\n",
       "       'mfcc18_var', 'mfcc19_mean', 'mfcc19_var', 'mfcc20_mean', 'mfcc20_var',\n",
       "       'label'],\n",
       "      dtype='object')"
      ]
     },
     "execution_count": 211,
     "metadata": {},
     "output_type": "execute_result"
    }
   ],
   "source": [
    "features_3_sec.columns"
   ]
  },
  {
   "cell_type": "code",
   "execution_count": 212,
   "id": "bfd8e0b0",
   "metadata": {},
   "outputs": [
    {
     "data": {
      "text/plain": [
       "array(['blues', 'classical', 'country', 'disco', 'hiphop', 'jazz',\n",
       "       'metal', 'pop', 'reggae', 'rock'], dtype=object)"
      ]
     },
     "execution_count": 212,
     "metadata": {},
     "output_type": "execute_result"
    }
   ],
   "source": [
    "labels = features_3_sec.label.unique()\n",
    "labels"
   ]
  },
  {
   "cell_type": "markdown",
   "id": "e4087a24",
   "metadata": {},
   "source": [
    "# 2 - Analyse numerical data\n",
    "First lets split and prepare the dataset. First, the filenames will be saved in a seperate variable since they're only used for the identification of the entries and not useful for the prediction of each genre. The length column will be dropped, since it is the same in every entry of the dataset, which makes it useless for the task. Finally, the label column will be seperated from the rest of the dataset, since it is the target classification, and encoded using the LabelEncoder.<br/><br/>\n",
    "Note: For now I won't be worrying with handling the outliers in the data. I might look into it if the results of the models are bad."
   ]
  },
  {
   "cell_type": "code",
   "execution_count": 4,
   "id": "7dcaa665",
   "metadata": {},
   "outputs": [],
   "source": [
    "filenames = features_3_sec.filename\n",
    "X = features_3_sec.drop(columns=['filename', 'length', 'label'])\n",
    "y = features_3_sec.label\n",
    "\n",
    "encoder = LabelEncoder()\n",
    "y = encoder.fit_transform(y)"
   ]
  },
  {
   "cell_type": "markdown",
   "id": "42c6c05e",
   "metadata": {},
   "source": [
    "## 2.1 - Numerical data scaling\n",
    "The data will be scaled using the StandardScaler because of usually giving better results the the MinMax, for example."
   ]
  },
  {
   "cell_type": "code",
   "execution_count": 109,
   "id": "04a4a5cc",
   "metadata": {},
   "outputs": [
    {
     "data": {
      "text/html": [
       "<div>\n",
       "<style scoped>\n",
       "    .dataframe tbody tr th:only-of-type {\n",
       "        vertical-align: middle;\n",
       "    }\n",
       "\n",
       "    .dataframe tbody tr th {\n",
       "        vertical-align: top;\n",
       "    }\n",
       "\n",
       "    .dataframe thead th {\n",
       "        text-align: right;\n",
       "    }\n",
       "</style>\n",
       "<table border=\"1\" class=\"dataframe\">\n",
       "  <thead>\n",
       "    <tr style=\"text-align: right;\">\n",
       "      <th></th>\n",
       "      <th>chroma_stft_mean</th>\n",
       "      <th>chroma_stft_var</th>\n",
       "      <th>rms_mean</th>\n",
       "      <th>rms_var</th>\n",
       "      <th>spectral_centroid_mean</th>\n",
       "      <th>spectral_centroid_var</th>\n",
       "      <th>spectral_bandwidth_mean</th>\n",
       "      <th>spectral_bandwidth_var</th>\n",
       "      <th>rolloff_mean</th>\n",
       "      <th>rolloff_var</th>\n",
       "      <th>...</th>\n",
       "      <th>mfcc16_mean</th>\n",
       "      <th>mfcc16_var</th>\n",
       "      <th>mfcc17_mean</th>\n",
       "      <th>mfcc17_var</th>\n",
       "      <th>mfcc18_mean</th>\n",
       "      <th>mfcc18_var</th>\n",
       "      <th>mfcc19_mean</th>\n",
       "      <th>mfcc19_var</th>\n",
       "      <th>mfcc20_mean</th>\n",
       "      <th>mfcc20_var</th>\n",
       "    </tr>\n",
       "  </thead>\n",
       "  <tbody>\n",
       "    <tr>\n",
       "      <th>0</th>\n",
       "      <td>-0.487808</td>\n",
       "      <td>0.640520</td>\n",
       "      <td>-0.006624</td>\n",
       "      <td>0.235568</td>\n",
       "      <td>-0.566828</td>\n",
       "      <td>-0.572791</td>\n",
       "      <td>-0.493983</td>\n",
       "      <td>-0.009229</td>\n",
       "      <td>-0.518590</td>\n",
       "      <td>-0.367952</td>\n",
       "      <td>...</td>\n",
       "      <td>-0.750122</td>\n",
       "      <td>-0.299108</td>\n",
       "      <td>0.168647</td>\n",
       "      <td>-0.425137</td>\n",
       "      <td>-0.003423</td>\n",
       "      <td>-0.376938</td>\n",
       "      <td>-0.499464</td>\n",
       "      <td>-0.513562</td>\n",
       "      <td>0.128414</td>\n",
       "      <td>-0.291781</td>\n",
       "    </tr>\n",
       "    <tr>\n",
       "      <th>1</th>\n",
       "      <td>-0.403142</td>\n",
       "      <td>0.131835</td>\n",
       "      <td>-0.264944</td>\n",
       "      <td>-0.342134</td>\n",
       "      <td>-0.508798</td>\n",
       "      <td>-0.749862</td>\n",
       "      <td>-0.425382</td>\n",
       "      <td>-0.519010</td>\n",
       "      <td>-0.424118</td>\n",
       "      <td>-0.642268</td>\n",
       "      <td>...</td>\n",
       "      <td>0.457983</td>\n",
       "      <td>0.428544</td>\n",
       "      <td>-0.327031</td>\n",
       "      <td>-0.310040</td>\n",
       "      <td>-0.112125</td>\n",
       "      <td>-0.032083</td>\n",
       "      <td>-0.066593</td>\n",
       "      <td>1.011384</td>\n",
       "      <td>1.275780</td>\n",
       "      <td>0.056425</td>\n",
       "    </tr>\n",
       "    <tr>\n",
       "      <th>2</th>\n",
       "      <td>-0.361694</td>\n",
       "      <td>0.764491</td>\n",
       "      <td>0.016695</td>\n",
       "      <td>0.542195</td>\n",
       "      <td>-0.546245</td>\n",
       "      <td>-0.701852</td>\n",
       "      <td>-0.288365</td>\n",
       "      <td>-0.425734</td>\n",
       "      <td>-0.346190</td>\n",
       "      <td>-0.562723</td>\n",
       "      <td>...</td>\n",
       "      <td>0.585548</td>\n",
       "      <td>0.503695</td>\n",
       "      <td>0.428053</td>\n",
       "      <td>-0.648762</td>\n",
       "      <td>0.316311</td>\n",
       "      <td>-0.177372</td>\n",
       "      <td>0.109337</td>\n",
       "      <td>-0.046244</td>\n",
       "      <td>0.653907</td>\n",
       "      <td>-0.521458</td>\n",
       "    </tr>\n",
       "    <tr>\n",
       "      <th>3</th>\n",
       "      <td>-0.175714</td>\n",
       "      <td>0.205477</td>\n",
       "      <td>0.024885</td>\n",
       "      <td>-0.063820</td>\n",
       "      <td>-0.723482</td>\n",
       "      <td>-0.700599</td>\n",
       "      <td>-0.517344</td>\n",
       "      <td>-0.348881</td>\n",
       "      <td>-0.607665</td>\n",
       "      <td>-0.474804</td>\n",
       "      <td>...</td>\n",
       "      <td>-0.489524</td>\n",
       "      <td>-0.065309</td>\n",
       "      <td>0.062981</td>\n",
       "      <td>-0.649076</td>\n",
       "      <td>0.092384</td>\n",
       "      <td>-0.464121</td>\n",
       "      <td>-0.211882</td>\n",
       "      <td>-0.099501</td>\n",
       "      <td>0.865880</td>\n",
       "      <td>-0.544744</td>\n",
       "    </tr>\n",
       "    <tr>\n",
       "      <th>4</th>\n",
       "      <td>-0.485895</td>\n",
       "      <td>0.337521</td>\n",
       "      <td>0.181345</td>\n",
       "      <td>-0.272072</td>\n",
       "      <td>-0.756246</td>\n",
       "      <td>-0.774827</td>\n",
       "      <td>-0.538557</td>\n",
       "      <td>-0.572962</td>\n",
       "      <td>-0.667537</td>\n",
       "      <td>-0.683920</td>\n",
       "      <td>...</td>\n",
       "      <td>0.112417</td>\n",
       "      <td>-0.570609</td>\n",
       "      <td>0.856651</td>\n",
       "      <td>-0.167089</td>\n",
       "      <td>0.183265</td>\n",
       "      <td>-0.029476</td>\n",
       "      <td>-0.175130</td>\n",
       "      <td>-0.678995</td>\n",
       "      <td>0.276899</td>\n",
       "      <td>-0.606692</td>\n",
       "    </tr>\n",
       "  </tbody>\n",
       "</table>\n",
       "<p>5 rows × 57 columns</p>\n",
       "</div>"
      ],
      "text/plain": [
       "   chroma_stft_mean  chroma_stft_var  rms_mean   rms_var  \\\n",
       "0         -0.487808         0.640520 -0.006624  0.235568   \n",
       "1         -0.403142         0.131835 -0.264944 -0.342134   \n",
       "2         -0.361694         0.764491  0.016695  0.542195   \n",
       "3         -0.175714         0.205477  0.024885 -0.063820   \n",
       "4         -0.485895         0.337521  0.181345 -0.272072   \n",
       "\n",
       "   spectral_centroid_mean  spectral_centroid_var  spectral_bandwidth_mean  \\\n",
       "0               -0.566828              -0.572791                -0.493983   \n",
       "1               -0.508798              -0.749862                -0.425382   \n",
       "2               -0.546245              -0.701852                -0.288365   \n",
       "3               -0.723482              -0.700599                -0.517344   \n",
       "4               -0.756246              -0.774827                -0.538557   \n",
       "\n",
       "   spectral_bandwidth_var  rolloff_mean  rolloff_var  ...  mfcc16_mean  \\\n",
       "0               -0.009229     -0.518590    -0.367952  ...    -0.750122   \n",
       "1               -0.519010     -0.424118    -0.642268  ...     0.457983   \n",
       "2               -0.425734     -0.346190    -0.562723  ...     0.585548   \n",
       "3               -0.348881     -0.607665    -0.474804  ...    -0.489524   \n",
       "4               -0.572962     -0.667537    -0.683920  ...     0.112417   \n",
       "\n",
       "   mfcc16_var  mfcc17_mean  mfcc17_var  mfcc18_mean  mfcc18_var  mfcc19_mean  \\\n",
       "0   -0.299108     0.168647   -0.425137    -0.003423   -0.376938    -0.499464   \n",
       "1    0.428544    -0.327031   -0.310040    -0.112125   -0.032083    -0.066593   \n",
       "2    0.503695     0.428053   -0.648762     0.316311   -0.177372     0.109337   \n",
       "3   -0.065309     0.062981   -0.649076     0.092384   -0.464121    -0.211882   \n",
       "4   -0.570609     0.856651   -0.167089     0.183265   -0.029476    -0.175130   \n",
       "\n",
       "   mfcc19_var  mfcc20_mean  mfcc20_var  \n",
       "0   -0.513562     0.128414   -0.291781  \n",
       "1    1.011384     1.275780    0.056425  \n",
       "2   -0.046244     0.653907   -0.521458  \n",
       "3   -0.099501     0.865880   -0.544744  \n",
       "4   -0.678995     0.276899   -0.606692  \n",
       "\n",
       "[5 rows x 57 columns]"
      ]
     },
     "execution_count": 109,
     "metadata": {},
     "output_type": "execute_result"
    }
   ],
   "source": [
    "X.head()"
   ]
  },
  {
   "cell_type": "code",
   "execution_count": 5,
   "id": "aee2bb09",
   "metadata": {},
   "outputs": [
    {
     "data": {
      "text/html": [
       "<div>\n",
       "<style scoped>\n",
       "    .dataframe tbody tr th:only-of-type {\n",
       "        vertical-align: middle;\n",
       "    }\n",
       "\n",
       "    .dataframe tbody tr th {\n",
       "        vertical-align: top;\n",
       "    }\n",
       "\n",
       "    .dataframe thead th {\n",
       "        text-align: right;\n",
       "    }\n",
       "</style>\n",
       "<table border=\"1\" class=\"dataframe\">\n",
       "  <thead>\n",
       "    <tr style=\"text-align: right;\">\n",
       "      <th></th>\n",
       "      <th>chroma_stft_mean</th>\n",
       "      <th>chroma_stft_var</th>\n",
       "      <th>rms_mean</th>\n",
       "      <th>rms_var</th>\n",
       "      <th>spectral_centroid_mean</th>\n",
       "      <th>spectral_centroid_var</th>\n",
       "      <th>spectral_bandwidth_mean</th>\n",
       "      <th>spectral_bandwidth_var</th>\n",
       "      <th>rolloff_mean</th>\n",
       "      <th>rolloff_var</th>\n",
       "      <th>...</th>\n",
       "      <th>mfcc16_mean</th>\n",
       "      <th>mfcc16_var</th>\n",
       "      <th>mfcc17_mean</th>\n",
       "      <th>mfcc17_var</th>\n",
       "      <th>mfcc18_mean</th>\n",
       "      <th>mfcc18_var</th>\n",
       "      <th>mfcc19_mean</th>\n",
       "      <th>mfcc19_var</th>\n",
       "      <th>mfcc20_mean</th>\n",
       "      <th>mfcc20_var</th>\n",
       "    </tr>\n",
       "  </thead>\n",
       "  <tbody>\n",
       "    <tr>\n",
       "      <th>0</th>\n",
       "      <td>-0.487808</td>\n",
       "      <td>0.640520</td>\n",
       "      <td>-0.006624</td>\n",
       "      <td>0.235568</td>\n",
       "      <td>-0.566828</td>\n",
       "      <td>-0.572791</td>\n",
       "      <td>-0.493983</td>\n",
       "      <td>-0.009229</td>\n",
       "      <td>-0.518590</td>\n",
       "      <td>-0.367952</td>\n",
       "      <td>...</td>\n",
       "      <td>-0.750122</td>\n",
       "      <td>-0.299108</td>\n",
       "      <td>0.168647</td>\n",
       "      <td>-0.425137</td>\n",
       "      <td>-0.003423</td>\n",
       "      <td>-0.376938</td>\n",
       "      <td>-0.499464</td>\n",
       "      <td>-0.513562</td>\n",
       "      <td>0.128414</td>\n",
       "      <td>-0.291781</td>\n",
       "    </tr>\n",
       "    <tr>\n",
       "      <th>1</th>\n",
       "      <td>-0.403142</td>\n",
       "      <td>0.131835</td>\n",
       "      <td>-0.264944</td>\n",
       "      <td>-0.342134</td>\n",
       "      <td>-0.508798</td>\n",
       "      <td>-0.749862</td>\n",
       "      <td>-0.425382</td>\n",
       "      <td>-0.519010</td>\n",
       "      <td>-0.424118</td>\n",
       "      <td>-0.642268</td>\n",
       "      <td>...</td>\n",
       "      <td>0.457983</td>\n",
       "      <td>0.428544</td>\n",
       "      <td>-0.327031</td>\n",
       "      <td>-0.310040</td>\n",
       "      <td>-0.112125</td>\n",
       "      <td>-0.032083</td>\n",
       "      <td>-0.066593</td>\n",
       "      <td>1.011384</td>\n",
       "      <td>1.275780</td>\n",
       "      <td>0.056425</td>\n",
       "    </tr>\n",
       "    <tr>\n",
       "      <th>2</th>\n",
       "      <td>-0.361694</td>\n",
       "      <td>0.764491</td>\n",
       "      <td>0.016695</td>\n",
       "      <td>0.542195</td>\n",
       "      <td>-0.546245</td>\n",
       "      <td>-0.701852</td>\n",
       "      <td>-0.288365</td>\n",
       "      <td>-0.425734</td>\n",
       "      <td>-0.346190</td>\n",
       "      <td>-0.562723</td>\n",
       "      <td>...</td>\n",
       "      <td>0.585548</td>\n",
       "      <td>0.503695</td>\n",
       "      <td>0.428053</td>\n",
       "      <td>-0.648762</td>\n",
       "      <td>0.316311</td>\n",
       "      <td>-0.177372</td>\n",
       "      <td>0.109337</td>\n",
       "      <td>-0.046244</td>\n",
       "      <td>0.653907</td>\n",
       "      <td>-0.521458</td>\n",
       "    </tr>\n",
       "    <tr>\n",
       "      <th>3</th>\n",
       "      <td>-0.175714</td>\n",
       "      <td>0.205477</td>\n",
       "      <td>0.024885</td>\n",
       "      <td>-0.063820</td>\n",
       "      <td>-0.723482</td>\n",
       "      <td>-0.700599</td>\n",
       "      <td>-0.517344</td>\n",
       "      <td>-0.348881</td>\n",
       "      <td>-0.607665</td>\n",
       "      <td>-0.474804</td>\n",
       "      <td>...</td>\n",
       "      <td>-0.489524</td>\n",
       "      <td>-0.065309</td>\n",
       "      <td>0.062981</td>\n",
       "      <td>-0.649076</td>\n",
       "      <td>0.092384</td>\n",
       "      <td>-0.464121</td>\n",
       "      <td>-0.211882</td>\n",
       "      <td>-0.099501</td>\n",
       "      <td>0.865880</td>\n",
       "      <td>-0.544744</td>\n",
       "    </tr>\n",
       "    <tr>\n",
       "      <th>4</th>\n",
       "      <td>-0.485895</td>\n",
       "      <td>0.337521</td>\n",
       "      <td>0.181345</td>\n",
       "      <td>-0.272072</td>\n",
       "      <td>-0.756246</td>\n",
       "      <td>-0.774827</td>\n",
       "      <td>-0.538557</td>\n",
       "      <td>-0.572962</td>\n",
       "      <td>-0.667537</td>\n",
       "      <td>-0.683920</td>\n",
       "      <td>...</td>\n",
       "      <td>0.112417</td>\n",
       "      <td>-0.570609</td>\n",
       "      <td>0.856651</td>\n",
       "      <td>-0.167089</td>\n",
       "      <td>0.183265</td>\n",
       "      <td>-0.029476</td>\n",
       "      <td>-0.175130</td>\n",
       "      <td>-0.678995</td>\n",
       "      <td>0.276899</td>\n",
       "      <td>-0.606692</td>\n",
       "    </tr>\n",
       "  </tbody>\n",
       "</table>\n",
       "<p>5 rows × 57 columns</p>\n",
       "</div>"
      ],
      "text/plain": [
       "   chroma_stft_mean  chroma_stft_var  rms_mean   rms_var  \\\n",
       "0         -0.487808         0.640520 -0.006624  0.235568   \n",
       "1         -0.403142         0.131835 -0.264944 -0.342134   \n",
       "2         -0.361694         0.764491  0.016695  0.542195   \n",
       "3         -0.175714         0.205477  0.024885 -0.063820   \n",
       "4         -0.485895         0.337521  0.181345 -0.272072   \n",
       "\n",
       "   spectral_centroid_mean  spectral_centroid_var  spectral_bandwidth_mean  \\\n",
       "0               -0.566828              -0.572791                -0.493983   \n",
       "1               -0.508798              -0.749862                -0.425382   \n",
       "2               -0.546245              -0.701852                -0.288365   \n",
       "3               -0.723482              -0.700599                -0.517344   \n",
       "4               -0.756246              -0.774827                -0.538557   \n",
       "\n",
       "   spectral_bandwidth_var  rolloff_mean  rolloff_var  ...  mfcc16_mean  \\\n",
       "0               -0.009229     -0.518590    -0.367952  ...    -0.750122   \n",
       "1               -0.519010     -0.424118    -0.642268  ...     0.457983   \n",
       "2               -0.425734     -0.346190    -0.562723  ...     0.585548   \n",
       "3               -0.348881     -0.607665    -0.474804  ...    -0.489524   \n",
       "4               -0.572962     -0.667537    -0.683920  ...     0.112417   \n",
       "\n",
       "   mfcc16_var  mfcc17_mean  mfcc17_var  mfcc18_mean  mfcc18_var  mfcc19_mean  \\\n",
       "0   -0.299108     0.168647   -0.425137    -0.003423   -0.376938    -0.499464   \n",
       "1    0.428544    -0.327031   -0.310040    -0.112125   -0.032083    -0.066593   \n",
       "2    0.503695     0.428053   -0.648762     0.316311   -0.177372     0.109337   \n",
       "3   -0.065309     0.062981   -0.649076     0.092384   -0.464121    -0.211882   \n",
       "4   -0.570609     0.856651   -0.167089     0.183265   -0.029476    -0.175130   \n",
       "\n",
       "   mfcc19_var  mfcc20_mean  mfcc20_var  \n",
       "0   -0.513562     0.128414   -0.291781  \n",
       "1    1.011384     1.275780    0.056425  \n",
       "2   -0.046244     0.653907   -0.521458  \n",
       "3   -0.099501     0.865880   -0.544744  \n",
       "4   -0.678995     0.276899   -0.606692  \n",
       "\n",
       "[5 rows x 57 columns]"
      ]
     },
     "execution_count": 5,
     "metadata": {},
     "output_type": "execute_result"
    }
   ],
   "source": [
    "scaler = StandardScaler()\n",
    "X = pd.DataFrame(data=scaler.fit_transform(X), columns=X.columns)\n",
    "X.head()"
   ]
  },
  {
   "cell_type": "code",
   "execution_count": 110,
   "id": "192e4efe",
   "metadata": {},
   "outputs": [
    {
     "data": {
      "text/plain": [
       "(9990, 57)"
      ]
     },
     "execution_count": 110,
     "metadata": {},
     "output_type": "execute_result"
    }
   ],
   "source": [
    "X.shape"
   ]
  },
  {
   "cell_type": "code",
   "execution_count": 6,
   "id": "06c38902",
   "metadata": {},
   "outputs": [
    {
     "data": {
      "text/plain": [
       "'6993 2997'"
      ]
     },
     "execution_count": 6,
     "metadata": {},
     "output_type": "execute_result"
    }
   ],
   "source": [
    "# Split dataset\n",
    "X_train, X_test, y_train, y_test = train_test_split(X, y, test_size=0.3)\n",
    "str(len(X_train)) + ' ' + str(len(X_test))"
   ]
  },
  {
   "cell_type": "markdown",
   "id": "2a98fed3",
   "metadata": {},
   "source": [
    "## 2.2 - Dimentionality Reduction - PCA"
   ]
  },
  {
   "cell_type": "code",
   "execution_count": 218,
   "id": "2259cd85",
   "metadata": {},
   "outputs": [],
   "source": [
    "#pca = PCA(0.95)\n",
    "#pca.fit(X_train)\n",
    "#X_train = pd.DataFrame(data=pca.transform(X_train))\n",
    "#X_test = pca.transform(X_test)\n",
    "#X_train"
   ]
  },
  {
   "cell_type": "markdown",
   "id": "8155d33e",
   "metadata": {},
   "source": [
    "# 3 - Test baseline models for numerical data"
   ]
  },
  {
   "cell_type": "markdown",
   "id": "10fe4510",
   "metadata": {},
   "source": [
    "## 3.1 - KNN"
   ]
  },
  {
   "cell_type": "code",
   "execution_count": 7,
   "id": "4a9d07ea",
   "metadata": {},
   "outputs": [
    {
     "name": "stdout",
     "output_type": "stream",
     "text": [
      "Accuracy: 0.8778778778778779\n"
     ]
    },
    {
     "data": {
      "text/plain": [
       "<sklearn.metrics._plot.confusion_matrix.ConfusionMatrixDisplay at 0x111144cd0>"
      ]
     },
     "execution_count": 7,
     "metadata": {},
     "output_type": "execute_result"
    },
    {
     "data": {
      "image/png": "[encoded data removed]",
      "text/plain": [
       "<Figure size 432x288 with 2 Axes>"
      ]
     },
     "metadata": {
      "needs_background": "light"
     },
     "output_type": "display_data"
    }
   ],
   "source": [
    "knn_model = KNeighborsClassifier(n_neighbors=3)\n",
    "knn_model.fit(X_train, y_train)\n",
    "knn_prediction = knn_model.predict(X_test)\n",
    "knn_acc = accuracy_score(y_test, knn_prediction)\n",
    "print(\"Accuracy: \" + str(knn_acc))\n",
    "cm = confusion_matrix(y_test, knn_prediction)\n",
    "disp = ConfusionMatrixDisplay(confusion_matrix=cm, display_labels=knn_model.classes_)\n",
    "disp.plot()"
   ]
  },
  {
   "cell_type": "markdown",
   "id": "6e6ffeeb",
   "metadata": {},
   "source": [
    "## 3.2 - SVM "
   ]
  },
  {
   "cell_type": "code",
   "execution_count": 28,
   "id": "d2392b0b",
   "metadata": {},
   "outputs": [
    {
     "name": "stdout",
     "output_type": "stream",
     "text": [
      "Accuracy: 0.8324991658324992\n"
     ]
    },
    {
     "data": {
      "text/plain": [
       "<sklearn.metrics._plot.confusion_matrix.ConfusionMatrixDisplay at 0x155737a90>"
      ]
     },
     "execution_count": 28,
     "metadata": {},
     "output_type": "execute_result"
    },
    {
     "data": {
      "image/png": "[encoded data removed]",
      "text/plain": [
       "<Figure size 432x288 with 2 Axes>"
      ]
     },
     "metadata": {
      "needs_background": "light"
     },
     "output_type": "display_data"
    }
   ],
   "source": [
    "svm_model = SVC()\n",
    "svm_model.fit(X_train, y_train)\n",
    "svm_prediction = svm_model.predict(X_test)\n",
    "svm_acc = accuracy_score(y_test, svm_prediction)\n",
    "print(\"Accuracy: \" + str(svm_acc))\n",
    "cm = confusion_matrix(y_test, svm_prediction)\n",
    "disp = ConfusionMatrixDisplay(confusion_matrix=cm, display_labels=svm_model.classes_)\n",
    "disp.plot()"
   ]
  },
  {
   "cell_type": "markdown",
   "id": "734e52e0",
   "metadata": {},
   "source": [
    "## 3.3 - Naive Bayes"
   ]
  },
  {
   "cell_type": "code",
   "execution_count": 10,
   "id": "ac3f98ec",
   "metadata": {},
   "outputs": [
    {
     "name": "stdout",
     "output_type": "stream",
     "text": [
      "Accuracy: 0.5138471805138471\n"
     ]
    },
    {
     "data": {
      "text/plain": [
       "<sklearn.metrics._plot.confusion_matrix.ConfusionMatrixDisplay at 0x1544daf10>"
      ]
     },
     "execution_count": 10,
     "metadata": {},
     "output_type": "execute_result"
    },
    {
     "data": {
      "image/png": "[encoded data removed]",
      "text/plain": [
       "<Figure size 432x288 with 2 Axes>"
      ]
     },
     "metadata": {
      "needs_background": "light"
     },
     "output_type": "display_data"
    }
   ],
   "source": [
    "nb_model = GaussianNB()\n",
    "nb_model.fit(X_train, y_train)\n",
    "nb_prediction = nb_model.predict(X_test)\n",
    "nb_acc = accuracy_score(y_test, nb_prediction)\n",
    "print(\"Accuracy: \" + str(nb_acc))\n",
    "cm = confusion_matrix(y_test, nb_prediction)\n",
    "disp = ConfusionMatrixDisplay(confusion_matrix=cm, display_labels=nb_model.classes_)\n",
    "disp.plot()"
   ]
  },
  {
   "cell_type": "markdown",
   "id": "0885b74a",
   "metadata": {},
   "source": [
    "## 3.4 - Decision Tree"
   ]
  },
  {
   "cell_type": "code",
   "execution_count": 11,
   "id": "0de5fe90",
   "metadata": {},
   "outputs": [
    {
     "name": "stdout",
     "output_type": "stream",
     "text": [
      "Accuracy: 0.6426426426426426\n"
     ]
    },
    {
     "data": {
      "text/plain": [
       "<sklearn.metrics._plot.confusion_matrix.ConfusionMatrixDisplay at 0x1541b09a0>"
      ]
     },
     "execution_count": 11,
     "metadata": {},
     "output_type": "execute_result"
    },
    {
     "data": {
      "image/png": "[encoded data removed]",
      "text/plain": [
       "<Figure size 432x288 with 2 Axes>"
      ]
     },
     "metadata": {
      "needs_background": "light"
     },
     "output_type": "display_data"
    }
   ],
   "source": [
    "dt_model = DecisionTreeClassifier()\n",
    "dt_model.fit(X_train, y_train)\n",
    "dt_prediction = dt_model.predict(X_test)\n",
    "dt_acc = accuracy_score(y_test, dt_prediction)\n",
    "print(\"Accuracy: \" + str(dt_acc))\n",
    "cm = confusion_matrix(y_test, dt_prediction)\n",
    "disp = ConfusionMatrixDisplay(confusion_matrix=cm, display_labels=dt_model.classes_)\n",
    "disp.plot()"
   ]
  },
  {
   "cell_type": "markdown",
   "id": "88f73b86",
   "metadata": {},
   "source": [
    "## 3.5 - Random Forest"
   ]
  },
  {
   "cell_type": "code",
   "execution_count": 12,
   "id": "d1e46b6a",
   "metadata": {},
   "outputs": [
    {
     "name": "stdout",
     "output_type": "stream",
     "text": [
      "Accuracy: 0.8625291958625292\n"
     ]
    },
    {
     "data": {
      "text/plain": [
       "<sklearn.metrics._plot.confusion_matrix.ConfusionMatrixDisplay at 0x1544fa190>"
      ]
     },
     "execution_count": 12,
     "metadata": {},
     "output_type": "execute_result"
    },
    {
     "data": {
      "image/png": "[encoded data removed]",
      "text/plain": [
       "<Figure size 432x288 with 2 Axes>"
      ]
     },
     "metadata": {
      "needs_background": "light"
     },
     "output_type": "display_data"
    }
   ],
   "source": [
    "rf_model = RandomForestClassifier(n_estimators=350)\n",
    "rf_model.fit(X_train, y_train)\n",
    "rf_prediction = rf_model.predict(X_test)\n",
    "rf_acc = accuracy_score(y_test, rf_prediction)\n",
    "print(\"Accuracy: \" + str(rf_acc))\n",
    "cm = confusion_matrix(y_test, rf_prediction)\n",
    "disp = ConfusionMatrixDisplay(confusion_matrix=cm, display_labels=rf_model.classes_)\n",
    "disp.plot()"
   ]
  },
  {
   "cell_type": "markdown",
   "id": "5d9b5e1c",
   "metadata": {},
   "source": [
    "## 3.6 - Neural Network"
   ]
  },
  {
   "cell_type": "code",
   "execution_count": 355,
   "id": "4a365073",
   "metadata": {},
   "outputs": [
    {
     "data": {
      "text/plain": [
       "'7992 1998'"
      ]
     },
     "execution_count": 355,
     "metadata": {},
     "output_type": "execute_result"
    }
   ],
   "source": [
    "str(len(X_train)) + ' ' + str(len(X_test))"
   ]
  },
  {
   "cell_type": "code",
   "execution_count": 71,
   "id": "7277a4ec",
   "metadata": {},
   "outputs": [],
   "source": [
    "_X_test, X_val, _y_test, y_val = train_test_split(X_test, y_test, test_size=0.5)"
   ]
  },
  {
   "cell_type": "code",
   "execution_count": 352,
   "id": "89226d5d",
   "metadata": {},
   "outputs": [
    {
     "name": "stdout",
     "output_type": "stream",
     "text": [
      "Model: \"sequential_61\"\n",
      "_________________________________________________________________\n",
      "Layer (type)                 Output Shape              Param #   \n",
      "=================================================================\n",
      "dense_244 (Dense)            (None, 512)               29696     \n",
      "_________________________________________________________________\n",
      "dropout_132 (Dropout)        (None, 512)               0         \n",
      "_________________________________________________________________\n",
      "batch_normalization_60 (Batc (None, 512)               2048      \n",
      "_________________________________________________________________\n",
      "dense_245 (Dense)            (None, 256)               131328    \n",
      "_________________________________________________________________\n",
      "dropout_133 (Dropout)        (None, 256)               0         \n",
      "_________________________________________________________________\n",
      "batch_normalization_61 (Batc (None, 256)               1024      \n",
      "_________________________________________________________________\n",
      "dense_246 (Dense)            (None, 128)               32896     \n",
      "_________________________________________________________________\n",
      "dropout_134 (Dropout)        (None, 128)               0         \n",
      "_________________________________________________________________\n",
      "batch_normalization_62 (Batc (None, 128)               512       \n",
      "_________________________________________________________________\n",
      "dense_247 (Dense)            (None, 64)                8256      \n",
      "_________________________________________________________________\n",
      "dropout_135 (Dropout)        (None, 64)                0         \n",
      "_________________________________________________________________\n",
      "batch_normalization_63 (Batc (None, 64)                256       \n",
      "_________________________________________________________________\n",
      "dense_248 (Dense)            (None, 10)                650       \n",
      "=================================================================\n",
      "Total params: 206,666\n",
      "Trainable params: 204,746\n",
      "Non-trainable params: 1,920\n",
      "_________________________________________________________________\n",
      "Epoch 1/1000\n",
      "250/250 [==============================] - 3s 5ms/step - loss: 1.6596 - accuracy: 0.4336 - val_loss: 0.9831 - val_accuracy: 0.6907\n",
      "Epoch 2/1000\n",
      "250/250 [==============================] - 1s 3ms/step - loss: 1.1769 - accuracy: 0.5936 - val_loss: 0.7538 - val_accuracy: 0.7518\n",
      "Epoch 3/1000\n",
      "250/250 [==============================] - 1s 3ms/step - loss: 1.0084 - accuracy: 0.6603 - val_loss: 0.6582 - val_accuracy: 0.7878\n",
      "Epoch 4/1000\n",
      "250/250 [==============================] - 1s 3ms/step - loss: 0.9058 - accuracy: 0.6982 - val_loss: 0.6016 - val_accuracy: 0.8098\n",
      "Epoch 5/1000\n",
      "250/250 [==============================] - 1s 3ms/step - loss: 0.8266 - accuracy: 0.7217 - val_loss: 0.5669 - val_accuracy: 0.8188\n",
      "Epoch 6/1000\n",
      "250/250 [==============================] - 1s 3ms/step - loss: 0.7656 - accuracy: 0.7457 - val_loss: 0.5261 - val_accuracy: 0.8208\n",
      "Epoch 7/1000\n",
      "250/250 [==============================] - 1s 3ms/step - loss: 0.7051 - accuracy: 0.7636 - val_loss: 0.4972 - val_accuracy: 0.8338\n",
      "Epoch 8/1000\n",
      "250/250 [==============================] - 1s 3ms/step - loss: 0.6427 - accuracy: 0.7877 - val_loss: 0.4672 - val_accuracy: 0.8438\n",
      "Epoch 9/1000\n",
      "250/250 [==============================] - 1s 3ms/step - loss: 0.6217 - accuracy: 0.7898 - val_loss: 0.4767 - val_accuracy: 0.8318\n",
      "Epoch 10/1000\n",
      "250/250 [==============================] - 1s 3ms/step - loss: 0.6035 - accuracy: 0.8041 - val_loss: 0.4383 - val_accuracy: 0.8478\n",
      "Epoch 11/1000\n",
      "250/250 [==============================] - 1s 3ms/step - loss: 0.5669 - accuracy: 0.8108 - val_loss: 0.4408 - val_accuracy: 0.8539\n",
      "Epoch 12/1000\n",
      "250/250 [==============================] - 1s 3ms/step - loss: 0.5282 - accuracy: 0.8303 - val_loss: 0.4216 - val_accuracy: 0.8689\n",
      "Epoch 13/1000\n",
      "250/250 [==============================] - 1s 3ms/step - loss: 0.4987 - accuracy: 0.8362 - val_loss: 0.4024 - val_accuracy: 0.8619\n",
      "Epoch 14/1000\n",
      "250/250 [==============================] - 1s 2ms/step - loss: 0.4634 - accuracy: 0.8497 - val_loss: 0.3569 - val_accuracy: 0.8839\n",
      "Epoch 15/1000\n",
      "250/250 [==============================] - 1s 3ms/step - loss: 0.4475 - accuracy: 0.8530 - val_loss: 0.3683 - val_accuracy: 0.8769\n",
      "Epoch 16/1000\n",
      "250/250 [==============================] - 1s 2ms/step - loss: 0.4479 - accuracy: 0.8519 - val_loss: 0.3509 - val_accuracy: 0.8729\n",
      "Epoch 17/1000\n",
      "250/250 [==============================] - 1s 3ms/step - loss: 0.4134 - accuracy: 0.8671 - val_loss: 0.3487 - val_accuracy: 0.8839\n",
      "Epoch 18/1000\n",
      "250/250 [==============================] - 1s 3ms/step - loss: 0.3921 - accuracy: 0.8719 - val_loss: 0.3299 - val_accuracy: 0.8879\n",
      "Epoch 19/1000\n",
      "250/250 [==============================] - 1s 2ms/step - loss: 0.3828 - accuracy: 0.8804 - val_loss: 0.3225 - val_accuracy: 0.8909\n",
      "Epoch 20/1000\n",
      "250/250 [==============================] - 1s 3ms/step - loss: 0.3795 - accuracy: 0.8747 - val_loss: 0.3258 - val_accuracy: 0.8989\n",
      "Epoch 21/1000\n",
      "250/250 [==============================] - 1s 3ms/step - loss: 0.3348 - accuracy: 0.8906 - val_loss: 0.3223 - val_accuracy: 0.8909\n",
      "Epoch 22/1000\n",
      "250/250 [==============================] - 1s 3ms/step - loss: 0.3387 - accuracy: 0.8888 - val_loss: 0.3293 - val_accuracy: 0.8929\n",
      "Epoch 23/1000\n",
      "250/250 [==============================] - 1s 3ms/step - loss: 0.3180 - accuracy: 0.8965 - val_loss: 0.3127 - val_accuracy: 0.9009\n",
      "Epoch 24/1000\n",
      "250/250 [==============================] - 1s 3ms/step - loss: 0.3391 - accuracy: 0.8888 - val_loss: 0.3233 - val_accuracy: 0.9009\n",
      "Epoch 25/1000\n",
      "250/250 [==============================] - 1s 3ms/step - loss: 0.3157 - accuracy: 0.8936 - val_loss: 0.3130 - val_accuracy: 0.8979\n",
      "Epoch 26/1000\n",
      "250/250 [==============================] - 1s 2ms/step - loss: 0.3067 - accuracy: 0.9025 - val_loss: 0.3132 - val_accuracy: 0.8989\n",
      "Epoch 27/1000\n",
      "250/250 [==============================] - 1s 2ms/step - loss: 0.2983 - accuracy: 0.9022 - val_loss: 0.2890 - val_accuracy: 0.9159\n",
      "Epoch 28/1000\n",
      "250/250 [==============================] - 1s 3ms/step - loss: 0.2846 - accuracy: 0.9083 - val_loss: 0.2972 - val_accuracy: 0.9049\n",
      "Epoch 29/1000\n",
      "250/250 [==============================] - 1s 3ms/step - loss: 0.2723 - accuracy: 0.9092 - val_loss: 0.2858 - val_accuracy: 0.9069\n",
      "Epoch 30/1000\n",
      "250/250 [==============================] - 1s 3ms/step - loss: 0.2818 - accuracy: 0.9107 - val_loss: 0.2928 - val_accuracy: 0.9109\n",
      "Epoch 31/1000\n",
      "250/250 [==============================] - 1s 3ms/step - loss: 0.2650 - accuracy: 0.9129 - val_loss: 0.2760 - val_accuracy: 0.9139\n",
      "Epoch 32/1000\n",
      "250/250 [==============================] - 1s 3ms/step - loss: 0.2710 - accuracy: 0.9137 - val_loss: 0.2677 - val_accuracy: 0.9199\n",
      "Epoch 33/1000\n",
      "250/250 [==============================] - 1s 3ms/step - loss: 0.2574 - accuracy: 0.9148 - val_loss: 0.2612 - val_accuracy: 0.9139\n",
      "Epoch 34/1000\n",
      "250/250 [==============================] - 1s 3ms/step - loss: 0.2586 - accuracy: 0.9160 - val_loss: 0.2960 - val_accuracy: 0.9049\n",
      "Epoch 35/1000\n",
      "250/250 [==============================] - 1s 3ms/step - loss: 0.2409 - accuracy: 0.9225 - val_loss: 0.2707 - val_accuracy: 0.9139\n",
      "Epoch 36/1000\n",
      "250/250 [==============================] - 1s 3ms/step - loss: 0.2365 - accuracy: 0.9215 - val_loss: 0.2614 - val_accuracy: 0.9209\n",
      "Epoch 37/1000\n",
      "250/250 [==============================] - 1s 3ms/step - loss: 0.2401 - accuracy: 0.9218 - val_loss: 0.2755 - val_accuracy: 0.9189\n",
      "Epoch 38/1000\n",
      "250/250 [==============================] - 1s 3ms/step - loss: 0.2358 - accuracy: 0.9243 - val_loss: 0.2816 - val_accuracy: 0.9159\n",
      "Epoch 39/1000\n",
      "250/250 [==============================] - 1s 3ms/step - loss: 0.2327 - accuracy: 0.9230 - val_loss: 0.2730 - val_accuracy: 0.9189\n",
      "Epoch 40/1000\n",
      "250/250 [==============================] - 1s 3ms/step - loss: 0.2362 - accuracy: 0.9225 - val_loss: 0.2703 - val_accuracy: 0.9109\n",
      "Epoch 41/1000\n",
      "250/250 [==============================] - 1s 3ms/step - loss: 0.2284 - accuracy: 0.9257 - val_loss: 0.2779 - val_accuracy: 0.9209\n",
      "Epoch 42/1000\n",
      "250/250 [==============================] - 1s 3ms/step - loss: 0.2233 - accuracy: 0.9303 - val_loss: 0.2668 - val_accuracy: 0.9109\n",
      "Epoch 43/1000\n",
      "250/250 [==============================] - 1s 3ms/step - loss: 0.2172 - accuracy: 0.9294 - val_loss: 0.2725 - val_accuracy: 0.9119\n"
     ]
    }
   ],
   "source": [
    "# Define model\n",
    "nn_model = keras.Sequential([\n",
    "    Dense(512, activation='relu', input_shape=[len(X_train.columns)]),\n",
    "    Dropout(0.2),\n",
    "    BatchNormalization(),\n",
    "    Dense(256, activation='relu'),\n",
    "    Dropout(0.2),\n",
    "    BatchNormalization(),\n",
    "    Dense(128, activation='relu'),\n",
    "    Dropout(0.3),\n",
    "    BatchNormalization(),\n",
    "    Dense(64, activation='relu'),\n",
    "    Dropout(0.3),\n",
    "    BatchNormalization(),\n",
    "    Dense(10, activation='softmax')\n",
    "])\n",
    "nn_model.compile(metrics=['accuracy'],\n",
    "                    loss='sparse_categorical_crossentropy',\n",
    "                    optimizer='adam')\n",
    "nn_model.summary()\n",
    "\n",
    "early_stopping = EarlyStopping(\n",
    "    patience=10,\n",
    "    min_delta=0.001,\n",
    "    restore_best_weights=True\n",
    ")\n",
    "history = nn_model.fit(\n",
    "    X_train, y_train,\n",
    "    validation_data=(X_val, y_val),\n",
    "    epochs=1000,\n",
    "    callbacks=[early_stopping])"
   ]
  },
  {
   "cell_type": "code",
   "execution_count": 353,
   "id": "2cb5f1fd",
   "metadata": {},
   "outputs": [
    {
     "name": "stdout",
     "output_type": "stream",
     "text": [
      "Accuracy: 0.913913913913914\n"
     ]
    },
    {
     "data": {
      "text/plain": [
       "<sklearn.metrics._plot.confusion_matrix.ConfusionMatrixDisplay at 0x15f9a3910>"
      ]
     },
     "execution_count": 353,
     "metadata": {},
     "output_type": "execute_result"
    },
    {
     "data": {
      "image/png": "[encoded data removed]",
      "text/plain": [
       "<Figure size 432x288 with 1 Axes>"
      ]
     },
     "metadata": {
      "needs_background": "light"
     },
     "output_type": "display_data"
    },
    {
     "data": {
      "image/png": "[encoded data removed]",
      "text/plain": [
       "<Figure size 432x288 with 1 Axes>"
      ]
     },
     "metadata": {
      "needs_background": "light"
     },
     "output_type": "display_data"
    },
    {
     "data": {
      "image/png": "[encoded data removed]",
      "text/plain": [
       "<Figure size 432x288 with 2 Axes>"
      ]
     },
     "metadata": {
      "needs_background": "light"
     },
     "output_type": "display_data"
    }
   ],
   "source": [
    "history_frame = pd.DataFrame(history.history)\n",
    "history_frame.loc[:, ['loss', 'val_loss']].plot()\n",
    "history_frame.loc[:, ['accuracy', 'val_accuracy']].plot();\n",
    "nn_prediction_distributions = nn_model.predict(_X_test)\n",
    "nn_prediction = []\n",
    "for i in range(len(nn_prediction_distributions)):\n",
    "    nn_prediction.append(np.argmax(nn_prediction_distributions[i]))\n",
    "    \n",
    "nn_acc = accuracy_score(_y_test, nn_prediction)\n",
    "print(\"Accuracy: \" + str(nn_acc))\n",
    "cm = confusion_matrix(_y_test, nn_prediction)\n",
    "disp = ConfusionMatrixDisplay(confusion_matrix=cm, display_labels=rf_model.classes_)\n",
    "disp.plot()"
   ]
  },
  {
   "cell_type": "markdown",
   "id": "e7ed6891",
   "metadata": {},
   "source": [
    "## 3.7 - Convolutional Neural Network (CNN)"
   ]
  },
  {
   "cell_type": "code",
   "execution_count": 356,
   "id": "f0670751",
   "metadata": {},
   "outputs": [
    {
     "name": "stdout",
     "output_type": "stream",
     "text": [
      "Model: \"sequential_62\"\n",
      "_________________________________________________________________\n",
      "Layer (type)                 Output Shape              Param #   \n",
      "=================================================================\n",
      "conv1d_67 (Conv1D)           (None, 57, 128)           768       \n",
      "_________________________________________________________________\n",
      "batch_normalization_64 (Batc (None, 57, 128)           512       \n",
      "_________________________________________________________________\n",
      "conv1d_68 (Conv1D)           (None, 57, 128)           114816    \n",
      "_________________________________________________________________\n",
      "batch_normalization_65 (Batc (None, 57, 128)           512       \n",
      "_________________________________________________________________\n",
      "flatten_34 (Flatten)         (None, 7296)              0         \n",
      "_________________________________________________________________\n",
      "dense_249 (Dense)            (None, 256)               1868032   \n",
      "_________________________________________________________________\n",
      "batch_normalization_66 (Batc (None, 256)               1024      \n",
      "_________________________________________________________________\n",
      "dense_250 (Dense)            (None, 256)               65792     \n",
      "_________________________________________________________________\n",
      "dropout_136 (Dropout)        (None, 256)               0         \n",
      "_________________________________________________________________\n",
      "batch_normalization_67 (Batc (None, 256)               1024      \n",
      "_________________________________________________________________\n",
      "dense_251 (Dense)            (None, 128)               32896     \n",
      "_________________________________________________________________\n",
      "dropout_137 (Dropout)        (None, 128)               0         \n",
      "_________________________________________________________________\n",
      "batch_normalization_68 (Batc (None, 128)               512       \n",
      "_________________________________________________________________\n",
      "dense_252 (Dense)            (None, 10)                1290      \n",
      "=================================================================\n",
      "Total params: 2,087,178\n",
      "Trainable params: 2,085,386\n",
      "Non-trainable params: 1,792\n",
      "_________________________________________________________________\n",
      "Epoch 1/1000\n",
      "250/250 [==============================] - 7s 24ms/step - loss: 1.2956 - accuracy: 0.5747 - val_loss: 1.9355 - val_accuracy: 0.3263\n",
      "Epoch 2/1000\n",
      "250/250 [==============================] - 7s 26ms/step - loss: 0.7188 - accuracy: 0.7716 - val_loss: 0.6469 - val_accuracy: 0.7818\n",
      "Epoch 3/1000\n",
      "250/250 [==============================] - 6s 25ms/step - loss: 0.4973 - accuracy: 0.8452 - val_loss: 0.4051 - val_accuracy: 0.8819\n",
      "Epoch 4/1000\n",
      "250/250 [==============================] - 6s 25ms/step - loss: 0.3653 - accuracy: 0.8864 - val_loss: 0.3762 - val_accuracy: 0.8829\n",
      "Epoch 5/1000\n",
      "250/250 [==============================] - 6s 24ms/step - loss: 0.2519 - accuracy: 0.9209 - val_loss: 0.3639 - val_accuracy: 0.8839\n",
      "Epoch 6/1000\n",
      "250/250 [==============================] - 6s 25ms/step - loss: 0.2050 - accuracy: 0.9368 - val_loss: 0.3379 - val_accuracy: 0.8999\n",
      "Epoch 7/1000\n",
      "250/250 [==============================] - 6s 24ms/step - loss: 0.1529 - accuracy: 0.9545 - val_loss: 0.2954 - val_accuracy: 0.9149\n",
      "Epoch 8/1000\n",
      "250/250 [==============================] - 6s 25ms/step - loss: 0.1310 - accuracy: 0.9586 - val_loss: 0.3228 - val_accuracy: 0.9099\n",
      "Epoch 9/1000\n",
      "250/250 [==============================] - 6s 25ms/step - loss: 0.1098 - accuracy: 0.9660 - val_loss: 0.3527 - val_accuracy: 0.8949\n",
      "Epoch 10/1000\n",
      "250/250 [==============================] - 6s 25ms/step - loss: 0.1133 - accuracy: 0.9642 - val_loss: 0.3056 - val_accuracy: 0.9009\n",
      "Epoch 11/1000\n",
      "250/250 [==============================] - 6s 25ms/step - loss: 0.1089 - accuracy: 0.9651 - val_loss: 0.3294 - val_accuracy: 0.9129\n",
      "Epoch 12/1000\n",
      "250/250 [==============================] - 6s 25ms/step - loss: 0.0975 - accuracy: 0.9701 - val_loss: 0.3260 - val_accuracy: 0.9089\n",
      "Epoch 13/1000\n",
      "250/250 [==============================] - 6s 25ms/step - loss: 0.0853 - accuracy: 0.9737 - val_loss: 0.3088 - val_accuracy: 0.9159\n",
      "Epoch 14/1000\n",
      "250/250 [==============================] - 6s 25ms/step - loss: 0.0633 - accuracy: 0.9811 - val_loss: 0.2735 - val_accuracy: 0.9289\n",
      "Epoch 15/1000\n",
      "250/250 [==============================] - 6s 25ms/step - loss: 0.0689 - accuracy: 0.9795 - val_loss: 0.4406 - val_accuracy: 0.8939\n",
      "Epoch 16/1000\n",
      "250/250 [==============================] - 6s 25ms/step - loss: 0.0765 - accuracy: 0.9777 - val_loss: 0.3032 - val_accuracy: 0.9189\n",
      "Epoch 17/1000\n",
      "250/250 [==============================] - 6s 25ms/step - loss: 0.0560 - accuracy: 0.9816 - val_loss: 0.3279 - val_accuracy: 0.9059\n",
      "Epoch 18/1000\n",
      "250/250 [==============================] - 8s 31ms/step - loss: 0.0560 - accuracy: 0.9824 - val_loss: 0.4167 - val_accuracy: 0.9129\n",
      "Epoch 19/1000\n",
      "250/250 [==============================] - 7s 26ms/step - loss: 0.0504 - accuracy: 0.9835 - val_loss: 0.4111 - val_accuracy: 0.9039\n",
      "Epoch 20/1000\n",
      "250/250 [==============================] - 6s 25ms/step - loss: 0.0491 - accuracy: 0.9842 - val_loss: 0.3235 - val_accuracy: 0.9229\n",
      "Epoch 21/1000\n",
      "250/250 [==============================] - 6s 25ms/step - loss: 0.0513 - accuracy: 0.9856 - val_loss: 0.3641 - val_accuracy: 0.9149\n",
      "Epoch 22/1000\n",
      "250/250 [==============================] - 6s 25ms/step - loss: 0.0554 - accuracy: 0.9822 - val_loss: 0.3692 - val_accuracy: 0.9089\n",
      "Epoch 23/1000\n",
      "250/250 [==============================] - 6s 25ms/step - loss: 0.0431 - accuracy: 0.9871 - val_loss: 0.3444 - val_accuracy: 0.9269\n",
      "Epoch 24/1000\n",
      "250/250 [==============================] - 6s 26ms/step - loss: 0.0362 - accuracy: 0.9877 - val_loss: 0.3148 - val_accuracy: 0.9269\n",
      "Epoch 25/1000\n",
      "250/250 [==============================] - 6s 26ms/step - loss: 0.0379 - accuracy: 0.9881 - val_loss: 0.3293 - val_accuracy: 0.9159\n",
      "Epoch 26/1000\n",
      "250/250 [==============================] - 7s 26ms/step - loss: 0.0448 - accuracy: 0.9860 - val_loss: 0.3751 - val_accuracy: 0.9199\n",
      "Epoch 27/1000\n",
      "250/250 [==============================] - 6s 26ms/step - loss: 0.0518 - accuracy: 0.9834 - val_loss: 0.3679 - val_accuracy: 0.9189\n",
      "Epoch 28/1000\n",
      "250/250 [==============================] - 6s 24ms/step - loss: 0.0607 - accuracy: 0.9816 - val_loss: 0.3589 - val_accuracy: 0.9179\n",
      "Epoch 29/1000\n",
      "250/250 [==============================] - 6s 24ms/step - loss: 0.0488 - accuracy: 0.9856 - val_loss: 0.3402 - val_accuracy: 0.9169\n"
     ]
    }
   ],
   "source": [
    "# Define model\n",
    "cnn_X_train = np.array(X_train).reshape(X_train.shape[0], X_train.shape[1], 1)\n",
    "cnn_X_test = np.array(_X_test).reshape(_X_test.shape[0], _X_test.shape[1], 1)\n",
    "cnn_X_val = np.array(X_val).reshape(X_val.shape[0], X_val.shape[1], 1)\n",
    "\n",
    "cnn_model = keras.Sequential([\n",
    "    Conv1D(128, 5, activation='relu', padding='same', input_shape=(cnn_X_train.shape[1], 1)),\n",
    "    BatchNormalization(),\n",
    "    Conv1D(128, 7, activation='relu', padding='same'),\n",
    "    BatchNormalization(),\n",
    "    Flatten(),\n",
    "    Dense(256, activation='relu'),\n",
    "    BatchNormalization(),\n",
    "    Dense(256, activation='sigmoid'),\n",
    "    Dropout(0.2),\n",
    "    BatchNormalization(),\n",
    "    Dense(128, activation='sigmoid'),\n",
    "    Dropout(0.5),\n",
    "    BatchNormalization(),\n",
    "    Dense(10, activation='softmax')\n",
    "])\n",
    "cnn_model.compile(metrics=['accuracy'],\n",
    "                    loss='sparse_categorical_crossentropy',\n",
    "                    optimizer='adam')\n",
    "cnn_model.summary()\n",
    "\n",
    "early_stopping = EarlyStopping(\n",
    "    patience=15,\n",
    "    min_delta=0.0005,\n",
    "    restore_best_weights=True\n",
    ")\n",
    "history = cnn_model.fit(\n",
    "    cnn_X_train, y_train,\n",
    "    validation_data=(cnn_X_val, y_val),\n",
    "    epochs=1000,\n",
    "    callbacks=[early_stopping])"
   ]
  },
  {
   "cell_type": "code",
   "execution_count": 358,
   "id": "f67cc1ef",
   "metadata": {},
   "outputs": [
    {
     "name": "stdout",
     "output_type": "stream",
     "text": [
      "Accuracy: 0.8898898898898899\n"
     ]
    },
    {
     "data": {
      "text/plain": [
       "<sklearn.metrics._plot.confusion_matrix.ConfusionMatrixDisplay at 0x160257190>"
      ]
     },
     "execution_count": 358,
     "metadata": {},
     "output_type": "execute_result"
    },
    {
     "data": {
      "image/png": "[encoded data removed]",
      "text/plain": [
       "<Figure size 432x288 with 1 Axes>"
      ]
     },
     "metadata": {
      "needs_background": "light"
     },
     "output_type": "display_data"
    },
    {
     "data": {
      "image/png": "[encoded data removed]",
      "text/plain": [
       "<Figure size 432x288 with 1 Axes>"
      ]
     },
     "metadata": {
      "needs_background": "light"
     },
     "output_type": "display_data"
    },
    {
     "data": {
      "image/png": "[encoded data removed]",
      "text/plain": [
       "<Figure size 432x288 with 2 Axes>"
      ]
     },
     "metadata": {
      "needs_background": "light"
     },
     "output_type": "display_data"
    }
   ],
   "source": [
    "history_frame = pd.DataFrame(history.history)\n",
    "history_frame.loc[:, ['loss', 'val_loss']].plot()\n",
    "history_frame.loc[:, ['accuracy', 'val_accuracy']].plot();\n",
    "cnn_prediction_distributions = cnn_model.predict(cnn_X_test)\n",
    "cnn_prediction = []\n",
    "for i in range(len(cnn_prediction_distributions)):\n",
    "    cnn_prediction.append(np.argmax(cnn_prediction_distributions[i]))\n",
    "\n",
    "cnn_acc = accuracy_score(_y_test, cnn_prediction)\n",
    "print(\"Accuracy: \" + str(cnn_acc))\n",
    "cm = confusion_matrix(_y_test, cnn_prediction)\n",
    "disp = ConfusionMatrixDisplay(confusion_matrix=cm, display_labels=rf_model.classes_)\n",
    "disp.plot()"
   ]
  },
  {
   "cell_type": "markdown",
   "id": "42d8c762",
   "metadata": {},
   "source": [
    "## 3.8 - Baseline model evaluation"
   ]
  },
  {
   "cell_type": "code",
   "execution_count": 350,
   "id": "25fb5551",
   "metadata": {},
   "outputs": [
    {
     "data": {
      "text/plain": [
       "<AxesSubplot:xlabel='model', ylabel='accuracy'>"
      ]
     },
     "execution_count": 350,
     "metadata": {},
     "output_type": "execute_result"
    },
    {
     "data": {
      "image/png": "[encoded data removed]",
      "text/plain": [
       "<Figure size 432x288 with 1 Axes>"
      ]
     },
     "metadata": {
      "needs_background": "light"
     },
     "output_type": "display_data"
    }
   ],
   "source": [
    "base_model_eval_data = { 'knn': knn_acc, 'svm': svm_acc, 'nb': nb_acc, 'dt': dt_acc,\n",
    "                        'rf': rf_acc, 'nn': nn_acc, 'cnn': cnn_acc }\n",
    "\n",
    "list(base_model_eval_data.items())\n",
    "base_model_eval_df = pd.DataFrame(data=list(base_model_eval_data.items()), columns=['model', 'accuracy'])\n",
    "base_model_eval_df = base_model_eval_df.sort_values('accuracy', ascending=False).reset_index()\n",
    "sns.barplot(x='model', y='accuracy', data=base_model_eval_df)"
   ]
  },
  {
   "cell_type": "markdown",
   "id": "5e451394",
   "metadata": {},
   "source": [
    "As shown in the graph above, the worst performant models were the Decision Tree and the Naive Bayes, which means that from now on, these will be ignored. The best model was a Neural Network with an aproximate accuracy of 92%.<br/>\n",
    "On the next section, I'll be fine tuning the parameters of the best models: Neural Network, Convolutional Neural Network, KNN, Random Forest and SVM."
   ]
  },
  {
   "cell_type": "markdown",
   "id": "5b2f2425",
   "metadata": {},
   "source": [
    "# 4 - Hyper-parameters fine tuning"
   ]
  },
  {
   "cell_type": "markdown",
   "id": "4a3e9fdb",
   "metadata": {},
   "source": [
    "## 4.1 - SVM tuning"
   ]
  },
  {
   "cell_type": "code",
   "execution_count": 13,
   "id": "8242cf48",
   "metadata": {
    "scrolled": false
   },
   "outputs": [
    {
     "name": "stdout",
     "output_type": "stream",
     "text": [
      "Kernel: linear  Gamma: 10  C: 1....   Done (0.7431717431717431)\n",
      "Kernel: linear  Gamma: 10  C: 10....   Done (0.7377377377377377)\n",
      "Kernel: linear  Gamma: 10  C: 100....   Done (0.7358787358787359)\n",
      "Kernel: linear  Gamma: 100  C: 1....   Done (0.7431717431717431)\n",
      "Kernel: linear  Gamma: 100  C: 10....   Done (0.7377377377377377)\n",
      "Kernel: linear  Gamma: 100  C: 100....   Done (0.7358787358787359)\n",
      "Kernel: poly  Gamma: 10  C: 1....   Done (0.8658658658658659)\n",
      "Kernel: poly  Gamma: 10  C: 10....   Done (0.8658658658658659)\n",
      "Kernel: poly  Gamma: 10  C: 100....   Done (0.8658658658658659)\n",
      "Kernel: poly  Gamma: 100  C: 1....   Done (0.8658658658658659)\n",
      "Kernel: poly  Gamma: 100  C: 10....   Done (0.8658658658658659)\n",
      "Kernel: poly  Gamma: 100  C: 100....   Done (0.8658658658658659)\n"
     ]
    },
    {
     "data": {
      "text/html": [
       "<div>\n",
       "<style scoped>\n",
       "    .dataframe tbody tr th:only-of-type {\n",
       "        vertical-align: middle;\n",
       "    }\n",
       "\n",
       "    .dataframe tbody tr th {\n",
       "        vertical-align: top;\n",
       "    }\n",
       "\n",
       "    .dataframe thead th {\n",
       "        text-align: right;\n",
       "    }\n",
       "</style>\n",
       "<table border=\"1\" class=\"dataframe\">\n",
       "  <thead>\n",
       "    <tr style=\"text-align: right;\">\n",
       "      <th></th>\n",
       "      <th>kernel</th>\n",
       "      <th>gamma</th>\n",
       "      <th>C</th>\n",
       "      <th>accuracy</th>\n",
       "    </tr>\n",
       "  </thead>\n",
       "  <tbody>\n",
       "    <tr>\n",
       "      <th>6</th>\n",
       "      <td>poly</td>\n",
       "      <td>10</td>\n",
       "      <td>1</td>\n",
       "      <td>0.865866</td>\n",
       "    </tr>\n",
       "    <tr>\n",
       "      <th>7</th>\n",
       "      <td>poly</td>\n",
       "      <td>10</td>\n",
       "      <td>10</td>\n",
       "      <td>0.865866</td>\n",
       "    </tr>\n",
       "    <tr>\n",
       "      <th>8</th>\n",
       "      <td>poly</td>\n",
       "      <td>10</td>\n",
       "      <td>100</td>\n",
       "      <td>0.865866</td>\n",
       "    </tr>\n",
       "    <tr>\n",
       "      <th>9</th>\n",
       "      <td>poly</td>\n",
       "      <td>100</td>\n",
       "      <td>1</td>\n",
       "      <td>0.865866</td>\n",
       "    </tr>\n",
       "    <tr>\n",
       "      <th>10</th>\n",
       "      <td>poly</td>\n",
       "      <td>100</td>\n",
       "      <td>10</td>\n",
       "      <td>0.865866</td>\n",
       "    </tr>\n",
       "  </tbody>\n",
       "</table>\n",
       "</div>"
      ],
      "text/plain": [
       "   kernel  gamma    C  accuracy\n",
       "6    poly     10    1  0.865866\n",
       "7    poly     10   10  0.865866\n",
       "8    poly     10  100  0.865866\n",
       "9    poly    100    1  0.865866\n",
       "10   poly    100   10  0.865866"
      ]
     },
     "execution_count": 13,
     "metadata": {},
     "output_type": "execute_result"
    }
   ],
   "source": [
    "svm_grid_search = {\n",
    "    'kernel': ['linear', 'poly'], #'rbf', 'sigmoid'],\n",
    "    'gamma': [10, 100],\n",
    "    'C': [1, 10, 100],\n",
    "}\n",
    "svm_params = []\n",
    "\n",
    "for k in svm_grid_search['kernel']:\n",
    "    for g in svm_grid_search['gamma']:\n",
    "        for c in svm_grid_search['C']:\n",
    "                print(\"Kernel: \" + k + \"  Gamma: \" + str(g) + \"  C: \" + str(c) + \"....  \", end = '')\n",
    "                model = SVC(kernel=k, gamma=g, C=c)\n",
    "                acc = sum(cross_val_score(model, X_train, y_train, cv=3)) / 3\n",
    "                svm_params.append([k, g, c, acc])\n",
    "                print(\" Done (\" + str(acc) + \")\")\n",
    "            \n",
    "svm_params_df = pd.DataFrame(data=svm_params, columns=['kernel', 'gamma', 'C', 'accuracy'])\n",
    "svm_params_df = svm_params_df.sort_values('accuracy', ascending=False)\n",
    "svm_params_df.head()"
   ]
  },
  {
   "cell_type": "code",
   "execution_count": 39,
   "id": "72c22b3a",
   "metadata": {},
   "outputs": [
    {
     "name": "stdout",
     "output_type": "stream",
     "text": [
      "Accuracy: 0.8902235568902236\n"
     ]
    },
    {
     "data": {
      "text/plain": [
       "<sklearn.metrics._plot.confusion_matrix.ConfusionMatrixDisplay at 0x1558ec430>"
      ]
     },
     "execution_count": 39,
     "metadata": {},
     "output_type": "execute_result"
    },
    {
     "data": {
      "image/png": "[encoded data removed]",
      "text/plain": [
       "<Figure size 432x288 with 2 Axes>"
      ]
     },
     "metadata": {
      "needs_background": "light"
     },
     "output_type": "display_data"
    }
   ],
   "source": [
    "best_svm_params = svm_params_df.iloc[0]\n",
    "best_svm_model = SVC(kernel=best_svm_params.kernel, C=best_svm_params.C, gamma=best_svm_params.gamma)\n",
    "best_svm_model.fit(X_train, y_train)\n",
    "best_svm_pred = best_svm_model.predict(X_test)\n",
    "best_svm_acc = accuracy_score(y_test, best_svm_pred)\n",
    "print(\"Accuracy: \" + str(best_svm_acc))\n",
    "\n",
    "cm = confusion_matrix(y_test, best_svm_pred)\n",
    "disp = ConfusionMatrixDisplay(confusion_matrix=cm)\n",
    "disp.plot()"
   ]
  },
  {
   "cell_type": "markdown",
   "id": "c9eb5e8f",
   "metadata": {},
   "source": [
    "## 4.2 - Random Forest fine tuning"
   ]
  },
  {
   "cell_type": "code",
   "execution_count": 51,
   "id": "aa37b14b",
   "metadata": {},
   "outputs": [
    {
     "data": {
      "text/plain": [
       "['criterion',\n",
       " 'max_depth',\n",
       " 'max_features',\n",
       " 'min_samples_leaf',\n",
       " 'n_estimators',\n",
       " 'accuracy']"
      ]
     },
     "execution_count": 51,
     "metadata": {},
     "output_type": "execute_result"
    }
   ],
   "source": [
    "rf_grid_search = {\n",
    "    'criterion': ['gini', 'entropy'],\n",
    "    'max_depth': [None, 5, 20, 100],\n",
    "    'max_features': [None, 'sqrt', 'log2'],\n",
    "    'min_samples_leaf': [1, 20, 50],\n",
    "    'n_estimators': [50, 100, 150,]\n",
    "}\n",
    "\n",
    "list(rf_grid_search.keys()) + ['accuracy']"
   ]
  },
  {
   "cell_type": "code",
   "execution_count": 59,
   "id": "9d326f7f",
   "metadata": {},
   "outputs": [
    {
     "name": "stdout",
     "output_type": "stream",
     "text": [
      "Crit: gini  MxFeat: sqrt  nEst: 200....   Done (0.833976833976834)\n",
      "Crit: gini  MxFeat: sqrt  nEst: 300....   Done (0.8374088374088373)\n",
      "Crit: gini  MxFeat: sqrt  nEst: 400....   Done (0.838981838981839)\n",
      "Crit: gini  MxFeat: sqrt  nEst: 500....   Done (0.8399828399828401)\n",
      "Crit: gini  MxFeat: sqrt  nEst: 600....   Done (0.8405548405548405)\n",
      "Crit: gini  MxFeat: log2  nEst: 200....   Done (0.8296868296868297)\n",
      "Crit: gini  MxFeat: log2  nEst: 300....   Done (0.8356928356928357)\n",
      "Crit: gini  MxFeat: log2  nEst: 400....   Done (0.8381238381238382)\n",
      "Crit: gini  MxFeat: log2  nEst: 500....   Done (0.8335478335478336)\n",
      "Crit: gini  MxFeat: log2  nEst: 600....   Done (0.8365508365508365)\n",
      "Crit: entropy  MxFeat: sqrt  nEst: 200....   Done (0.8348348348348349)\n",
      "Crit: entropy  MxFeat: sqrt  nEst: 300....   Done (0.8391248391248393)\n",
      "Crit: entropy  MxFeat: sqrt  nEst: 400....   Done (0.8411268411268411)\n",
      "Crit: entropy  MxFeat: sqrt  nEst: 500....   Done (0.8421278421278421)\n",
      "Crit: entropy  MxFeat: sqrt  nEst: 600....   Done (0.8422708422708421)\n",
      "Crit: entropy  MxFeat: log2  nEst: 200....   Done (0.8321178321178321)\n",
      "Crit: entropy  MxFeat: log2  nEst: 300....   Done (0.8354068354068355)\n",
      "Crit: entropy  MxFeat: log2  nEst: 400....   Done (0.837980837980838)\n",
      "Crit: entropy  MxFeat: log2  nEst: 500....   Done (0.8356928356928357)\n",
      "Crit: entropy  MxFeat: log2  nEst: 600....   Done (0.8375518375518376)\n"
     ]
    },
    {
     "data": {
      "text/html": [
       "<div>\n",
       "<style scoped>\n",
       "    .dataframe tbody tr th:only-of-type {\n",
       "        vertical-align: middle;\n",
       "    }\n",
       "\n",
       "    .dataframe tbody tr th {\n",
       "        vertical-align: top;\n",
       "    }\n",
       "\n",
       "    .dataframe thead th {\n",
       "        text-align: right;\n",
       "    }\n",
       "</style>\n",
       "<table border=\"1\" class=\"dataframe\">\n",
       "  <thead>\n",
       "    <tr style=\"text-align: right;\">\n",
       "      <th></th>\n",
       "      <th>criterion</th>\n",
       "      <th>max_features</th>\n",
       "      <th>n_estimators</th>\n",
       "      <th>accuracy</th>\n",
       "    </tr>\n",
       "  </thead>\n",
       "  <tbody>\n",
       "    <tr>\n",
       "      <th>14</th>\n",
       "      <td>entropy</td>\n",
       "      <td>sqrt</td>\n",
       "      <td>600</td>\n",
       "      <td>0.842271</td>\n",
       "    </tr>\n",
       "    <tr>\n",
       "      <th>13</th>\n",
       "      <td>entropy</td>\n",
       "      <td>sqrt</td>\n",
       "      <td>500</td>\n",
       "      <td>0.842128</td>\n",
       "    </tr>\n",
       "    <tr>\n",
       "      <th>12</th>\n",
       "      <td>entropy</td>\n",
       "      <td>sqrt</td>\n",
       "      <td>400</td>\n",
       "      <td>0.841127</td>\n",
       "    </tr>\n",
       "    <tr>\n",
       "      <th>4</th>\n",
       "      <td>gini</td>\n",
       "      <td>sqrt</td>\n",
       "      <td>600</td>\n",
       "      <td>0.840555</td>\n",
       "    </tr>\n",
       "    <tr>\n",
       "      <th>3</th>\n",
       "      <td>gini</td>\n",
       "      <td>sqrt</td>\n",
       "      <td>500</td>\n",
       "      <td>0.839983</td>\n",
       "    </tr>\n",
       "  </tbody>\n",
       "</table>\n",
       "</div>"
      ],
      "text/plain": [
       "   criterion max_features  n_estimators  accuracy\n",
       "14   entropy         sqrt           600  0.842271\n",
       "13   entropy         sqrt           500  0.842128\n",
       "12   entropy         sqrt           400  0.841127\n",
       "4       gini         sqrt           600  0.840555\n",
       "3       gini         sqrt           500  0.839983"
      ]
     },
     "execution_count": 59,
     "metadata": {},
     "output_type": "execute_result"
    }
   ],
   "source": [
    "rf_grid_search = {\n",
    "    'criterion': ['gini', 'entropy'],\n",
    "    'max_features': ['sqrt', 'log2'],\n",
    "    'n_estimators': [200, 300, 400, 500, 600]\n",
    "}\n",
    "rf_params = []\n",
    "\n",
    "for c in rf_grid_search['criterion']:\n",
    "    for mf in rf_grid_search['max_features']:\n",
    "        for ne in rf_grid_search['n_estimators']:\n",
    "            print(\"Crit: \" + c + \"  MxFeat: \" + str(mf) + \"  nEst: \" + str(ne)  + \"....  \", end = '')\n",
    "            model = RandomForestClassifier(\n",
    "                criterion=c, max_features=mf, n_estimators=ne,\n",
    "            )\n",
    "            acc = sum(cross_val_score(model, X_train, y_train, cv=3)) / 3\n",
    "            rf_params.append([c, mf, ne, acc])\n",
    "            print(\" Done (\" + str(acc) + \")\")\n",
    "                     \n",
    "rf_params_cols = list(rf_grid_search.keys()) + ['accuracy']\n",
    "rf_params_df = pd.DataFrame(data=rf_params, columns=rf_params_cols)\n",
    "rf_params_df = rf_params_df.sort_values('accuracy', ascending=False)\n",
    "rf_params_df.head()"
   ]
  },
  {
   "cell_type": "markdown",
   "id": "81fa18f6",
   "metadata": {},
   "source": [
    "As seen in the results above, there is still room for improvement relating to the n_estimators parameter. So, I'll run some more tests to see if there are better values for this parameter."
   ]
  },
  {
   "cell_type": "code",
   "execution_count": 62,
   "id": "e21e01a7",
   "metadata": {},
   "outputs": [
    {
     "name": "stdout",
     "output_type": "stream",
     "text": [
      "Crit: gini  MxFeat: sqrt  nEst: 700....   Done (0.8394108394108394)\n",
      "Crit: gini  MxFeat: sqrt  nEst: 750....   Done (0.8406978406978407)\n",
      "Crit: gini  MxFeat: sqrt  nEst: 800....   Done (0.8426998426998428)\n",
      "Crit: entropy  MxFeat: sqrt  nEst: 700....   Done (0.8408408408408409)\n",
      "Crit: entropy  MxFeat: sqrt  nEst: 750....   Done (0.8405548405548405)\n",
      "Crit: entropy  MxFeat: sqrt  nEst: 800....   Done (0.8419848419848419)\n"
     ]
    },
    {
     "data": {
      "text/html": [
       "<div>\n",
       "<style scoped>\n",
       "    .dataframe tbody tr th:only-of-type {\n",
       "        vertical-align: middle;\n",
       "    }\n",
       "\n",
       "    .dataframe tbody tr th {\n",
       "        vertical-align: top;\n",
       "    }\n",
       "\n",
       "    .dataframe thead th {\n",
       "        text-align: right;\n",
       "    }\n",
       "</style>\n",
       "<table border=\"1\" class=\"dataframe\">\n",
       "  <thead>\n",
       "    <tr style=\"text-align: right;\">\n",
       "      <th></th>\n",
       "      <th>criterion</th>\n",
       "      <th>max_features</th>\n",
       "      <th>n_estimators</th>\n",
       "      <th>accuracy</th>\n",
       "    </tr>\n",
       "  </thead>\n",
       "  <tbody>\n",
       "    <tr>\n",
       "      <th>24</th>\n",
       "      <td>gini</td>\n",
       "      <td>sqrt</td>\n",
       "      <td>800</td>\n",
       "      <td>0.842700</td>\n",
       "    </tr>\n",
       "    <tr>\n",
       "      <th>14</th>\n",
       "      <td>entropy</td>\n",
       "      <td>sqrt</td>\n",
       "      <td>600</td>\n",
       "      <td>0.842271</td>\n",
       "    </tr>\n",
       "    <tr>\n",
       "      <th>13</th>\n",
       "      <td>entropy</td>\n",
       "      <td>sqrt</td>\n",
       "      <td>500</td>\n",
       "      <td>0.842128</td>\n",
       "    </tr>\n",
       "    <tr>\n",
       "      <th>27</th>\n",
       "      <td>entropy</td>\n",
       "      <td>sqrt</td>\n",
       "      <td>800</td>\n",
       "      <td>0.841985</td>\n",
       "    </tr>\n",
       "    <tr>\n",
       "      <th>20</th>\n",
       "      <td>gini</td>\n",
       "      <td>sqrt</td>\n",
       "      <td>700</td>\n",
       "      <td>0.841127</td>\n",
       "    </tr>\n",
       "  </tbody>\n",
       "</table>\n",
       "</div>"
      ],
      "text/plain": [
       "   criterion max_features  n_estimators  accuracy\n",
       "24      gini         sqrt           800  0.842700\n",
       "14   entropy         sqrt           600  0.842271\n",
       "13   entropy         sqrt           500  0.842128\n",
       "27   entropy         sqrt           800  0.841985\n",
       "20      gini         sqrt           700  0.841127"
      ]
     },
     "execution_count": 62,
     "metadata": {},
     "output_type": "execute_result"
    }
   ],
   "source": [
    "rf_grid_search2 = {\n",
    "    'criterion': ['gini', 'entropy'],\n",
    "    'max_features': ['sqrt'],\n",
    "    'n_estimators': [700, 750, 800]\n",
    "}\n",
    "\n",
    "for c in rf_grid_search2['criterion']:\n",
    "    for mf in rf_grid_search2['max_features']:\n",
    "        for ne in rf_grid_search2['n_estimators']:\n",
    "            print(\"Crit: \" + c + \"  MxFeat: \" + str(mf) + \"  nEst: \" + str(ne)  + \"....  \", end = '')\n",
    "            model = RandomForestClassifier(\n",
    "                criterion=c, max_features=mf, n_estimators=ne,\n",
    "            )\n",
    "            acc = sum(cross_val_score(model, X_train, y_train, cv=3)) / 3\n",
    "            rf_params.append([c, mf, ne, acc])\n",
    "            print(\" Done (\" + str(acc) + \")\")\n",
    "                     \n",
    "rf_params_cols = list(rf_grid_search.keys()) + ['accuracy']\n",
    "rf_params_df = pd.DataFrame(data=rf_params, columns=rf_params_cols)\n",
    "rf_params_df = rf_params_df.sort_values('accuracy', ascending=False)\n",
    "rf_params_df.head()"
   ]
  },
  {
   "cell_type": "code",
   "execution_count": 68,
   "id": "58c79fe2",
   "metadata": {},
   "outputs": [
    {
     "name": "stdout",
     "output_type": "stream",
     "text": [
      "Accuracy: 0.8708708708708709\n"
     ]
    },
    {
     "data": {
      "text/plain": [
       "<sklearn.metrics._plot.confusion_matrix.ConfusionMatrixDisplay at 0x156a9bd90>"
      ]
     },
     "execution_count": 68,
     "metadata": {},
     "output_type": "execute_result"
    },
    {
     "data": {
      "image/png": "[encoded data removed]",
      "text/plain": [
       "<Figure size 432x288 with 2 Axes>"
      ]
     },
     "metadata": {
      "needs_background": "light"
     },
     "output_type": "display_data"
    }
   ],
   "source": [
    "best_rf_params = rf_params_df.iloc[1]\n",
    "best_rf_model = RandomForestClassifier(\n",
    "                criterion=best_rf_params.criterion,\n",
    "                max_features=best_rf_params.max_features,\n",
    "                n_estimators=best_rf_params.n_estimators\n",
    "            )\n",
    "best_rf_model.fit(X_train, y_train)\n",
    "best_rf_pred = best_rf_model.predict(X_test)\n",
    "best_rf_acc = accuracy_score(y_test, best_rf_pred)\n",
    "print(\"Accuracy: \" + str(best_rf_acc))\n",
    "\n",
    "cm = confusion_matrix(y_test, best_rf_pred)\n",
    "disp = ConfusionMatrixDisplay(confusion_matrix=cm)\n",
    "disp.plot()"
   ]
  },
  {
   "cell_type": "markdown",
   "id": "523f1594",
   "metadata": {},
   "source": [
    "## 4.3 - KNN fine tuning"
   ]
  },
  {
   "cell_type": "code",
   "execution_count": 43,
   "id": "06f2ab27",
   "metadata": {},
   "outputs": [
    {
     "name": "stdout",
     "output_type": "stream",
     "text": [
      "NN: 2  W: uniform  P: 1....   Done (0.8687258687258687)\n",
      "NN: 2  W: uniform  P: 2....   Done (0.8429858429858429)\n",
      "NN: 2  W: uniform  P: 3....   Done (0.7986557986557986)\n",
      "NN: 2  W: distance  P: 1....   Done (0.9013299013299013)\n",
      "NN: 2  W: distance  P: 2....   Done (0.8751608751608752)\n",
      "NN: 2  W: distance  P: 3....   Done (0.8358358358358359)\n",
      "NN: 3  W: uniform  P: 1....   Done (0.8774488774488775)\n",
      "NN: 3  W: uniform  P: 2....   Done (0.8488488488488488)\n",
      "NN: 3  W: uniform  P: 3....   Done (0.8105248105248105)\n",
      "NN: 3  W: distance  P: 1....   Done (0.8906048906048906)\n",
      "NN: 3  W: distance  P: 2....   Done (0.8627198627198628)\n",
      "NN: 3  W: distance  P: 3....   Done (0.8273988273988273)\n",
      "NN: 5  W: uniform  P: 1....   Done (0.8571428571428571)\n",
      "NN: 5  W: uniform  P: 2....   Done (0.8361218361218361)\n",
      "NN: 5  W: uniform  P: 3....   Done (0.7967967967967967)\n",
      "NN: 5  W: distance  P: 1....   Done (0.8781638781638782)\n",
      "NN: 5  W: distance  P: 2....   Done (0.859144859144859)\n",
      "NN: 5  W: distance  P: 3....   Done (0.8216788216788217)\n",
      "NN: 7  W: uniform  P: 1....   Done (0.8447018447018447)\n",
      "NN: 7  W: uniform  P: 2....   Done (0.8193908193908194)\n",
      "NN: 7  W: uniform  P: 3....   Done (0.7774917774917774)\n",
      "NN: 7  W: distance  P: 1....   Done (0.8698698698698699)\n",
      "NN: 7  W: distance  P: 2....   Done (0.8467038467038467)\n",
      "NN: 7  W: distance  P: 3....   Done (0.8065208065208065)\n",
      "NN: 10  W: uniform  P: 1....   Done (0.8193908193908195)\n",
      "NN: 10  W: uniform  P: 2....   Done (0.7963677963677963)\n",
      "NN: 10  W: uniform  P: 3....   Done (0.7591877591877592)\n",
      "NN: 10  W: distance  P: 1....   Done (0.8477048477048478)\n",
      "NN: 10  W: distance  P: 2....   Done (0.8255398255398255)\n",
      "NN: 10  W: distance  P: 3....   Done (0.7896467896467897)\n"
     ]
    },
    {
     "data": {
      "text/html": [
       "<div>\n",
       "<style scoped>\n",
       "    .dataframe tbody tr th:only-of-type {\n",
       "        vertical-align: middle;\n",
       "    }\n",
       "\n",
       "    .dataframe tbody tr th {\n",
       "        vertical-align: top;\n",
       "    }\n",
       "\n",
       "    .dataframe thead th {\n",
       "        text-align: right;\n",
       "    }\n",
       "</style>\n",
       "<table border=\"1\" class=\"dataframe\">\n",
       "  <thead>\n",
       "    <tr style=\"text-align: right;\">\n",
       "      <th></th>\n",
       "      <th>n_neighbors</th>\n",
       "      <th>weights</th>\n",
       "      <th>p</th>\n",
       "      <th>accuracy</th>\n",
       "    </tr>\n",
       "  </thead>\n",
       "  <tbody>\n",
       "    <tr>\n",
       "      <th>3</th>\n",
       "      <td>2</td>\n",
       "      <td>distance</td>\n",
       "      <td>1</td>\n",
       "      <td>0.901330</td>\n",
       "    </tr>\n",
       "    <tr>\n",
       "      <th>9</th>\n",
       "      <td>3</td>\n",
       "      <td>distance</td>\n",
       "      <td>1</td>\n",
       "      <td>0.890605</td>\n",
       "    </tr>\n",
       "    <tr>\n",
       "      <th>15</th>\n",
       "      <td>5</td>\n",
       "      <td>distance</td>\n",
       "      <td>1</td>\n",
       "      <td>0.878164</td>\n",
       "    </tr>\n",
       "    <tr>\n",
       "      <th>6</th>\n",
       "      <td>3</td>\n",
       "      <td>uniform</td>\n",
       "      <td>1</td>\n",
       "      <td>0.877449</td>\n",
       "    </tr>\n",
       "    <tr>\n",
       "      <th>4</th>\n",
       "      <td>2</td>\n",
       "      <td>distance</td>\n",
       "      <td>2</td>\n",
       "      <td>0.875161</td>\n",
       "    </tr>\n",
       "  </tbody>\n",
       "</table>\n",
       "</div>"
      ],
      "text/plain": [
       "    n_neighbors   weights  p  accuracy\n",
       "3             2  distance  1  0.901330\n",
       "9             3  distance  1  0.890605\n",
       "15            5  distance  1  0.878164\n",
       "6             3   uniform  1  0.877449\n",
       "4             2  distance  2  0.875161"
      ]
     },
     "execution_count": 43,
     "metadata": {},
     "output_type": "execute_result"
    }
   ],
   "source": [
    "knn_grid_search = {\n",
    "    'n_neighbors': [2, 3, 5, 7, 10],\n",
    "    'weights': ['uniform', 'distance'],\n",
    "    #'algorithm': ['ball_tree', 'kd_tree', 'brute'],\n",
    "    'p': [1, 2, 3],\n",
    "}\n",
    "knn_params = []\n",
    "\n",
    "for nn in knn_grid_search['n_neighbors']:\n",
    "    for w in knn_grid_search['weights']:\n",
    "        #for a in knn_grid_search['algorithm']:\n",
    "        for p in knn_grid_search['p']:\n",
    "            print(\"NN: \" + str(nn) + \"  W: \" + w + \"  P: \" + str(p) + \"....  \", end = '')\n",
    "            model = KNeighborsClassifier(n_neighbors=nn, weights=w, p=p)\n",
    "            acc = sum(cross_val_score(model, X_train, y_train, cv=3)) / 3\n",
    "            knn_params.append([nn, w, p, acc])\n",
    "            print(\" Done (\" + str(acc) + \")\")\n",
    "            \n",
    "knn_params_df = pd.DataFrame(data=knn_params, columns=['n_neighbors', 'weights', 'p', 'accuracy'])\n",
    "knn_params_df = knn_params_df.sort_values('accuracy', ascending=False)\n",
    "knn_params_df.head()"
   ]
  },
  {
   "cell_type": "code",
   "execution_count": 49,
   "id": "309403d5",
   "metadata": {},
   "outputs": [
    {
     "name": "stdout",
     "output_type": "stream",
     "text": [
      "Accuracy: 0.923923923923924\n"
     ]
    },
    {
     "data": {
      "text/plain": [
       "<sklearn.metrics._plot.confusion_matrix.ConfusionMatrixDisplay at 0x155c5dd60>"
      ]
     },
     "execution_count": 49,
     "metadata": {},
     "output_type": "execute_result"
    },
    {
     "data": {
      "image/png": "[encoded data removed]",
      "text/plain": [
       "<Figure size 432x288 with 2 Axes>"
      ]
     },
     "metadata": {
      "needs_background": "light"
     },
     "output_type": "display_data"
    }
   ],
   "source": [
    "best_knn_params = knn_params_df.iloc[0]\n",
    "best_knn_model = KNeighborsClassifier(n_neighbors=best_knn_params.n_neighbors,\n",
    "                                      weights=best_knn_params.weights,\n",
    "                                      p=best_knn_params.p)\n",
    "best_knn_model.fit(X_train, y_train)\n",
    "best_knn_pred = best_knn_model.predict(X_test)\n",
    "best_knn_acc = accuracy_score(y_test, best_knn_pred)\n",
    "print(\"Accuracy: \" + str(best_knn_acc))\n",
    "\n",
    "cm = confusion_matrix(y_test, best_knn_pred)\n",
    "disp = ConfusionMatrixDisplay(confusion_matrix=cm)\n",
    "disp.plot()"
   ]
  },
  {
   "cell_type": "markdown",
   "id": "73e863da",
   "metadata": {},
   "source": [
    "## 4.4 - Neural Network fine tuning"
   ]
  },
  {
   "cell_type": "code",
   "execution_count": 69,
   "id": "25ca3da9",
   "metadata": {},
   "outputs": [],
   "source": [
    "nn_best_params = []"
   ]
  },
  {
   "cell_type": "code",
   "execution_count": 98,
   "id": "bc234a5c",
   "metadata": {},
   "outputs": [
    {
     "name": "stdout",
     "output_type": "stream",
     "text": [
      "Model: \"sequential_21\"\n",
      "_________________________________________________________________\n",
      "Layer (type)                 Output Shape              Param #   \n",
      "=================================================================\n",
      "dense_111 (Dense)            (None, 512)               29696     \n",
      "_________________________________________________________________\n",
      "dropout_90 (Dropout)         (None, 512)               0         \n",
      "_________________________________________________________________\n",
      "batch_normalization_90 (Batc (None, 512)               2048      \n",
      "_________________________________________________________________\n",
      "dense_112 (Dense)            (None, 600)               307800    \n",
      "_________________________________________________________________\n",
      "dropout_91 (Dropout)         (None, 600)               0         \n",
      "_________________________________________________________________\n",
      "batch_normalization_91 (Batc (None, 600)               2400      \n",
      "_________________________________________________________________\n",
      "dense_113 (Dense)            (None, 256)               153856    \n",
      "_________________________________________________________________\n",
      "dropout_92 (Dropout)         (None, 256)               0         \n",
      "_________________________________________________________________\n",
      "batch_normalization_92 (Batc (None, 256)               1024      \n",
      "_________________________________________________________________\n",
      "dense_114 (Dense)            (None, 128)               32896     \n",
      "_________________________________________________________________\n",
      "dropout_93 (Dropout)         (None, 128)               0         \n",
      "_________________________________________________________________\n",
      "batch_normalization_93 (Batc (None, 128)               512       \n",
      "_________________________________________________________________\n",
      "dense_115 (Dense)            (None, 64)                8256      \n",
      "_________________________________________________________________\n",
      "dropout_94 (Dropout)         (None, 64)                0         \n",
      "_________________________________________________________________\n",
      "batch_normalization_94 (Batc (None, 64)                256       \n",
      "_________________________________________________________________\n",
      "dense_116 (Dense)            (None, 10)                650       \n",
      "=================================================================\n",
      "Total params: 539,394\n",
      "Trainable params: 536,274\n",
      "Non-trainable params: 3,120\n",
      "_________________________________________________________________\n",
      "Epoch 1/1000\n",
      "219/219 [==============================] - 3s 7ms/step - loss: 1.6700 - accuracy: 0.4279 - val_loss: 1.0175 - val_accuracy: 0.6644\n",
      "Epoch 2/1000\n",
      "219/219 [==============================] - 1s 5ms/step - loss: 1.2011 - accuracy: 0.5962 - val_loss: 0.8136 - val_accuracy: 0.7345\n",
      "Epoch 3/1000\n",
      "219/219 [==============================] - 1s 6ms/step - loss: 1.0112 - accuracy: 0.6718 - val_loss: 0.7523 - val_accuracy: 0.7418\n",
      "Epoch 4/1000\n",
      "219/219 [==============================] - 1s 6ms/step - loss: 0.9003 - accuracy: 0.7091 - val_loss: 0.6481 - val_accuracy: 0.7965\n",
      "Epoch 5/1000\n",
      "219/219 [==============================] - 1s 6ms/step - loss: 0.8150 - accuracy: 0.7344 - val_loss: 0.5989 - val_accuracy: 0.8005\n",
      "Epoch 6/1000\n",
      "219/219 [==============================] - 1s 6ms/step - loss: 0.7515 - accuracy: 0.7610 - val_loss: 0.5587 - val_accuracy: 0.8125\n",
      "Epoch 7/1000\n",
      "219/219 [==============================] - 1s 6ms/step - loss: 0.7038 - accuracy: 0.7769 - val_loss: 0.5665 - val_accuracy: 0.8192\n",
      "Epoch 8/1000\n",
      "219/219 [==============================] - 1s 6ms/step - loss: 0.6615 - accuracy: 0.7886 - val_loss: 0.5236 - val_accuracy: 0.8312\n",
      "Epoch 9/1000\n",
      "219/219 [==============================] - 1s 6ms/step - loss: 0.6150 - accuracy: 0.8058 - val_loss: 0.5134 - val_accuracy: 0.8259\n",
      "Epoch 10/1000\n",
      "219/219 [==============================] - 1s 6ms/step - loss: 0.5700 - accuracy: 0.8221 - val_loss: 0.4771 - val_accuracy: 0.8472\n",
      "Epoch 11/1000\n",
      "219/219 [==============================] - 1s 6ms/step - loss: 0.5108 - accuracy: 0.8413 - val_loss: 0.4916 - val_accuracy: 0.8432\n",
      "Epoch 12/1000\n",
      "219/219 [==============================] - 1s 6ms/step - loss: 0.5005 - accuracy: 0.8444 - val_loss: 0.4743 - val_accuracy: 0.8506\n",
      "Epoch 13/1000\n",
      "219/219 [==============================] - 1s 6ms/step - loss: 0.5038 - accuracy: 0.8424 - val_loss: 0.4516 - val_accuracy: 0.8586\n",
      "Epoch 14/1000\n",
      "219/219 [==============================] - 1s 6ms/step - loss: 0.4560 - accuracy: 0.8591 - val_loss: 0.4073 - val_accuracy: 0.8732\n",
      "Epoch 15/1000\n",
      "219/219 [==============================] - 1s 6ms/step - loss: 0.4395 - accuracy: 0.8634 - val_loss: 0.4009 - val_accuracy: 0.8652\n",
      "Epoch 16/1000\n",
      "219/219 [==============================] - 1s 6ms/step - loss: 0.4159 - accuracy: 0.8684 - val_loss: 0.4220 - val_accuracy: 0.8679\n",
      "Epoch 17/1000\n",
      "219/219 [==============================] - 1s 6ms/step - loss: 0.3879 - accuracy: 0.8787 - val_loss: 0.3784 - val_accuracy: 0.8773\n",
      "Epoch 18/1000\n",
      "219/219 [==============================] - 2s 7ms/step - loss: 0.3786 - accuracy: 0.8857 - val_loss: 0.3539 - val_accuracy: 0.8873\n",
      "Epoch 19/1000\n",
      "219/219 [==============================] - 1s 6ms/step - loss: 0.3852 - accuracy: 0.8816 - val_loss: 0.3330 - val_accuracy: 0.8939\n",
      "Epoch 20/1000\n",
      "219/219 [==============================] - 1s 6ms/step - loss: 0.3647 - accuracy: 0.8870 - val_loss: 0.3643 - val_accuracy: 0.8866\n",
      "Epoch 21/1000\n",
      "219/219 [==============================] - 1s 7ms/step - loss: 0.3483 - accuracy: 0.8883 - val_loss: 0.3451 - val_accuracy: 0.8879\n",
      "Epoch 22/1000\n",
      "219/219 [==============================] - 2s 8ms/step - loss: 0.3458 - accuracy: 0.8889 - val_loss: 0.3325 - val_accuracy: 0.8993\n",
      "Epoch 23/1000\n",
      "219/219 [==============================] - 2s 7ms/step - loss: 0.3271 - accuracy: 0.8990 - val_loss: 0.3599 - val_accuracy: 0.8933\n",
      "Epoch 24/1000\n",
      "219/219 [==============================] - 2s 7ms/step - loss: 0.3200 - accuracy: 0.9025 - val_loss: 0.3305 - val_accuracy: 0.8999\n",
      "Epoch 25/1000\n",
      "219/219 [==============================] - 2s 7ms/step - loss: 0.2944 - accuracy: 0.9076 - val_loss: 0.3339 - val_accuracy: 0.8966\n",
      "Epoch 26/1000\n",
      "219/219 [==============================] - 1s 7ms/step - loss: 0.3084 - accuracy: 0.9075 - val_loss: 0.3755 - val_accuracy: 0.8806\n",
      "Epoch 27/1000\n",
      "219/219 [==============================] - 1s 6ms/step - loss: 0.2859 - accuracy: 0.9121 - val_loss: 0.3298 - val_accuracy: 0.8933\n",
      "Epoch 28/1000\n",
      "219/219 [==============================] - 1s 6ms/step - loss: 0.2957 - accuracy: 0.9072 - val_loss: 0.3123 - val_accuracy: 0.8986\n",
      "Epoch 29/1000\n",
      "219/219 [==============================] - 1s 7ms/step - loss: 0.2986 - accuracy: 0.9070 - val_loss: 0.3169 - val_accuracy: 0.9013\n",
      "Epoch 30/1000\n",
      "219/219 [==============================] - 1s 6ms/step - loss: 0.2681 - accuracy: 0.9152 - val_loss: 0.3282 - val_accuracy: 0.9006\n",
      "Epoch 31/1000\n",
      "219/219 [==============================] - 1s 7ms/step - loss: 0.2793 - accuracy: 0.9151 - val_loss: 0.3338 - val_accuracy: 0.9039\n",
      "Epoch 32/1000\n",
      "219/219 [==============================] - 1s 7ms/step - loss: 0.2611 - accuracy: 0.9258 - val_loss: 0.3092 - val_accuracy: 0.9079\n",
      "Epoch 33/1000\n",
      "219/219 [==============================] - 1s 6ms/step - loss: 0.2790 - accuracy: 0.9163 - val_loss: 0.2995 - val_accuracy: 0.9073\n",
      "Epoch 34/1000\n",
      "219/219 [==============================] - 1s 6ms/step - loss: 0.2441 - accuracy: 0.9252 - val_loss: 0.2793 - val_accuracy: 0.9066\n",
      "Epoch 35/1000\n",
      "219/219 [==============================] - 1s 6ms/step - loss: 0.2515 - accuracy: 0.9271 - val_loss: 0.3271 - val_accuracy: 0.9033\n",
      "Epoch 36/1000\n",
      "219/219 [==============================] - 1s 6ms/step - loss: 0.2392 - accuracy: 0.9251 - val_loss: 0.3334 - val_accuracy: 0.8999\n",
      "Epoch 37/1000\n",
      "219/219 [==============================] - 1s 7ms/step - loss: 0.2496 - accuracy: 0.9256 - val_loss: 0.3079 - val_accuracy: 0.9053\n",
      "Epoch 38/1000\n",
      "219/219 [==============================] - 1s 6ms/step - loss: 0.2386 - accuracy: 0.9306 - val_loss: 0.3086 - val_accuracy: 0.9126\n",
      "Epoch 39/1000\n",
      "219/219 [==============================] - 1s 6ms/step - loss: 0.2127 - accuracy: 0.9328 - val_loss: 0.2759 - val_accuracy: 0.9133\n",
      "Epoch 40/1000\n"
     ]
    },
    {
     "name": "stdout",
     "output_type": "stream",
     "text": [
      "219/219 [==============================] - 1s 6ms/step - loss: 0.2256 - accuracy: 0.9334 - val_loss: 0.2789 - val_accuracy: 0.9173\n",
      "Epoch 41/1000\n",
      "219/219 [==============================] - 1s 6ms/step - loss: 0.2245 - accuracy: 0.9309 - val_loss: 0.2931 - val_accuracy: 0.9159\n",
      "Epoch 42/1000\n",
      "219/219 [==============================] - 1s 7ms/step - loss: 0.2308 - accuracy: 0.9289 - val_loss: 0.2959 - val_accuracy: 0.9099\n",
      "Epoch 43/1000\n",
      "219/219 [==============================] - 1s 6ms/step - loss: 0.2073 - accuracy: 0.9369 - val_loss: 0.2953 - val_accuracy: 0.9139\n",
      "Epoch 44/1000\n",
      "219/219 [==============================] - 1s 7ms/step - loss: 0.1983 - accuracy: 0.9401 - val_loss: 0.2784 - val_accuracy: 0.9159\n",
      "Epoch 45/1000\n",
      "219/219 [==============================] - 1s 6ms/step - loss: 0.2016 - accuracy: 0.9414 - val_loss: 0.3092 - val_accuracy: 0.9099\n",
      "Epoch 46/1000\n",
      "219/219 [==============================] - 1s 6ms/step - loss: 0.2129 - accuracy: 0.9356 - val_loss: 0.2749 - val_accuracy: 0.9166\n",
      "Epoch 47/1000\n",
      "219/219 [==============================] - 1s 6ms/step - loss: 0.2045 - accuracy: 0.9425 - val_loss: 0.2997 - val_accuracy: 0.9079\n",
      "Epoch 48/1000\n",
      "219/219 [==============================] - 1s 6ms/step - loss: 0.2132 - accuracy: 0.9382 - val_loss: 0.2905 - val_accuracy: 0.9186\n",
      "Epoch 49/1000\n",
      "219/219 [==============================] - 1s 6ms/step - loss: 0.2199 - accuracy: 0.9351 - val_loss: 0.2745 - val_accuracy: 0.9146\n",
      "Epoch 50/1000\n",
      "219/219 [==============================] - 1s 6ms/step - loss: 0.1846 - accuracy: 0.9442 - val_loss: 0.2694 - val_accuracy: 0.9179\n",
      "Epoch 51/1000\n",
      "219/219 [==============================] - 1s 6ms/step - loss: 0.2028 - accuracy: 0.9389 - val_loss: 0.2647 - val_accuracy: 0.9233\n",
      "Epoch 52/1000\n",
      "219/219 [==============================] - 1s 7ms/step - loss: 0.1972 - accuracy: 0.9438 - val_loss: 0.2768 - val_accuracy: 0.9193\n",
      "Epoch 53/1000\n",
      "219/219 [==============================] - 1s 6ms/step - loss: 0.1959 - accuracy: 0.9405 - val_loss: 0.2711 - val_accuracy: 0.9179\n",
      "Epoch 54/1000\n",
      "219/219 [==============================] - 1s 6ms/step - loss: 0.1821 - accuracy: 0.9457 - val_loss: 0.2621 - val_accuracy: 0.9226\n",
      "Epoch 55/1000\n",
      "219/219 [==============================] - 1s 6ms/step - loss: 0.1844 - accuracy: 0.9439 - val_loss: 0.2634 - val_accuracy: 0.9199\n",
      "Epoch 56/1000\n",
      "219/219 [==============================] - 1s 6ms/step - loss: 0.1754 - accuracy: 0.9449 - val_loss: 0.2900 - val_accuracy: 0.9199\n",
      "Epoch 57/1000\n",
      "219/219 [==============================] - 1s 6ms/step - loss: 0.1865 - accuracy: 0.9421 - val_loss: 0.2760 - val_accuracy: 0.9179\n",
      "Epoch 58/1000\n",
      "219/219 [==============================] - 1s 6ms/step - loss: 0.1723 - accuracy: 0.9479 - val_loss: 0.2618 - val_accuracy: 0.9199\n",
      "Epoch 59/1000\n",
      "219/219 [==============================] - 1s 6ms/step - loss: 0.1735 - accuracy: 0.9467 - val_loss: 0.2749 - val_accuracy: 0.9233\n",
      "Epoch 60/1000\n",
      "219/219 [==============================] - 1s 6ms/step - loss: 0.1729 - accuracy: 0.9484 - val_loss: 0.2626 - val_accuracy: 0.9239\n",
      "Epoch 61/1000\n",
      "219/219 [==============================] - 1s 6ms/step - loss: 0.1738 - accuracy: 0.9462 - val_loss: 0.2668 - val_accuracy: 0.9213\n",
      "Epoch 62/1000\n",
      "219/219 [==============================] - 1s 6ms/step - loss: 0.1575 - accuracy: 0.9511 - val_loss: 0.2722 - val_accuracy: 0.9206\n",
      "Epoch 63/1000\n",
      "219/219 [==============================] - 1s 7ms/step - loss: 0.1799 - accuracy: 0.9447 - val_loss: 0.2519 - val_accuracy: 0.9239\n",
      "Epoch 64/1000\n",
      "219/219 [==============================] - 1s 7ms/step - loss: 0.1755 - accuracy: 0.9472 - val_loss: 0.2658 - val_accuracy: 0.9193\n",
      "Epoch 65/1000\n",
      "219/219 [==============================] - 1s 7ms/step - loss: 0.1817 - accuracy: 0.9469 - val_loss: 0.2694 - val_accuracy: 0.9253\n",
      "Epoch 66/1000\n",
      "219/219 [==============================] - 1s 7ms/step - loss: 0.1683 - accuracy: 0.9492 - val_loss: 0.2634 - val_accuracy: 0.9266\n",
      "Epoch 67/1000\n",
      "219/219 [==============================] - 1s 6ms/step - loss: 0.1710 - accuracy: 0.9461 - val_loss: 0.2628 - val_accuracy: 0.9193\n",
      "Epoch 68/1000\n",
      "219/219 [==============================] - 1s 6ms/step - loss: 0.1596 - accuracy: 0.9502 - val_loss: 0.2797 - val_accuracy: 0.9179\n",
      "Epoch 69/1000\n",
      "219/219 [==============================] - 1s 7ms/step - loss: 0.1642 - accuracy: 0.9505 - val_loss: 0.2659 - val_accuracy: 0.9199\n",
      "Epoch 70/1000\n",
      "219/219 [==============================] - 1s 7ms/step - loss: 0.1731 - accuracy: 0.9501 - val_loss: 0.2535 - val_accuracy: 0.9286\n",
      "Epoch 71/1000\n",
      "219/219 [==============================] - 1s 7ms/step - loss: 0.1507 - accuracy: 0.9544 - val_loss: 0.2699 - val_accuracy: 0.9266\n",
      "Epoch 72/1000\n",
      "219/219 [==============================] - 1s 7ms/step - loss: 0.1607 - accuracy: 0.9527 - val_loss: 0.2692 - val_accuracy: 0.9219\n",
      "Epoch 73/1000\n",
      "219/219 [==============================] - 1s 7ms/step - loss: 0.1666 - accuracy: 0.9537 - val_loss: 0.2675 - val_accuracy: 0.9246\n",
      "Accuracy: 0.9192256341789052\n"
     ]
    }
   ],
   "source": [
    "# Define model\n",
    "nn_model = keras.Sequential([\n",
    "    Dense(512, activation='relu', input_shape=[len(X_train.columns)]),\n",
    "    Dropout(0.2),\n",
    "    BatchNormalization(),\n",
    "    Dense(600, activation='relu'),\n",
    "    Dropout(0.3),\n",
    "    BatchNormalization(),\n",
    "    Dense(256, activation='relu'),\n",
    "    Dropout(0.2),\n",
    "    BatchNormalization(),\n",
    "    Dense(128, activation='relu'),\n",
    "    Dropout(0.3),\n",
    "    BatchNormalization(),\n",
    "    Dense(64, activation='relu'),\n",
    "    Dropout(0.3),\n",
    "    BatchNormalization(),\n",
    "    Dense(10, activation='softmax')\n",
    "])\n",
    "nn_model.compile(metrics=['accuracy'],\n",
    "                    loss='sparse_categorical_crossentropy',\n",
    "                    optimizer=keras.optimizers.RMSprop(learning_rate=0.001))\n",
    "nn_model.summary()\n",
    "\n",
    "early_stopping = EarlyStopping(\n",
    "    patience=10,\n",
    "    min_delta=0.001,\n",
    "    restore_best_weights=True\n",
    ")\n",
    "history = nn_model.fit(\n",
    "    X_train, y_train,\n",
    "    validation_data=(X_val, y_val),\n",
    "    epochs=1000,\n",
    "    callbacks=[early_stopping])\n",
    "\n",
    "nn_prediction_distributions = nn_model.predict(_X_test)\n",
    "nn_prediction = []\n",
    "for i in range(len(nn_prediction_distributions)):\n",
    "    nn_prediction.append(np.argmax(nn_prediction_distributions[i]))\n",
    "    \n",
    "nn_acc = accuracy_score(_y_test, nn_prediction)\n",
    "print(\"Accuracy: \" + str(nn_acc))\n",
    "#nn_best_params.append(['ftrl', nn_acc])"
   ]
  },
  {
   "cell_type": "code",
   "execution_count": 99,
   "id": "da3be1d1",
   "metadata": {},
   "outputs": [
    {
     "data": {
      "text/plain": [
       "<sklearn.metrics._plot.confusion_matrix.ConfusionMatrixDisplay at 0x15940ad30>"
      ]
     },
     "execution_count": 99,
     "metadata": {},
     "output_type": "execute_result"
    },
    {
     "data": {
      "image/png": "[encoded data removed]",
      "text/plain": [
       "<Figure size 432x288 with 1 Axes>"
      ]
     },
     "metadata": {
      "needs_background": "light"
     },
     "output_type": "display_data"
    },
    {
     "data": {
      "image/png": "[encoded data removed]",
      "text/plain": [
       "<Figure size 432x288 with 1 Axes>"
      ]
     },
     "metadata": {
      "needs_background": "light"
     },
     "output_type": "display_data"
    },
    {
     "data": {
      "image/png": "[encoded data removed]",
      "text/plain": [
       "<Figure size 432x288 with 2 Axes>"
      ]
     },
     "metadata": {
      "needs_background": "light"
     },
     "output_type": "display_data"
    }
   ],
   "source": [
    "history_frame = pd.DataFrame(history.history)\n",
    "history_frame.loc[:, ['loss', 'val_loss']].plot()\n",
    "history_frame.loc[:, ['accuracy', 'val_accuracy']].plot();\n",
    "nn_prediction_distributions = nn_model.predict(_X_test)\n",
    "nn_prediction = []\n",
    "for i in range(len(nn_prediction_distributions)):\n",
    "    nn_prediction.append(np.argmax(nn_prediction_distributions[i]))\n",
    "    \n",
    "cm = confusion_matrix(_y_test, nn_prediction)\n",
    "disp = ConfusionMatrixDisplay(confusion_matrix=cm, display_labels=rf_model.classes_)\n",
    "disp.plot()"
   ]
  },
  {
   "cell_type": "code",
   "execution_count": 86,
   "id": "9d7456a6",
   "metadata": {},
   "outputs": [
    {
     "data": {
      "text/html": [
       "<div>\n",
       "<style scoped>\n",
       "    .dataframe tbody tr th:only-of-type {\n",
       "        vertical-align: middle;\n",
       "    }\n",
       "\n",
       "    .dataframe tbody tr th {\n",
       "        vertical-align: top;\n",
       "    }\n",
       "\n",
       "    .dataframe thead th {\n",
       "        text-align: right;\n",
       "    }\n",
       "</style>\n",
       "<table border=\"1\" class=\"dataframe\">\n",
       "  <thead>\n",
       "    <tr style=\"text-align: right;\">\n",
       "      <th></th>\n",
       "      <th>optimizer</th>\n",
       "      <th>accuracy</th>\n",
       "    </tr>\n",
       "  </thead>\n",
       "  <tbody>\n",
       "    <tr>\n",
       "      <th>0</th>\n",
       "      <td>adam</td>\n",
       "      <td>0.899866</td>\n",
       "    </tr>\n",
       "    <tr>\n",
       "      <th>1</th>\n",
       "      <td>sgd</td>\n",
       "      <td>0.898531</td>\n",
       "    </tr>\n",
       "    <tr>\n",
       "      <th>2</th>\n",
       "      <td>adamax</td>\n",
       "      <td>0.907877</td>\n",
       "    </tr>\n",
       "    <tr>\n",
       "      <th>3</th>\n",
       "      <td>rmsprop</td>\n",
       "      <td>0.911215</td>\n",
       "    </tr>\n",
       "    <tr>\n",
       "      <th>4</th>\n",
       "      <td>nadam</td>\n",
       "      <td>0.909212</td>\n",
       "    </tr>\n",
       "    <tr>\n",
       "      <th>5</th>\n",
       "      <td>ftrl</td>\n",
       "      <td>0.090788</td>\n",
       "    </tr>\n",
       "  </tbody>\n",
       "</table>\n",
       "</div>"
      ],
      "text/plain": [
       "  optimizer  accuracy\n",
       "0      adam  0.899866\n",
       "1       sgd  0.898531\n",
       "2    adamax  0.907877\n",
       "3   rmsprop  0.911215\n",
       "4     nadam  0.909212\n",
       "5      ftrl  0.090788"
      ]
     },
     "execution_count": 86,
     "metadata": {},
     "output_type": "execute_result"
    }
   ],
   "source": [
    "nn_best_params_df = pd.DataFrame(data=nn_best_params, columns=['optimizer', 'accuracy'])\n",
    "nn_best_params_df"
   ]
  },
  {
   "cell_type": "markdown",
   "id": "e60f2c9a",
   "metadata": {},
   "source": [
    "As shown in the table above, the best optimizer seems to be the 'rmsprop'."
   ]
  },
  {
   "cell_type": "markdown",
   "id": "1e669e2c",
   "metadata": {},
   "source": [
    "## 4.5 - Convolutional Neural Network (CNN) fine tuning"
   ]
  },
  {
   "cell_type": "code",
   "execution_count": 102,
   "id": "3155c7f2",
   "metadata": {},
   "outputs": [
    {
     "name": "stdout",
     "output_type": "stream",
     "text": [
      "Model: \"sequential_24\"\n",
      "_________________________________________________________________\n",
      "Layer (type)                 Output Shape              Param #   \n",
      "=================================================================\n",
      "conv1d_5 (Conv1D)            (None, 57, 128)           768       \n",
      "_________________________________________________________________\n",
      "conv1d_6 (Conv1D)            (None, 55, 128)           49280     \n",
      "_________________________________________________________________\n",
      "conv1d_7 (Conv1D)            (None, 53, 128)           49280     \n",
      "_________________________________________________________________\n",
      "batch_normalization_104 (Bat (None, 53, 128)           512       \n",
      "_________________________________________________________________\n",
      "flatten_2 (Flatten)          (None, 6784)              0         \n",
      "_________________________________________________________________\n",
      "dense_125 (Dense)            (None, 256)               1736960   \n",
      "_________________________________________________________________\n",
      "dropout_101 (Dropout)        (None, 256)               0         \n",
      "_________________________________________________________________\n",
      "batch_normalization_105 (Bat (None, 256)               1024      \n",
      "_________________________________________________________________\n",
      "dense_126 (Dense)            (None, 128)               32896     \n",
      "_________________________________________________________________\n",
      "dropout_102 (Dropout)        (None, 128)               0         \n",
      "_________________________________________________________________\n",
      "batch_normalization_106 (Bat (None, 128)               512       \n",
      "_________________________________________________________________\n",
      "dense_127 (Dense)            (None, 10)                1290      \n",
      "=================================================================\n",
      "Total params: 1,872,522\n",
      "Trainable params: 1,871,498\n",
      "Non-trainable params: 1,024\n",
      "_________________________________________________________________\n",
      "Epoch 1/1000\n",
      "219/219 [==============================] - 9s 36ms/step - loss: 1.1734 - accuracy: 0.6135 - val_loss: 1.3337 - val_accuracy: 0.6077\n",
      "Epoch 2/1000\n",
      "219/219 [==============================] - 6s 26ms/step - loss: 0.7143 - accuracy: 0.7595 - val_loss: 0.6911 - val_accuracy: 0.7752\n",
      "Epoch 3/1000\n",
      "219/219 [==============================] - 6s 28ms/step - loss: 0.4823 - accuracy: 0.8404 - val_loss: 0.5491 - val_accuracy: 0.8306\n",
      "Epoch 4/1000\n",
      "219/219 [==============================] - 6s 27ms/step - loss: 0.3580 - accuracy: 0.8830 - val_loss: 0.4227 - val_accuracy: 0.8639\n",
      "Epoch 5/1000\n",
      "219/219 [==============================] - 6s 28ms/step - loss: 0.2715 - accuracy: 0.9128 - val_loss: 0.5202 - val_accuracy: 0.8432\n",
      "Epoch 6/1000\n",
      "219/219 [==============================] - 6s 28ms/step - loss: 0.2078 - accuracy: 0.9348 - val_loss: 0.3774 - val_accuracy: 0.8853\n",
      "Epoch 7/1000\n",
      "219/219 [==============================] - 6s 29ms/step - loss: 0.1687 - accuracy: 0.9428 - val_loss: 0.3951 - val_accuracy: 0.8846\n",
      "Epoch 8/1000\n",
      "219/219 [==============================] - 6s 29ms/step - loss: 0.1356 - accuracy: 0.9562 - val_loss: 0.3740 - val_accuracy: 0.8859\n",
      "Epoch 9/1000\n",
      "219/219 [==============================] - 6s 28ms/step - loss: 0.1201 - accuracy: 0.9594 - val_loss: 0.4080 - val_accuracy: 0.8719\n",
      "Epoch 10/1000\n",
      "219/219 [==============================] - 6s 27ms/step - loss: 0.1033 - accuracy: 0.9670 - val_loss: 0.4389 - val_accuracy: 0.8919\n",
      "Epoch 11/1000\n",
      "219/219 [==============================] - 6s 28ms/step - loss: 0.0923 - accuracy: 0.9693 - val_loss: 0.4097 - val_accuracy: 0.8959\n",
      "Epoch 12/1000\n",
      "219/219 [==============================] - 6s 29ms/step - loss: 0.0926 - accuracy: 0.9700 - val_loss: 0.3668 - val_accuracy: 0.8993\n",
      "Epoch 13/1000\n",
      "219/219 [==============================] - 6s 29ms/step - loss: 0.0842 - accuracy: 0.9730 - val_loss: 0.4097 - val_accuracy: 0.8939\n",
      "Epoch 14/1000\n",
      "219/219 [==============================] - 6s 28ms/step - loss: 0.0789 - accuracy: 0.9754 - val_loss: 0.3892 - val_accuracy: 0.8959\n",
      "Epoch 15/1000\n",
      "219/219 [==============================] - 6s 28ms/step - loss: 0.0583 - accuracy: 0.9817 - val_loss: 0.4852 - val_accuracy: 0.8933\n",
      "Epoch 16/1000\n",
      "219/219 [==============================] - 6s 27ms/step - loss: 0.0631 - accuracy: 0.9811 - val_loss: 0.5587 - val_accuracy: 0.8959\n",
      "Epoch 17/1000\n",
      "219/219 [==============================] - 6s 28ms/step - loss: 0.0586 - accuracy: 0.9810 - val_loss: 0.5912 - val_accuracy: 0.8879\n",
      "Epoch 18/1000\n",
      "219/219 [==============================] - 6s 28ms/step - loss: 0.0572 - accuracy: 0.9820 - val_loss: 0.4176 - val_accuracy: 0.8953\n",
      "Epoch 19/1000\n",
      "219/219 [==============================] - 6s 27ms/step - loss: 0.0497 - accuracy: 0.9843 - val_loss: 0.4564 - val_accuracy: 0.9086\n",
      "Epoch 20/1000\n",
      "219/219 [==============================] - 6s 28ms/step - loss: 0.0556 - accuracy: 0.9833 - val_loss: 0.4437 - val_accuracy: 0.9039\n",
      "Epoch 21/1000\n",
      "219/219 [==============================] - 6s 28ms/step - loss: 0.0484 - accuracy: 0.9834 - val_loss: 0.4572 - val_accuracy: 0.8953\n",
      "Epoch 22/1000\n",
      "219/219 [==============================] - 6s 27ms/step - loss: 0.0466 - accuracy: 0.9846 - val_loss: 0.4777 - val_accuracy: 0.8919\n",
      "Epoch 23/1000\n",
      "219/219 [==============================] - 6s 28ms/step - loss: 0.0431 - accuracy: 0.9863 - val_loss: 0.4259 - val_accuracy: 0.8979\n",
      "Epoch 24/1000\n",
      "219/219 [==============================] - 7s 30ms/step - loss: 0.0454 - accuracy: 0.9846 - val_loss: 0.4823 - val_accuracy: 0.9046\n",
      "Epoch 25/1000\n",
      "219/219 [==============================] - 6s 30ms/step - loss: 0.0467 - accuracy: 0.9860 - val_loss: 0.4892 - val_accuracy: 0.9033\n",
      "Epoch 26/1000\n",
      "219/219 [==============================] - 6s 29ms/step - loss: 0.0465 - accuracy: 0.9873 - val_loss: 0.5309 - val_accuracy: 0.9073\n",
      "Epoch 27/1000\n",
      "219/219 [==============================] - 6s 28ms/step - loss: 0.0405 - accuracy: 0.9873 - val_loss: 0.4736 - val_accuracy: 0.8846\n",
      "Accuracy: 0.9032042723631508\n"
     ]
    }
   ],
   "source": [
    "# Define model\n",
    "cnn_X_train = np.array(X_train).reshape(X_train.shape[0], X_train.shape[1], 1)\n",
    "cnn_X_test = np.array(_X_test).reshape(_X_test.shape[0], _X_test.shape[1], 1)\n",
    "cnn_X_val = np.array(X_val).reshape(X_val.shape[0], X_val.shape[1], 1)\n",
    "\n",
    "cnn_model = keras.Sequential([\n",
    "    Conv1D(128, 5, activation='relu', padding='same', input_shape=(cnn_X_train.shape[1], 1)),\n",
    "    Conv1D(128, 3, activation='relu'),\n",
    "    Conv1D(128, 3, activation='relu'),\n",
    "    BatchNormalization(),\n",
    "    Flatten(),\n",
    "    Dense(256, activation='relu'),\n",
    "    Dropout(0.2),\n",
    "    BatchNormalization(),\n",
    "    Dense(128, activation='relu'),\n",
    "    Dropout(0.3),\n",
    "    BatchNormalization(),\n",
    "    Dense(10, activation='softmax')\n",
    "])\n",
    "cnn_model.compile(metrics=['accuracy'],\n",
    "                    loss='sparse_categorical_crossentropy',\n",
    "                    optimizer='rmsprop')\n",
    "cnn_model.summary()\n",
    "\n",
    "early_stopping = EarlyStopping(\n",
    "    patience=15,\n",
    "    min_delta=0.0005,\n",
    "    restore_best_weights=True\n",
    ")\n",
    "history = cnn_model.fit(\n",
    "    cnn_X_train, y_train,\n",
    "    validation_data=(cnn_X_val, y_val),\n",
    "    epochs=1000,\n",
    "    callbacks=[early_stopping])\n",
    "\n",
    "cnn_prediction_distributions = cnn_model.predict(cnn_X_test)\n",
    "cnn_prediction = []\n",
    "for i in range(len(cnn_prediction_distributions)):\n",
    "    cnn_prediction.append(np.argmax(cnn_prediction_distributions[i]))\n",
    "\n",
    "cnn_acc = accuracy_score(_y_test, cnn_prediction)\n",
    "print(\"Accuracy: \" + str(cnn_acc))"
   ]
  },
  {
   "cell_type": "code",
   "execution_count": 103,
   "id": "f4297f79",
   "metadata": {},
   "outputs": [
    {
     "data": {
      "text/plain": [
       "<sklearn.metrics._plot.confusion_matrix.ConfusionMatrixDisplay at 0x1565be790>"
      ]
     },
     "execution_count": 103,
     "metadata": {},
     "output_type": "execute_result"
    },
    {
     "data": {
      "image/png": "[encoded data removed]",
      "text/plain": [
       "<Figure size 432x288 with 1 Axes>"
      ]
     },
     "metadata": {
      "needs_background": "light"
     },
     "output_type": "display_data"
    },
    {
     "data": {
      "image/png": "[encoded data removed]",
      "text/plain": [
       "<Figure size 432x288 with 1 Axes>"
      ]
     },
     "metadata": {
      "needs_background": "light"
     },
     "output_type": "display_data"
    },
    {
     "data": {
      "image/png": "[encoded data removed]",
      "text/plain": [
       "<Figure size 432x288 with 2 Axes>"
      ]
     },
     "metadata": {
      "needs_background": "light"
     },
     "output_type": "display_data"
    }
   ],
   "source": [
    "history_frame = pd.DataFrame(history.history)\n",
    "history_frame.loc[:, ['loss', 'val_loss']].plot()\n",
    "history_frame.loc[:, ['accuracy', 'val_accuracy']].plot()\n",
    "\n",
    "cm = confusion_matrix(_y_test, cnn_prediction)\n",
    "disp = ConfusionMatrixDisplay(confusion_matrix=cm, display_labels=rf_model.classes_)\n",
    "disp.plot()"
   ]
  },
  {
   "cell_type": "markdown",
   "id": "8294ec5c",
   "metadata": {},
   "source": [
    "Even though the final accuracy isn't bad, this model tends to overfit, which doesn't happen with the previous model (Neural Network)"
   ]
  },
  {
   "cell_type": "markdown",
   "id": "fafbcec8",
   "metadata": {},
   "source": [
    "## 4.6 - Model's fine tuning evaluation"
   ]
  },
  {
   "cell_type": "code",
   "execution_count": 108,
   "id": "b088bded",
   "metadata": {},
   "outputs": [
    {
     "name": "stdout",
     "output_type": "stream",
     "text": [
      "  model  accuracy\n",
      "0   knn  0.923924\n",
      "1    nn  0.919226\n",
      "2   cnn  0.903204\n",
      "3   svm  0.890224\n",
      "4    rf  0.870871\n"
     ]
    },
    {
     "data": {
      "text/plain": [
       "<AxesSubplot:xlabel='model', ylabel='accuracy'>"
      ]
     },
     "execution_count": 108,
     "metadata": {},
     "output_type": "execute_result"
    },
    {
     "data": {
      "image/png": "[encoded data removed]",
      "text/plain": [
       "<Figure size 432x288 with 1 Axes>"
      ]
     },
     "metadata": {
      "needs_background": "light"
     },
     "output_type": "display_data"
    }
   ],
   "source": [
    "ft_model_eval_data = { 'knn': best_knn_acc, 'svm': best_svm_acc,\n",
    "                        'rf': best_rf_acc, 'nn': nn_acc, 'cnn': cnn_acc }\n",
    "\n",
    "ft_model_eval_df = pd.DataFrame(data=list(ft_model_eval_data.items()), columns=['model', 'accuracy'])\n",
    "ft_model_eval_df = ft_model_eval_df.sort_values('accuracy', ascending=False).reset_index()\n",
    "print(ft_model_eval_df[['model', 'accuracy']])\n",
    "sns.barplot(x='model', y='accuracy', data=ft_model_eval_df)"
   ]
  },
  {
   "cell_type": "markdown",
   "id": "7bfc25a2",
   "metadata": {},
   "source": [
    "After tuning the different models carefully, we can conclude that the best models were the KNN and the Neural Network. Even though the CNN had 90% accuracy for the test set, it tends to overfit a lot, which is a problem. The SVM also appeared promising, but it didn't perform as well as the KNN and the NN. Finally, the Random Forest ensemble turned to be the worst model. We can hypothesise that this problem can't be efficiently solved by resorting \"simple logic\" based models."
   ]
  }
 ],
 "metadata": {
  "kernelspec": {
   "display_name": "Python 3",
   "language": "python",
   "name": "python3"
  },
  "language_info": {
   "codemirror_mode": {
    "name": "ipython",
    "version": 3
   },
   "file_extension": ".py",
   "mimetype": "text/x-python",
   "name": "python",
   "nbconvert_exporter": "python",
   "pygments_lexer": "ipython3",
   "version": "3.8.2"
  }
 },
 "nbformat": 4,
 "nbformat_minor": 5
}
